{
 "cells": [
  {
   "cell_type": "markdown",
   "id": "b3b9b807",
   "metadata": {},
   "source": [
    "### Torchvision 常见模型\n",
    "- Classification\n",
    "- Detection\n",
    "- Segmentation"
   ]
  },
  {
   "cell_type": "code",
   "execution_count": null,
   "id": "ecbd5a9d",
   "metadata": {},
   "outputs": [],
   "source": [
    "# GoogLeNet model\n",
    "import torchvision.models as models\n",
    "googlenet = models.googlenet(pretrained=True, weights=GoogLeNet_Weights.DEFAULT)\n",
    "type(googlenet)"
   ]
  },
  {
   "cell_type": "code",
   "execution_count": null,
   "id": "ce52265d",
   "metadata": {},
   "outputs": [],
   "source": [
    "# Adjust model\n",
    "import torch\n",
    "import torchvision.models as models\n",
    "\n",
    "# Load pretraind model\n",
    "googlenet = models.googlenet(pretrained=True, weights=GoogLeNet_Weights.DEFAULT)\n",
    "\n",
    "# Get classfic layout input paramters\n",
    "fc_in_features = googlenet.fc.in_features\n",
    "print('fc_in_features:', fc_in_features)\n",
    "\n",
    "# GEt classfic layout output paramters\n",
    "fc_out_features = googlenet.fc.out_features\n",
    "print('fc_out_features:', fc_out_features)\n"
   ]
  },
  {
   "cell_type": "code",
   "execution_count": null,
   "id": "7bfab3f5",
   "metadata": {},
   "outputs": [],
   "source": []
  }
 ],
 "metadata": {
  "kernelspec": {
   "display_name": "Python 3 (ipykernel)",
   "language": "python",
   "name": "python3"
  },
  "language_info": {
   "codemirror_mode": {
    "name": "ipython",
    "version": 3
   },
   "file_extension": ".py",
   "mimetype": "text/x-python",
   "name": "python",
   "nbconvert_exporter": "python",
   "pygments_lexer": "ipython3",
   "version": "3.10.6"
  }
 },
 "nbformat": 4,
 "nbformat_minor": 5
}
