{
 "cells": [
  {
   "cell_type": "markdown",
   "id": "b3b9b807",
   "metadata": {},
   "source": [
    "### Torchvision 常见模型\n",
    "- Classification\n",
    "- Detection\n",
    "- Segmentation"
   ]
  },
  {
   "cell_type": "code",
   "execution_count": 6,
   "id": "ecbd5a9d",
   "metadata": {},
   "outputs": [
    {
     "data": {
      "text/plain": [
       "torchvision.models.googlenet.GoogLeNet"
      ]
     },
     "execution_count": 6,
     "metadata": {},
     "output_type": "execute_result"
    }
   ],
   "source": [
    "# GoogLeNet model\n",
    "import torchvision.models as models\n",
    "googlenet = models.googlenet(init_weights=True)\n",
    "type(googlenet)"
   ]
  },
  {
   "cell_type": "code",
   "execution_count": 12,
   "id": "ce52265d",
   "metadata": {},
   "outputs": [
    {
     "name": "stdout",
     "output_type": "stream",
     "text": [
      "fc_in_features: 1024\n",
      "fc_out_features: 1000\n",
      "--------------\n",
      "fc_in_features: 1024\n",
      "fc_out_features: 10\n"
     ]
    }
   ],
   "source": [
    "# Adjust model\n",
    "import torch\n",
    "import torchvision.models as models\n",
    "\n",
    "# Load pretraind model\n",
    "googlenet = models.googlenet(init_weights=True)\n",
    "\n",
    "# Get classfic layout input paramters\n",
    "fc_in_features = googlenet.fc.in_features\n",
    "print('fc_in_features:', fc_in_features)\n",
    "\n",
    "# Get classfic layout output paramters\n",
    "fc_out_features = googlenet.fc.out_features\n",
    "print('fc_out_features:', fc_out_features)\n",
    "\n",
    "# Change prepare traind model classfic number\n",
    "googlenet.fc = torch.nn.Linear(fc_in_features, 10)\n",
    "\n",
    "print('--------------')\n",
    "\n",
    "# Get classfic layout input paramters\n",
    "fc_in_features = googlenet.fc.in_features\n",
    "print('fc_in_features:', fc_in_features)\n",
    "\n",
    "# Get classfic layout output paramters\n",
    "fc_out_features = googlenet.fc.out_features\n",
    "print('fc_out_features:', fc_out_features)\n"
   ]
  },
  {
   "cell_type": "code",
   "execution_count": null,
   "id": "7bfab3f5",
   "metadata": {},
   "outputs": [],
   "source": []
  },
  {
   "cell_type": "code",
   "execution_count": null,
   "id": "07d10127",
   "metadata": {},
   "outputs": [],
   "source": []
  },
  {
   "cell_type": "code",
   "execution_count": null,
   "id": "b3cedbfd",
   "metadata": {},
   "outputs": [],
   "source": []
  },
  {
   "cell_type": "code",
   "execution_count": 31,
   "id": "663ed5ce",
   "metadata": {},
   "outputs": [],
   "source": [
    "# Make Grid show 32 mnist images\n",
    "import torchvision\n",
    "from torchvision import datasets\n",
    "from torchvision import transforms\n",
    "from torch.utils.data import DataLoader\n",
    "\n",
    "# Load Mnist dataset\n",
    "mnist_dataset = datasets.MNIST(root='/mnt/d/workspace/model/data',\n",
    "                             train=False,\n",
    "                             transform=transforms.ToTensor(),\n",
    "                             target_transform=None,\n",
    "                             download=False)\n",
    "\n"
   ]
  },
  {
   "cell_type": "code",
   "execution_count": 35,
   "id": "a1d7c78d",
   "metadata": {},
   "outputs": [
    {
     "name": "stdout",
     "output_type": "stream",
     "text": [
      "torch.Size([32, 1, 28, 28])\n"
     ]
    }
   ],
   "source": [
    "# Get 32 images with tensor\n",
    "tensor_dataloader = DataLoader(dataset=mnist_dataset, batch_size=32)\n",
    "\n",
    "data_iter = iter(tensor_dataloader)\n",
    "\n",
    "img_tensor, label_tensor = next(data_iter)\n",
    "print(img_tensor.shape)"
   ]
  },
  {
   "cell_type": "code",
   "execution_count": 40,
   "id": "f7aaf3ff",
   "metadata": {},
   "outputs": [
    {
     "data": {
      "image/png": "[encoded data removed]",
      "text/plain": [
       "<PIL.Image.Image image mode=RGB size=269x137>"
      ]
     },
     "metadata": {},
     "output_type": "display_data"
    }
   ],
   "source": [
    "# Make grid 32 images\n",
    "grid_tensor = torchvision.utils.make_grid(img_tensor, nrow=8, padding=5)\n",
    "grid_img = transforms.ToPILImage()(grid_tensor)\n",
    "display(grid_img)"
   ]
  },
  {
   "cell_type": "code",
   "execution_count": 41,
   "id": "765364cb",
   "metadata": {},
   "outputs": [],
   "source": [
    "# Save tensor to image\n",
    "torchvision.utils.save_image(grid_tensor, './images/grid.jpg')"
   ]
  },
  {
   "cell_type": "code",
   "execution_count": 46,
   "id": "72b2d4f6",
   "metadata": {},
   "outputs": [],
   "source": [
    "# Input list call grid save images\n",
    "torchvision.utils.save_image(img_tensor, './images/grid2.jpg', nrow=3, padding=2)"
   ]
  },
  {
   "cell_type": "code",
   "execution_count": 50,
   "id": "01b1c42e",
   "metadata": {},
   "outputs": [],
   "source": [
    "\n",
    "# vgg16net\n",
    "vgg16net = torchvision.models.vgg16(pretrained=True)"
   ]
  },
  {
   "cell_type": "code",
   "execution_count": null,
   "id": "1735147c",
   "metadata": {},
   "outputs": [],
   "source": []
  }
 ],
 "metadata": {
  "kernelspec": {
   "display_name": "Python 3 (ipykernel)",
   "language": "python",
   "name": "python3"
  },
  "language_info": {
   "codemirror_mode": {
    "name": "ipython",
    "version": 3
   },
   "file_extension": ".py",
   "mimetype": "text/x-python",
   "name": "python",
   "nbconvert_exporter": "python",
   "pygments_lexer": "ipython3",
   "version": "3.10.6"
  }
 },
 "nbformat": 4,
 "nbformat_minor": 5
}
