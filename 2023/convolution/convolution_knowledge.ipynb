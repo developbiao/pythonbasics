{
 "cells": [
  {
   "cell_type": "markdown",
   "id": "a4a2ba12",
   "metadata": {},
   "source": [
    "### Convolution Computer eyes"
   ]
  },
  {
   "cell_type": "code",
   "execution_count": 7,
   "id": "c5028e01",
   "metadata": {},
   "outputs": [
    {
     "name": "stdout",
     "output_type": "stream",
     "text": [
      "tensor([[[[4., 1., 7., 5.],\n",
      "          [4., 4., 2., 5.],\n",
      "          [7., 7., 2., 4.],\n",
      "          [1., 0., 2., 4.]]]])\n",
      "torch.Size([1, 1, 4, 4])\n"
     ]
    }
   ],
   "source": [
    "## Pytorch Convoluation\n",
    "import torch\n",
    "import torch.nn as nn\n",
    "\n",
    "input_feat = torch.tensor([[4, 1, 7, 5], [4, 4, 2, 5], [7, 7, 2, 4], [1, 0, 2, 4]],\n",
    "                         dtype=torch.float32).unsqueeze(0).unsqueeze(0)\n",
    "print(input_feat)\n",
    "print(input_feat.shape)"
   ]
  },
  {
   "cell_type": "code",
   "execution_count": 8,
   "id": "af902db2",
   "metadata": {},
   "outputs": [
    {
     "name": "stdout",
     "output_type": "stream",
     "text": [
      "Parameter containing:\n",
      "tensor([[[[-0.3284,  0.2079],\n",
      "          [-0.3301,  0.1613]]]], requires_grad=True)\n",
      "Parameter containing:\n",
      "tensor([-0.2808], requires_grad=True)\n"
     ]
    }
   ],
   "source": [
    "# Create 2 x 2 convolution\n",
    "conv2d = nn.Conv2d(1, 1, (2, 2), stride=1, padding='same', bias=True)\n",
    "# Random initilization paramters\n",
    "print(conv2d.weight)\n",
    "print(conv2d.bias)\n"
   ]
  },
  {
   "cell_type": "code",
   "execution_count": 10,
   "id": "fe6769a1",
   "metadata": {},
   "outputs": [
    {
     "name": "stdout",
     "output_type": "stream",
     "text": [
      "Parameter containing:\n",
      "tensor([[[[1., 0.],\n",
      "          [2., 1.]]]])\n",
      "Parameter containing:\n",
      "tensor([0.3621], requires_grad=True)\n"
     ]
    }
   ],
   "source": [
    "# Intervention on convolution kernel parameters\n",
    "conv2d = nn.Conv2d(1, 1, (2, 2), stride=1, padding='same', bias=True)\n",
    "# 卷积核要有四个维度（输入通道数，输出通道数，高，宽）\n",
    "kernels = torch.tensor([[[[1,0], [2,1]]]], dtype=torch.float32)\n",
    "conv2d.weight = nn.Parameter(kernels, requires_grad=False)\n",
    "print(conv2d.weight)\n",
    "print(conv2d.bias)\n"
   ]
  },
  {
   "cell_type": "code",
   "execution_count": 12,
   "id": "c8468e99",
   "metadata": {},
   "outputs": [
    {
     "name": "stdout",
     "output_type": "stream",
     "text": [
      "tensor([[[[16.3621, 11.3621, 16.3621, 15.3621],\n",
      "          [25.3621, 20.3621, 10.3621, 13.3621],\n",
      "          [ 9.3621,  9.3621, 10.3621, 12.3621],\n",
      "          [ 1.3621,  0.3621,  2.3621,  4.3621]]]],\n",
      "       grad_fn=<ConvolutionBackward0>)\n"
     ]
    }
   ],
   "source": [
    "output = conv2d(input_feat)\n",
    "print(output)"
   ]
  },
  {
   "cell_type": "code",
   "execution_count": null,
   "id": "151ad1b3",
   "metadata": {},
   "outputs": [],
   "source": []
  }
 ],
 "metadata": {
  "kernelspec": {
   "display_name": "Python 3 (ipykernel)",
   "language": "python",
   "name": "python3"
  },
  "language_info": {
   "codemirror_mode": {
    "name": "ipython",
    "version": 3
   },
   "file_extension": ".py",
   "mimetype": "text/x-python",
   "name": "python",
   "nbconvert_exporter": "python",
   "pygments_lexer": "ipython3",
   "version": "3.10.6"
  }
 },
 "nbformat": 4,
 "nbformat_minor": 5
}
