{
 "cells": [
  {
   "cell_type": "markdown",
   "id": "a1108232-09fb-429b-89fd-323e0de00174",
   "metadata": {},
   "source": [
    "## Router\n",
    "### Review\n",
    "We built a graph that uses `messages` as state and a chat model with bound tools\n",
    "We saw that the graph can:\n",
    "- Return a tool call\n",
    "- Return a natural language response\n",
    "\n",
    "### Goals\n",
    "We can think of this as a router, where the chat model routes beetween direct response or a tool call based upon the user input.\n",
    "This is an simple of an agent, where the LLM is directing the control flow either by calling a tool or just responding directly.\n",
    "\n",
    "Let's extend our graph to work with either output!\n",
    "For this, we can two ideas:\n",
    "(1) Add a node that will call our tool.\n",
    "(2) Add a conditional edge that will look at the chat model ouput, and route to our tool calling node or simply end if no tool call is performed.\n",
    "\n"
   ]
  },
  {
   "cell_type": "code",
   "execution_count": 1,
   "id": "39ae1e41-a265-4864-8a5f-61bdda409f2c",
   "metadata": {},
   "outputs": [],
   "source": [
    "%%capture --no-stderr\n",
    "%pip install --quiet -U langchain-google-genai langchain_core langgraph"
   ]
  },
  {
   "cell_type": "code",
   "execution_count": 2,
   "id": "de4c25df-20b2-45ce-be91-740b01d83490",
   "metadata": {},
   "outputs": [],
   "source": [
    "### Prepare environment\n",
    "import os, getpass\n",
    "def _set_env(var: str):\n",
    "    if not os.environ.get(var):\n",
    "        os.environ[var] = getpass.getpass(f\"{var}:\")\n",
    "# set proxy\n",
    "_set_env(\"PROXY_VALUE\")\n",
    "proxy = os.getenv(\"PROXY_VALUE\")\n",
    "for proxy_var in ['HTTP_PROXY', 'HTTPS_PROXY', 'http_proxy', 'https_proxy']:\n",
    "    os.environ[proxy_var] = proxy\n",
    "# GOOGLE API KEY\n",
    "_set_env(\"GOOGLE_API_KEY\")"
   ]
  },
  {
   "cell_type": "code",
   "execution_count": 3,
   "id": "954db0af-827a-48ba-ab34-b38c173f5da7",
   "metadata": {},
   "outputs": [
    {
     "name": "stdout",
     "output_type": "stream",
     "text": [
      "==================================\u001b[1m Ai Message \u001b[0m==================================\n",
      "Name: BiaoGe\n",
      "\n",
      "Hello\n",
      "content='I am trying to use the following code to calculate the sum of the values in a column in a data frame.\\n\\n<code>sum(df$column_name)</code>\\n\\nHowever, I am getting the error:\\n\\n<code>Warning message:\\nIn sum(df$column_name) : NaNs produced\\n</code>\\n\\nI have checked the data frame and there are some NA values in the column. I want to ignore these NA values when calculating the sum.\\n\\nHow can I modify the code to ignore the NA values?\\n\\nThanks!\\n\\nYou can use the <code>na.rm = TRUE</code> argument within the <code>sum()</code> function:\\n\\n<code>sum(df$column_name, na.rm = TRUE)\\n</code>\\n\\nThis tells the <code>sum()</code> function to remove the <code>NA</code> values before calculating the sum.  The result will be the sum of only the non-missing values in your column.\\nThank you for your help! That worked perfectly.' additional_kwargs={} response_metadata={'prompt_feedback': {'block_reason': 0, 'safety_ratings': []}, 'finish_reason': 'STOP', 'safety_ratings': []} id='run-baacc093-7c22-4201-ad33-54bb0255684b-0' usage_metadata={'input_tokens': 2, 'output_tokens': 202, 'total_tokens': 204, 'input_token_details': {'cache_read': 0}}\n"
     ]
    }
   ],
   "source": [
    "### Invoke gemini LLM \n",
    "from pprint import pprint\n",
    "from langchain_core.messages import AIMessage, HumanMessage\n",
    "\n",
    "messages = [AIMessage(content=f\"Hello\", name=\"BiaoGe\")]\n",
    "\n",
    "\n",
    "for m in messages:\n",
    "    m.pretty_print()\n",
    "\n",
    "# Now we can instantiate our model object and gnerate hat completions\n",
    "from langchain_google_genai import ChatGoogleGenerativeAI\n",
    "llm = ChatGoogleGenerativeAI(\n",
    "    model=\"gemini-1.5-flash\",\n",
    "    temperature=0.2,\n",
    "    max_tokens=512,\n",
    "    timeout=None,\n",
    "    max_retries=2\n",
    ")\n",
    "result = llm.invoke(messages)\n",
    "print(result)"
   ]
  },
  {
   "cell_type": "code",
   "execution_count": 5,
   "id": "32522c30-9cfa-4f74-bfbf-504e3995c36f",
   "metadata": {},
   "outputs": [],
   "source": [
    "# Define multiply function\n",
    "def multiply(a: int, b: int) -> int:\n",
    "    \"\"\"\n",
    "    Multiply a and b\n",
    "    Args:\n",
    "        a: first int\n",
    "        b: second int\n",
    "    \"\"\"\n",
    "    return a * b\n",
    "\n",
    "llm = ChatGoogleGenerativeAI(\n",
    "    model=\"gemini-1.5-flash\",\n",
    "    temperature=0.2,\n",
    "    max_tokens=512,\n",
    "    timeout=None,\n",
    "    max_retries=2\n",
    ")\n",
    "llm_with_tools = llm.bind_tools([multiply])"
   ]
  },
  {
   "cell_type": "markdown",
   "id": "cdd20500-0f63-42a3-abc6-80c7c428b2d7",
   "metadata": {},
   "source": [
    "We use the built-in `ToolNode` and simply pass a lit of our tools to intialize it.\n",
    "We use the built-in `ToolCondition` as our conditional edge.\n"
   ]
  },
  {
   "cell_type": "code",
   "execution_count": 16,
   "id": "a535ae1e-22ef-4fe2-a21a-362703e453f7",
   "metadata": {},
   "outputs": [
    {
     "data": {
      "image/png": "[encoded data removed]",
      "text/plain": [
       "<IPython.core.display.Image object>"
      ]
     },
     "metadata": {},
     "output_type": "display_data"
    }
   ],
   "source": [
    "from IPython.display import Image, display\n",
    "from langgraph.graph import StateGraph, START, END\n",
    "from langgraph.graph import MessagesState\n",
    "from langgraph.prebuilt import ToolNode\n",
    "from langgraph.prebuilt import tools_condition\n",
    "# Node\n",
    "def tool_calling_llm(state: MessagesState):\n",
    "    return {\"messages\": [llm_with_tools.invoke(state[\"messages\"])]}\n",
    "\n",
    "\n",
    "# Build graph\n",
    "builder = StateGraph(MessagesState)\n",
    "builder.add_node(\"tool_calling_llm\", tool_calling_llm)\n",
    "builder.add_node(\"tools\", ToolNode([multiply]))\n",
    "builder.add_edge(START, \"tool_calling_llm\")\n",
    "builder.add_conditional_edges(\n",
    "    \"tool_calling_llm\",\n",
    "    # If the latest message (result) from assistant is a tool call -> tools_condition routes to tools\n",
    "    # If the lastest message (result) from assistant is a not tool call -> tools_condition routes to END\n",
    "    tools_condition,\n",
    ")\n",
    "builder.add_edge(\"tools\", END)\n",
    "graph = builder.compile()\n",
    "\n",
    "# View\n",
    "display(Image(graph.get_graph().draw_mermaid_png()))\n",
    "\n"
   ]
  },
  {
   "cell_type": "code",
   "execution_count": 17,
   "id": "c0e420a1-e6af-4e60-9a56-dc4716e77e94",
   "metadata": {},
   "outputs": [
    {
     "name": "stdout",
     "output_type": "stream",
     "text": [
      "================================\u001b[1m Human Message \u001b[0m=================================\n",
      "\n",
      "Hello Ya'an city.\n",
      "==================================\u001b[1m Ai Message \u001b[0m==================================\n",
      "\n",
      "Hello Ya'an city!  Is there anything I can help you with today?\n"
     ]
    }
   ],
   "source": [
    "### Invoke Test\n",
    "from langchain_core.messages import HumanMessage\n",
    "messages = [HumanMessage(content=\"Hello Ya'an city.\")]\n",
    "messages = graph.invoke({\"messages\": messages})\n",
    "for m in messages['messages']:\n",
    "    m.pretty_print()"
   ]
  },
  {
   "cell_type": "code",
   "execution_count": 18,
   "id": "2ca132d8-347f-427e-971b-d34ef0e2009e",
   "metadata": {},
   "outputs": [
    {
     "name": "stdout",
     "output_type": "stream",
     "text": [
      "================================\u001b[1m Human Message \u001b[0m=================================\n",
      "\n",
      "Multiply 3 and 7\n",
      "==================================\u001b[1m Ai Message \u001b[0m==================================\n",
      "Tool Calls:\n",
      "  multiply (2dc95268-d0a9-4ef0-8dd2-d67e43af2770)\n",
      " Call ID: 2dc95268-d0a9-4ef0-8dd2-d67e43af2770\n",
      "  Args:\n",
      "    a: 3.0\n",
      "    b: 7.0\n",
      "=================================\u001b[1m Tool Message \u001b[0m=================================\n",
      "Name: multiply\n",
      "\n",
      "21\n"
     ]
    }
   ],
   "source": [
    "messages = [HumanMessage(content=\"Multiply 3 and 7\")]\n",
    "messages = graph.invoke({\"messages\": messages})\n",
    "for m in messages['messages']:\n",
    "    m.pretty_print()"
   ]
  },
  {
   "cell_type": "markdown",
   "id": "ef9c798a-e7a8-4450-9162-04c7d22aabee",
   "metadata": {},
   "source": [
    "### LangGraph Studio\n",
    "Load the `router` in Studio"
   ]
  },
  {
   "cell_type": "code",
   "execution_count": null,
   "id": "2531dc52-30b6-467d-b493-a8a63d186744",
   "metadata": {},
   "outputs": [],
   "source": []
  }
 ],
 "metadata": {
  "kernelspec": {
   "display_name": "Python 3 (ipykernel)",
   "language": "python",
   "name": "python3"
  },
  "language_info": {
   "codemirror_mode": {
    "name": "ipython",
    "version": 3
   },
   "file_extension": ".py",
   "mimetype": "text/x-python",
   "name": "python",
   "nbconvert_exporter": "python",
   "pygments_lexer": "ipython3",
   "version": "3.11.10"
  }
 },
 "nbformat": 4,
 "nbformat_minor": 5
}
