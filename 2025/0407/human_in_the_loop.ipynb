{
 "cells": [
  {
   "cell_type": "markdown",
   "id": "4a27f8a2-3109-4507-8215-5d8f5c6c3eb4",
   "metadata": {},
   "source": [
    "### Prepare environment"
   ]
  },
  {
   "cell_type": "code",
   "execution_count": 25,
   "id": "39f6aa77-0c87-4aab-bc40-3fb5deec84e4",
   "metadata": {},
   "outputs": [
    {
     "name": "stdout",
     "output_type": "stream",
     "text": [
      "proxy_value: http://localhost:7897\n"
     ]
    }
   ],
   "source": [
    "### Prepare environment\n",
    "import os, getpass\n",
    "def _set_env(var: str):\n",
    "    if not os.environ.get(var):\n",
    "        os.environ[var] = getpass.getpass(f\"{var}:\")\n",
    "# set proxy\n",
    "_set_env(\"PROXY_VALUE\")\n",
    "proxy = os.getenv(\"PROXY_VALUE\")\n",
    "for proxy_var in ['HTTP_PROXY', 'HTTPS_PROXY', 'http_proxy', 'https_proxy']:\n",
    "    os.environ[proxy_var] = proxy\n",
    "# GOOGLE API KEY\n",
    "_set_env(\"GOOGLE_API_KEY\")\n",
    "print(\"proxy_value:\", proxy)"
   ]
  },
  {
   "cell_type": "markdown",
   "id": "47c737ea-c73a-466b-b315-edf7b6f9d8dc",
   "metadata": {},
   "source": [
    "### Set langsmith"
   ]
  },
  {
   "cell_type": "code",
   "execution_count": 2,
   "id": "e674ba49-df73-4671-bd28-c0d9996b8cf4",
   "metadata": {},
   "outputs": [],
   "source": [
    "_set_env(\"LANGCHAIN_API_KEY\")\n",
    "os.environ[\"LANGCHAIN_TRACING_V2\"] = \"true\"\n",
    "os.environ[\"LANGCHAIN_PROJECT\"] = \"langchain-academy\""
   ]
  },
  {
   "cell_type": "markdown",
   "id": "8ccea303-5547-4a90-a2d3-19dfdef19c1d",
   "metadata": {},
   "source": [
    "### Agent\n",
    "In the context of agents, waiting for user feedback is especially useful for asking clarifying qeustions.\n",
    "To illustrate this, we'll create a simple ReAct-style agent capable of tool calling."
   ]
  },
  {
   "cell_type": "code",
   "execution_count": 40,
   "id": "9f29e366-f2ec-4ccd-a495-21adebd4b932",
   "metadata": {},
   "outputs": [
    {
     "data": {
      "image/png": "[encoded data removed]",
      "text/plain": [
       "<IPython.core.display.Image object>"
      ]
     },
     "metadata": {},
     "output_type": "display_data"
    }
   ],
   "source": [
    "# Set up the state\n",
    "from langgraph.graph import MessagesState, START\n",
    "\n",
    "# Set up the tool\n",
    "# We will have one real tool -a search tool\n",
    "# We'll also have one \"fake\" tool -a \"ask_human\" tool\n",
    "# Here we define any ACTUAL tools\n",
    "from langchain_core.tools import tool\n",
    "from langgraph.prebuilt import ToolNode\n",
    "from langgraph.types import Command, interrupt\n",
    "from langchain_google_genai import ChatGoogleGenerativeAI\n",
    "\n",
    "@tool\n",
    "def search(query: str):\n",
    "    \"\"\"\n",
    "    Call to surf the web.\n",
    "    \"\"\"\n",
    "    # This is a placehodler for the acutal implementation\n",
    "    # Don't let the LLM know this though\n",
    "    return f\"I looked up: {query}. Result: It's sunny in Chengdu, but you better look out if your're a Gemini.\"\n",
    "\n",
    "\n",
    "tools = [search]\n",
    "tool_node = ToolNode(tools)\n",
    "\n",
    "# Set up the Gemini model\n",
    "model = ChatGoogleGenerativeAI(\n",
    "    model=\"gemini-2.0-flash-001\",\n",
    "    temperature=0.2,\n",
    "    max_tokens=512,\n",
    "    timeout=None,\n",
    "    max_retries=2\n",
    ")\n",
    "\n",
    "from pydantic import BaseModel\n",
    "\n",
    "# We are going \"bind\" call tools to the model\n",
    "# We have the ACTUAL tools from above, but we also need a mock tool to ask a human\n",
    "# Since `bind_tools` takes in tools but also just tool definitions\n",
    "# We can define a tool definition for `ask_human`\n",
    "class AskHuman(BaseModel):\n",
    "    \"\"\"Ask the human a question\"\"\"\n",
    "    question: str\n",
    "\n",
    "model = model.bind_tools(tools + [AskHuman])\n",
    "\n",
    "# Define node and conditonal edges\n",
    "\n",
    "# Define the function that determines whether to contine or not\n",
    "def should_continue(state):\n",
    "    messages = state[\"messages\"]\n",
    "    last_message = messages[-1]\n",
    "    # If there is no function call, then we finish\n",
    "    if not last_message.tool_calls:\n",
    "        return END\n",
    "\n",
    "    # If tool call is asking Human, we return that node\n",
    "    # You could also add logic here to let some system know that there's something that requires Human input\n",
    "    # For example, send a slack message, etc\n",
    "    elif last_message.tool_calls[0][\"name\"] == \"AskHuman\":\n",
    "        return \"ask_human\"\n",
    "    # Otherwise if there is, we contine\n",
    "    else:\n",
    "        return \"action\"\n",
    "\n",
    "\n",
    "# Define the function that calls the model\n",
    "def call_model(state):\n",
    "    messages = state[\"messages\"]\n",
    "    response = model.invoke(messages)\n",
    "    # We return a list, because this will get added to the existing list\n",
    "    return {\"messages\": [response]}\n",
    "\n",
    "\n",
    "# We define a fake node to ask the human\n",
    "def ask_human(state):\n",
    "    tool_call_id = state[\"messages\"][-1].tool_calls[0][\"id\"]\n",
    "    ask = AskHuman.model_validate(state[\"messages\"][-1].tool_calls[0][\"args\"])\n",
    "    location = interrupt(ask.question)\n",
    "    tool_message = [{\"tool_call_id\": tool_call_id, \"type\": \"tool\", \"content\": location}]\n",
    "    return {\"messages\": tool_message}\n",
    "\n",
    "\n",
    "# Bild the graph\n",
    "from langgraph.graph import END, StateGraph\n",
    "\n",
    "# Define a new graph\n",
    "workflow = StateGraph(MessagesState)\n",
    "\n",
    "# Define the three nodes we will cycle between\n",
    "workflow.add_node(\"agent\", call_model)\n",
    "workflow.add_node(\"action\", tool_node)\n",
    "workflow.add_node(\"ask_human\", ask_human)\n",
    "\n",
    "\n",
    "# Set the entrypoint as `agent`\n",
    "# This means that this node is the first one called\n",
    "workflow.add_edge(START, \"agent\")\n",
    "\n",
    "# We now add a conditional edge\n",
    "workflow.add_conditional_edges(\n",
    "    # First, we define the start node, we use `aget`.\n",
    "    # This means that after `tools` is called, `agent` node is called next.\n",
    "    \"agent\",\n",
    "    # Next, we pass in the function that will determine which node is called next.\n",
    "    should_continue,\n",
    ")\n",
    "\n",
    "\n",
    "# We now add a normal edge form `tools` to `agent`.\n",
    "# This means that after `tools` is called, `agent` node is called next.\n",
    "workflow.add_edge(\"action\", \"agent\")\n",
    "\n",
    "# After we get back the human response, we go back to the agent\n",
    "workflow.add_edge(\"ask_human\", \"agent\")\n",
    "\n",
    "# Set up memory\n",
    "from langgraph.checkpoint.memory import MemorySaver\n",
    "memory = MemorySaver()\n",
    "\n",
    "# Finall, we compile it!\n",
    "# This compiles it into a LangChain Runnable,\n",
    "# meaning you can use it as you would any other runnable\n",
    "# We add a breakpoint BEFORE the `ask_human` node so it never executes\n",
    "app = workflow.compile(checkpointer=memory)\n",
    "\n",
    "\n",
    "# Display graph image\n",
    "from IPython.display import Image, display\n",
    "display(Image(app.get_graph().draw_mermaid_png()))\n",
    "\n",
    "    \n",
    "\n"
   ]
  },
  {
   "cell_type": "markdown",
   "id": "16d897f5-1d65-495f-a20d-68a7731fa098",
   "metadata": {},
   "source": []
  },
  {
   "cell_type": "markdown",
   "id": "670647e4-5793-403f-9249-a1ef6c6fa504",
   "metadata": {},
   "source": [
    "### Interacting with the Agent\n",
    "We can now interact with the agent. Let's ask it to ask the user wher they are, then tell them the weather.\n",
    "\n",
    "This should make it use the `ask_human` tool first then use the normal tool."
   ]
  },
  {
   "cell_type": "markdown",
   "id": "8b6f804a-4742-4db2-83f3-5bdb7a4eec37",
   "metadata": {},
   "source": [
    "### Interacting with the Agent¶\n",
    "We can now interact with the agent. Let's ask it to ask the user where they are, then tell them the weather.\n",
    "\n"
   ]
  },
  {
   "cell_type": "code",
   "execution_count": 41,
   "id": "f9615ea4-fe88-463d-8669-f73df54845b7",
   "metadata": {},
   "outputs": [
    {
     "name": "stdout",
     "output_type": "stream",
     "text": [
      "================================\u001b[1m Human Message \u001b[0m=================================\n",
      "\n",
      "Ask the user where they are, then look up the weather there\n",
      "==================================\u001b[1m Ai Message \u001b[0m==================================\n",
      "Tool Calls:\n",
      "  AskHuman (9e95d26f-f32c-48ad-9aa0-b650706b8f98)\n",
      " Call ID: 9e95d26f-f32c-48ad-9aa0-b650706b8f98\n",
      "  Args:\n",
      "    question: Where are you located?\n"
     ]
    }
   ],
   "source": [
    "config = {\"configurable\": {\"thread_id\": \"3\"}}\n",
    "for event in app.stream(\n",
    "    {\n",
    "        \"messages\": [\n",
    "            (\n",
    "                \"user\",\n",
    "                \"Ask the user where they are, then look up the weather there\",\n",
    "            )\n",
    "        ]\n",
    "    },\n",
    "    config,\n",
    "    stream_mode=\"values\",\n",
    "):\n",
    "    event[\"messages\"][-1].pretty_print()"
   ]
  },
  {
   "cell_type": "code",
   "execution_count": 42,
   "id": "79fadbe9-6a6c-4a04-8bd6-f6b1ef829590",
   "metadata": {},
   "outputs": [
    {
     "data": {
      "text/plain": [
       "('ask_human',)"
      ]
     },
     "execution_count": 42,
     "metadata": {},
     "output_type": "execute_result"
    }
   ],
   "source": [
    "app.get_state(config).next"
   ]
  },
  {
   "cell_type": "markdown",
   "id": "4576bac8-4146-4156-a0e9-30d3b2e2422c",
   "metadata": {},
   "source": [
    "You can see that our graph got interrupted inside the `ask_human` node, which is now waiting for `location` to be provided. We can provide this value by ivoking the graph with a `Command(resume=\"<location>\")` input:"
   ]
  },
  {
   "cell_type": "code",
   "execution_count": 43,
   "id": "eafb594f-310d-4921-8bb4-4a4c8bbc52ad",
   "metadata": {},
   "outputs": [
    {
     "name": "stdout",
     "output_type": "stream",
     "text": [
      "==================================\u001b[1m Ai Message \u001b[0m==================================\n",
      "Tool Calls:\n",
      "  AskHuman (9e95d26f-f32c-48ad-9aa0-b650706b8f98)\n",
      " Call ID: 9e95d26f-f32c-48ad-9aa0-b650706b8f98\n",
      "  Args:\n",
      "    question: Where are you located?\n",
      "=================================\u001b[1m Tool Message \u001b[0m=================================\n",
      "\n",
      "ChengDu city\n",
      "==================================\u001b[1m Ai Message \u001b[0m==================================\n",
      "Tool Calls:\n",
      "  search (e0b1c8f4-6a01-4016-8576-1892044fb5e6)\n",
      " Call ID: e0b1c8f4-6a01-4016-8576-1892044fb5e6\n",
      "  Args:\n",
      "    query: weather in ChengDu city\n",
      "=================================\u001b[1m Tool Message \u001b[0m=================================\n",
      "Name: search\n",
      "\n",
      "I looked up: weather in ChengDu city. Result: It's sunny in Chengdu, but you better look out if your're a Gemini.\n",
      "==================================\u001b[1m Ai Message \u001b[0m==================================\n",
      "\n",
      "OK. It's sunny in Chengdu, but you better look out if your're a Gemini.\n"
     ]
    }
   ],
   "source": [
    "for event in app.stream(Command(resume=\"ChengDu city\"), config, stream_mode=\"values\"):\n",
    "    event[\"messages\"][-1].pretty_print()"
   ]
  },
  {
   "cell_type": "code",
   "execution_count": null,
   "id": "0bee5c84-dcd1-4533-a9ef-1ac1579d3169",
   "metadata": {},
   "outputs": [],
   "source": []
  }
 ],
 "metadata": {
  "kernelspec": {
   "display_name": "Python 3 (ipykernel)",
   "language": "python",
   "name": "python3"
  },
  "language_info": {
   "codemirror_mode": {
    "name": "ipython",
    "version": 3
   },
   "file_extension": ".py",
   "mimetype": "text/x-python",
   "name": "python",
   "nbconvert_exporter": "python",
   "pygments_lexer": "ipython3",
   "version": "3.11.10"
  }
 },
 "nbformat": 4,
 "nbformat_minor": 5
}
