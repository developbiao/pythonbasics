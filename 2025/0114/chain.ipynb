{
 "cells": [
  {
   "cell_type": "markdown",
   "id": "27dfaffc-bd15-4c87-be57-87e0e87a6eb4",
   "metadata": {},
   "source": [
    "## Chain\n",
    "\n",
    "### Goals\n",
    "Now, let's build up to a simple chain that combines 4 concepts:\n",
    "- Using chat messages as our graph state\n",
    "- Using chat models in graph nodes\n",
    "- Binding tools to our chat model\n",
    "- Executing tool calls in graph nodes\n"
   ]
  },
  {
   "cell_type": "code",
   "execution_count": 1,
   "id": "0a076b81-2f99-4386-8e25-fa87b6286de3",
   "metadata": {},
   "outputs": [],
   "source": [
    "%%capture --no-stderr\n",
    "%pip install --quiet -U langchain_openai langchain_core langgraph"
   ]
  },
  {
   "cell_type": "markdown",
   "id": "f01a1b4e-3764-48d1-a2bd-8e7abe351abe",
   "metadata": {},
   "source": [
    "### Messages\n",
    "- HumanMessage, AIMessage, SsytemMessage, ToolMessage\n",
    "  \n",
    "- Each message can be supplied with a few tings:\n",
    "  - content\n",
    "  - name\n",
    "  - response_metadata (optionally)"
   ]
  },
  {
   "cell_type": "code",
   "execution_count": 2,
   "id": "74bbdf50-f4af-43fd-9606-25992d3b4a6b",
   "metadata": {},
   "outputs": [
    {
     "name": "stdout",
     "output_type": "stream",
     "text": [
      "==================================\u001b[1m Ai Message \u001b[0m==================================\n",
      "Name: Model\n",
      "\n",
      "So you said you were researcing ocean mammals?\n",
      "================================\u001b[1m Human Message \u001b[0m=================================\n",
      "Name: Lance\n",
      "\n",
      "Yes, that's right.\n",
      "==================================\u001b[1m Ai Message \u001b[0m==================================\n",
      "Name: Model\n",
      "\n",
      "Great, what would you like to learn about.\n",
      "================================\u001b[1m Human Message \u001b[0m=================================\n",
      "Name: Lance\n",
      "\n",
      "I want to learn about the best place to see Orcas in the US.\n"
     ]
    }
   ],
   "source": [
    "from pprint import pprint\n",
    "from langchain_core.messages import AIMessage, HumanMessage\n",
    "\n",
    "messages = [AIMessage(content=f\"So you said you were researcing ocean mammals?\", name=\"Model\")]\n",
    "messages.append(HumanMessage(content=f\"Yes, that's right.\", name=\"Lance\"))\n",
    "messages.append(AIMessage(content=\"Great, what would you like to learn about.\", name=\"Model\"))\n",
    "messages.append(HumanMessage(content=\"I want to learn about the best place to see Orcas in the US.\", name=\"Lance\"))\n",
    "\n",
    "for m in messages:\n",
    "    m.pretty_print()"
   ]
  },
  {
   "cell_type": "markdown",
   "id": "5ef16f25-69c7-4037-8d5d-627fe39959fb",
   "metadata": {},
   "source": [
    "### Chat Models\n",
    "Leet's check chat your `GOOGLE_GEININ_KEY`"
   ]
  },
  {
   "cell_type": "code",
   "execution_count": 14,
   "id": "3afe8a25-631e-4dd2-b974-b8113099f456",
   "metadata": {},
   "outputs": [],
   "source": [
    "import os, getpass\n",
    "def _set_env(var: str):\n",
    "    if not os.environ.get(var):\n",
    "        os.environ[var] = getpass.getpass(f\"{var}:\")\n",
    "# set proxy\n",
    "_set_env(\"PROXY_VALUE\")\n",
    "proxy = os.getenv(\"PROXY_VALUE\")\n",
    "for proxy_var in ['HTTP_PROXY', 'HTTPS_PROXY', 'http_proxy', 'https_proxy']:\n",
    "    os.environ[proxy_var] = proxy\n",
    "# GOOGLE API KEY\n",
    "_set_env(\"GOOGLE_API_KEY\")"
   ]
  },
  {
   "cell_type": "code",
   "execution_count": 8,
   "id": "0b4e217c-27d1-49e1-8f91-a0bca9678502",
   "metadata": {},
   "outputs": [
    {
     "name": "stdout",
     "output_type": "stream",
     "text": [
      "\n",
      "\u001b[1m[\u001b[0m\u001b[34;49mnotice\u001b[0m\u001b[1;39;49m]\u001b[0m\u001b[39;49m A new release of pip is available: \u001b[0m\u001b[31;49m24.0\u001b[0m\u001b[39;49m -> \u001b[0m\u001b[32;49m24.3.1\u001b[0m\n",
      "\u001b[1m[\u001b[0m\u001b[34;49mnotice\u001b[0m\u001b[1;39;49m]\u001b[0m\u001b[39;49m To update, run: \u001b[0m\u001b[32;49mpip install --upgrade pip\u001b[0m\n",
      "Note: you may need to restart the kernel to use updated packages.\n"
     ]
    }
   ],
   "source": [
    "%pip install -qU langchain-google-genai"
   ]
  },
  {
   "cell_type": "code",
   "execution_count": 21,
   "id": "87f1fb58-ed74-46fd-97d2-3a72356a7ac1",
   "metadata": {},
   "outputs": [
    {
     "name": "stdout",
     "output_type": "stream",
     "text": [
      "content='There\\'s no single \"best\" place to see orcas in the US, as it depends on the time of year and what kind of experience you\\'re looking for.  Orcas (killer whales) have different populations with varying ranges.  However, some of the most popular and reliable locations include:\\n\\n* **Alaska:**  This is arguably the best overall location for orca viewing in the US.  You\\'ll find resident orcas (those that stay in a specific area year-round) in Southeast Alaska, particularly around Juneau, Ketchikan, and Prince William Sound.  Transient orcas (those that travel more widely) can also be seen throughout Alaskan waters.  Cruises and tours are readily available.  The viewing is often excellent, but it can be expensive and require more travel.\\n\\n* **Washington State (San Juan Islands):** This is a very popular and accessible location, known for its resident orca population (the Southern Resident Killer Whales, a critically endangered population).  Tours depart from Friday Harbor, Anacortes, and other towns.  The viewing can be excellent, but it\\'s important to be aware that sightings are not guaranteed, and the whales\\' behavior is unpredictable.  The population size is small, making responsible viewing crucial.\\n\\n* **California:** Orcas are seen less frequently in California than in Alaska or Washington, but they do pass through the waters off the coast.  Opportunities exist around Monterey Bay and the Channel Islands.  Sightings are less predictable here.\\n\\n**To help me narrow down the \"best\" place for *you*, tell me:**\\n\\n* **What time of year are you planning to go?**  Orca sightings vary seasonally.\\n* **What\\'s your budget?**  Alaska trips tend to be more expensive.\\n* **What kind of experience are you looking for?**  A small boat tour for a more intimate experience? A larger whale-watching vessel?  A land-based viewing opportunity?\\n* **How important is a guaranteed sighting?**  No location guarantees a sighting, but some areas have higher probabilities.\\n\\n\\nOnce I have this information, I can give you a more tailored recommendation.' additional_kwargs={} response_metadata={'prompt_feedback': {'block_reason': 0, 'safety_ratings': []}, 'finish_reason': 'STOP', 'safety_ratings': []} id='run-26e48f18-e0b5-4470-b020-7a58649484b6-0' usage_metadata={'input_tokens': 47, 'output_tokens': 449, 'total_tokens': 496, 'input_token_details': {'cache_read': 0}}\n"
     ]
    }
   ],
   "source": [
    "# Now we can instantiate our model object and gnerate hat completions\n",
    "from langchain_google_genai import ChatGoogleGenerativeAI\n",
    "llm = ChatGoogleGenerativeAI(\n",
    "    model=\"gemini-1.5-flash\",\n",
    "    temperature=0.2,\n",
    "    max_tokens=512,\n",
    "    timeout=None,\n",
    "    max_retries=2\n",
    ")\n",
    "result = llm.invoke(messages)\n",
    "type(result)\n",
    "print(result)"
   ]
  },
  {
   "cell_type": "code",
   "execution_count": 20,
   "id": "f158aec4-15b2-400a-8bc7-6affc2c9b466",
   "metadata": {},
   "outputs": [
    {
     "data": {
      "text/plain": [
       "{'prompt_feedback': {'block_reason': 0, 'safety_ratings': []},\n",
       " 'finish_reason': 'STOP',\n",
       " 'safety_ratings': []}"
      ]
     },
     "execution_count": 20,
     "metadata": {},
     "output_type": "execute_result"
    }
   ],
   "source": [
    "result.response_metadata"
   ]
  },
  {
   "cell_type": "markdown",
   "id": "71261f55-f2a1-41a2-9e89-ea32a0c17295",
   "metadata": {},
   "source": [
    "### Tools\n",
    "Tools are useful whenever you want a model to interact with external systems.\n",
    "External systems (e.g., APIs) often require a particular input schema or playload, rather than natural language.\n",
    "When we buind an API, fro example, as a tool we given the model awareness of the required input schema.\n",
    "The model will choose to call a tool based upon the natural language input from the user.\n",
    "And, it will reurn an output that adheres to the tools schema.\n",
    "You can simply pass any Python `function` into `ChatModel.bind_tools(function)`\n",
    "\n",
    "Let's showcase a simple example of tool calling"
   ]
  },
  {
   "cell_type": "code",
   "execution_count": 22,
   "id": "b90d7ece-9d24-4cf9-93ec-163c76c974aa",
   "metadata": {},
   "outputs": [],
   "source": [
    "# The multiple function is our tool\n",
    "def multiply(a: int, b: int) -> int:\n",
    "    \"\"\"\n",
    "    Multiply a and b.\n",
    "\n",
    "    Args:\n",
    "        a: first int \n",
    "        b: second int\n",
    "    \"\"\"\n",
    "    return a * b\n",
    "\n",
    "llm_with_tools = llm.bind_tools([multiply])\n",
    "    "
   ]
  },
  {
   "cell_type": "markdown",
   "id": "29ebac33-aec0-4f4b-8146-4eeaf4377d41",
   "metadata": {},
   "source": [
    "If we pass an input - e.g., \"What is 3 multiplied by 7 \" -we see a tool call returned.\n",
    "The tool call has specific arguments that match the input schema of our function along with the name of the funtion to call.\n",
    "`{'arguments': '{\"a\": 3, \"b\": 7}', \"name\": 'multiply'}`"
   ]
  },
  {
   "cell_type": "code",
   "execution_count": 25,
   "id": "b1b756f0-e2d8-4019-8ee3-709ee4403bee",
   "metadata": {},
   "outputs": [
    {
     "data": {
      "text/plain": [
       "AIMessage(content='', additional_kwargs={'function_call': {'name': 'multiply', 'arguments': '{\"a\": 3.0, \"b\": 7.0}'}}, response_metadata={'prompt_feedback': {'block_reason': 0, 'safety_ratings': []}, 'finish_reason': 'STOP', 'safety_ratings': []}, id='run-5cdf58e0-62d6-43b6-86aa-dc98c41ff958-0', tool_calls=[{'name': 'multiply', 'args': {'a': 3.0, 'b': 7.0}, 'id': '44ef7db7-c149-40ca-865f-fa24d33550f2', 'type': 'tool_call'}], usage_metadata={'input_tokens': 57, 'output_tokens': 3, 'total_tokens': 60, 'input_token_details': {'cache_read': 0}})"
      ]
     },
     "execution_count": 25,
     "metadata": {},
     "output_type": "execute_result"
    }
   ],
   "source": [
    "tool_call = llm_with_tools.invoke([HumanMessage(content=f\"What is 3 multiplied by 7\", name=\"BiaoGe\")])\n",
    "tool_call"
   ]
  },
  {
   "cell_type": "code",
   "execution_count": 33,
   "id": "ebb15c68-3b89-446b-a583-b73e997d0dde",
   "metadata": {},
   "outputs": [
    {
     "data": {
      "text/plain": [
       "{'name': 'multiply', 'arguments': '{\"a\": 3.0, \"b\": 7.0}'}"
      ]
     },
     "execution_count": 33,
     "metadata": {},
     "output_type": "execute_result"
    }
   ],
   "source": [
    "tool_call.additional_kwargs['function_call']"
   ]
  },
  {
   "cell_type": "markdown",
   "id": "05488a19-a806-4255-a949-1f79c9cfd74d",
   "metadata": {},
   "source": [
    "### Using messages as state\n",
    "With these fundations in place, we can now use `messages` in our graph state.\n",
    "Let's define our state, `MessagesState`, as a `TypeDict` with a single key: `messages`.\n",
    "`messages` is simply a list of messages, as we defined above (e.g., `HumanMessage`, etc)."
   ]
  },
  {
   "cell_type": "code",
   "execution_count": 38,
   "id": "4d00b3eb-8b79-4974-baee-77e1d2d85620",
   "metadata": {},
   "outputs": [],
   "source": [
    "from typing_extensions import TypedDict\n",
    "from langchain_core.messages import AnyMessage\n",
    "\n",
    "class MessagesState(TypedDict):\n",
    "    messages: list[AnyMessage]"
   ]
  },
  {
   "cell_type": "markdown",
   "id": "9e8f1f66-9db2-4762-b3d2-113e5458f36a",
   "metadata": {},
   "source": [
    "### Reducers\n",
    "Now, we have a minor problem!\n",
    "As we discussed, each node will return a new value for our state key `messages`.\n",
    "But, this new value will override to the prior `messages` value.\n",
    "As our graph runs, we want to append message to our `messages` state key.\n",
    "We can use `reducer functions` address this.\n",
    "Reducers allow us to specify how state updates are performed.\n",
    "If no reducer function is sepcifed, then it is assumed that updates to the key should override it as we saw before.\n",
    "But, to append messages, we can use the pre-build add_messages reducer.\n",
    "The ensures that any messges are appended to the existing list of messages\n",
    "We annotate simply need to annotate our `messages` key with the `add_messages` reducer function as metadata"
   ]
  },
  {
   "cell_type": "code",
   "execution_count": 39,
   "id": "9eab0677-fe63-4b33-baa5-27d54c181d87",
   "metadata": {},
   "outputs": [],
   "source": [
    "from typing import Annotated\n",
    "from langgraph.graph.message import add_messages\n",
    "\n",
    "class MessagesState(TypedDict):\n",
    "    messages: Annotated[list[AnyMessage], add_messages]"
   ]
  },
  {
   "cell_type": "markdown",
   "id": "7d6f561a-9f1c-4e9a-b0fb-9f08a24a7084",
   "metadata": {},
   "source": [
    "Since having a list of messages in graph state is so common. LangGraph has a pre-build `MessageSate`\n",
    "`MessagesState` is defined:\n",
    "\n",
    "- With a pre-build single `messages` key\n",
    "- This is a list of `AnyMessage` objects\n",
    "- It uses the `add_messages` reducer\n",
    "We'll usually use `MessagesState` because it is less verbose than defining a custom `TypeDict` as shown above.\n"
   ]
  },
  {
   "cell_type": "code",
   "execution_count": 40,
   "id": "60c63fe8-aa4b-4058-bfe5-41cd8c9e761d",
   "metadata": {},
   "outputs": [],
   "source": [
    "from langgraph.graph import MessagesState\n",
    "\n",
    "class MessagesState(MessagesState):\n",
    "    # Add any keys needed byond messages, which is pre-build\n",
    "    pass"
   ]
  },
  {
   "cell_type": "markdown",
   "id": "4c04b3b7-5472-4119-a788-51696b8a4bc5",
   "metadata": {},
   "source": [
    "To go a bit deeper, we can see how the `add_messages` reducer works in isolation."
   ]
  },
  {
   "cell_type": "code",
   "execution_count": 42,
   "id": "0c6ce072-d172-40b1-b364-ea094d4ecebf",
   "metadata": {},
   "outputs": [
    {
     "data": {
      "text/plain": [
       "[AIMessage(content='Hello! How can I assist you?', additional_kwargs={}, response_metadata={}, name='Model', id='6de4dbb9-b3d6-422a-9964-79724564dabf'),\n",
       " HumanMessage(content=\"I'm looking for information on marine biology.\", additional_kwargs={}, response_metadata={}, name='BiaoGe', id='22127349-e9f3-44f1-9dbd-f1b00d07e689'),\n",
       " AIMessage(content='Sure, I can help with that. What specifically are you interested in?', additional_kwargs={}, response_metadata={}, name='Model', id='e559ccc9-3cf7-4d27-b6b9-f5d78a61aee2')]"
      ]
     },
     "execution_count": 42,
     "metadata": {},
     "output_type": "execute_result"
    }
   ],
   "source": [
    "# initial state\n",
    "initial_messages = [\n",
    "    AIMessage(content=\"Hello! How can I assist you?\", name=\"Model\"),\n",
    "    HumanMessage(content=\"I'm looking for information on marine biology.\", name=\"BiaoGe\")\n",
    "]\n",
    "\n",
    "# New message to add \n",
    "new_message = AIMessage(content=\"Sure, I can help with that. What specifically are you interested in?\", name=\"Model\")\n",
    "\n",
    "# Test \n",
    "add_messages(initial_messages, new_message)"
   ]
  },
  {
   "cell_type": "markdown",
   "id": "3481c3d6-882f-45f0-8604-5dc50bade01e",
   "metadata": {},
   "source": [
    "### Our graph\n",
    "Now, lets use `MessagesState` with a graph."
   ]
  },
  {
   "cell_type": "code",
   "execution_count": null,
   "id": "d9313159-b497-4081-ba3d-5b48a3dbac6f",
   "metadata": {},
   "outputs": [],
   "source": [
    "from IPython.display import Image, display\n",
    "from langgraph.graph import StateGraph, START, END\n",
    "\n",
    "# Node\n",
    "def tool_calling_llm(state: MessagesState):\n",
    "    return {\"messages\": [llm_with_tools.invoke(state[\"messages\"])]}\n",
    "\n",
    "# Build graph\n",
    "builder = StateGraph(MessagesState)\n",
    "builder.add_node(\"tool_calling_llm\", tool_calling_llm)\n",
    "builder.add_edge(START, \"tool_calling_llm\")\n",
    "builder.add_edge(\"tool_calling_llm\", END)\n",
    "graph = builder.compile()\n",
    "\n",
    "# View \n",
    "display(Image(graph.get_graph().draw_mermaid_png()))"
   ]
  },
  {
   "cell_type": "markdown",
   "id": "e6fef269-db15-4dd0-89f1-ab21ed745b25",
   "metadata": {},
   "source": [
    "If we pass in `Hello`, the LLM responds without any tool calls."
   ]
  },
  {
   "cell_type": "code",
   "execution_count": null,
   "id": "b3613f3d-b36f-403f-b627-352ae50341f7",
   "metadata": {},
   "outputs": [],
   "source": [
    "messages = graph.invoke({\"messages\": HumanMessage(content=\"Hello!\")})\n",
    "for m in messages['messages']:\n",
    "    m.pretty_print()"
   ]
  },
  {
   "cell_type": "markdown",
   "id": "6238374c-322b-46ca-a981-1d60806ed8d8",
   "metadata": {},
   "source": [
    "The LLM chooses to use tool when it determines that the input or task requires the functionality provided by that tool.\n",
    "\n"
   ]
  },
  {
   "cell_type": "code",
   "execution_count": null,
   "id": "66e93cae-7045-480f-b2ef-faa4249b21ab",
   "metadata": {},
   "outputs": [],
   "source": [
    "messages = graph.invoke({\"messages\": HumanMessage(content=\"Multiply 3 and 7\")})\n",
    "for m in messages['messages']:\n",
    "    m.pretty_print()"
   ]
  },
  {
   "cell_type": "code",
   "execution_count": null,
   "id": "0ca22554-01aa-4b05-84a5-7e2859a2488f",
   "metadata": {},
   "outputs": [],
   "source": []
  }
 ],
 "metadata": {
  "kernelspec": {
   "display_name": "Python 3 (ipykernel)",
   "language": "python",
   "name": "python3"
  },
  "language_info": {
   "codemirror_mode": {
    "name": "ipython",
    "version": 3
   },
   "file_extension": ".py",
   "mimetype": "text/x-python",
   "name": "python",
   "nbconvert_exporter": "python",
   "pygments_lexer": "ipython3",
   "version": "3.11.10"
  }
 },
 "nbformat": 4,
 "nbformat_minor": 5
}
