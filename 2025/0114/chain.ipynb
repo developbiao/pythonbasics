{
 "cells": [
  {
   "cell_type": "markdown",
   "id": "27dfaffc-bd15-4c87-be57-87e0e87a6eb4",
   "metadata": {},
   "source": [
    "## Chain\n",
    "\n",
    "### Goals\n",
    "Now, let's build up to a simple chain that combines 4 concepts:\n",
    "- Using chat messages as our graph state\n",
    "- Using chat models in graph nodes\n",
    "- Binding tools to our chat model\n",
    "- Executing tool calls in graph nodes\n"
   ]
  },
  {
   "cell_type": "code",
   "execution_count": 1,
   "id": "0a076b81-2f99-4386-8e25-fa87b6286de3",
   "metadata": {},
   "outputs": [],
   "source": [
    "%%capture --no-stderr\n",
    "%pip install --quiet -U langchain_openai langchain_core langgraph"
   ]
  },
  {
   "cell_type": "markdown",
   "id": "f01a1b4e-3764-48d1-a2bd-8e7abe351abe",
   "metadata": {},
   "source": [
    "### Messages\n",
    "- HumanMessage, AIMessage, SsytemMessage, ToolMessage\n",
    "  \n",
    "- Each message can be supplied with a few tings:\n",
    "  - content\n",
    "  - name\n",
    "  - response_metadata (optionally)"
   ]
  },
  {
   "cell_type": "code",
   "execution_count": 2,
   "id": "74bbdf50-f4af-43fd-9606-25992d3b4a6b",
   "metadata": {},
   "outputs": [
    {
     "name": "stdout",
     "output_type": "stream",
     "text": [
      "==================================\u001b[1m Ai Message \u001b[0m==================================\n",
      "Name: Model\n",
      "\n",
      "So you said you were researcing ocean mammals?\n",
      "================================\u001b[1m Human Message \u001b[0m=================================\n",
      "Name: Lance\n",
      "\n",
      "Yes, that's right.\n",
      "==================================\u001b[1m Ai Message \u001b[0m==================================\n",
      "Name: Model\n",
      "\n",
      "Great, what would you like to learn about.\n",
      "================================\u001b[1m Human Message \u001b[0m=================================\n",
      "Name: Lance\n",
      "\n",
      "I want to learn about the best place to see Orcas in the US.\n"
     ]
    }
   ],
   "source": [
    "from pprint import pprint\n",
    "from langchain_core.messages import AIMessage, HumanMessage\n",
    "\n",
    "messages = [AIMessage(content=f\"So you said you were researcing ocean mammals?\", name=\"Model\")]\n",
    "messages.append(HumanMessage(content=f\"Yes, that's right.\", name=\"Lance\"))\n",
    "messages.append(AIMessage(content=\"Great, what would you like to learn about.\", name=\"Model\"))\n",
    "messages.append(HumanMessage(content=\"I want to learn about the best place to see Orcas in the US.\", name=\"Lance\"))\n",
    "\n",
    "for m in messages:\n",
    "    m.pretty_print()"
   ]
  },
  {
   "cell_type": "code",
   "execution_count": null,
   "id": "61b7f618-8f71-4103-9864-5f81ca611969",
   "metadata": {},
   "outputs": [],
   "source": []
  }
 ],
 "metadata": {
  "kernelspec": {
   "display_name": "Python 3 (ipykernel)",
   "language": "python",
   "name": "python3"
  },
  "language_info": {
   "codemirror_mode": {
    "name": "ipython",
    "version": 3
   },
   "file_extension": ".py",
   "mimetype": "text/x-python",
   "name": "python",
   "nbconvert_exporter": "python",
   "pygments_lexer": "ipython3",
   "version": "3.11.10"
  }
 },
 "nbformat": 4,
 "nbformat_minor": 5
}
