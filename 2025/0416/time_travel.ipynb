{
 "cells": [
  {
   "cell_type": "markdown",
   "id": "79bafca2-9c40-4890-b692-d053a7b31bb9",
   "metadata": {},
   "source": [
    "### Time Travel\n",
    "In a typical chat bot workflow, the user interacts with the bot 1 ore more times to accomplish a task.\n",
    "Ini the previous sections, we saw how to add memory and a human-in-the-loop to be able to checkpoint our graph state and control future response.\n",
    "\n",
    "But what if you want to let your user start from a previous resoponse and \"branch off\" to \n",
    "explore a separate outcome? Or what if you want users to be able to \"rewind\" your assistant's\n",
    "work to fix some mistakes or try different startegy (common in applications like autonomous software engineeer)?\n",
    "\n",
    "You can create both of these expreiences and more using LangGraph's built-in \"time travel\" functionlity.\n",
    "\n",
    "In this section, you will \"rewind\" your graph by fetching a checkpoing using the graph's `get_state_history` method. You can then resume execution at this previous point in time.\n"
   ]
  },
  {
   "cell_type": "markdown",
   "id": "802f08b1-0396-4eb5-aaea-f094f2a7663d",
   "metadata": {},
   "source": [
    "### Let'use the simple chatbot with tools"
   ]
  },
  {
   "cell_type": "code",
   "execution_count": 1,
   "id": "cf29040e-850f-4047-b152-589c63b0ad42",
   "metadata": {},
   "outputs": [],
   "source": [
    "import getpass\n",
    "import os\n",
    "\n",
    "\n",
    "def _set_env(var: str):\n",
    "    if not os.environ.get(var):\n",
    "        os.environ[var] = getpass.getpass(f\"{var}: \")\n",
    "\n",
    "\n",
    "# Set google api key\n",
    "_set_env(\"DASHSCOPE_API_KEY\")\n",
    "# Set tavily api key\n",
    "_set_env(\"TAVILY_API_KEY\")\n",
    "\n",
    "from typing import Annotated\n",
    "from typing_extensions import TypedDict\n",
    "from langgraph.graph.message import add_messages\n",
    "\n",
    "from langchain_core.messages import ToolMessage\n",
    "from langchain_core.tools import InjectedToolCallId, tool\n",
    "from langgraph.types import Command, interrupt\n",
    "\n",
    "class State(TypedDict):\n",
    "    messages: Annotated[list, add_messages]\n",
    "\n",
    "from langchain_community.chat_models.tongyi import ChatTongyi\n",
    "from langchain_community.tools.tavily_search import TavilySearchResults\n",
    "\n",
    "from langgraph.checkpoint.memory import MemorySaver\n",
    "from langgraph.graph import StateGraph, START, END\n",
    "from langgraph.prebuilt import ToolNode, tools_condition\n",
    "\n",
    "tool = TavilySearchResults(max_results=2)\n",
    "tools = [tool]\n",
    "# Set up the Tongyi model\n",
    "llm = ChatTongyi(\n",
    "    model=\"qwen-plus\",\n",
    "    temperature=0.3,\n",
    "    api_key=os.environ[\"DASHSCOPE_API_KEY\"]\n",
    ")\n",
    "\n",
    "llm_with_tools = llm.bind_tools(tools)\n",
    "\n",
    "def chatbot(state: State):\n",
    "    return {\"messages\": [llm_with_tools.invoke(state[\"messages\"])]}\n",
    "\n",
    "\n",
    "graph_builder = StateGraph(State)\n",
    "graph_builder.add_node(\"chatbot\", chatbot)\n",
    "\n",
    "tool_node = ToolNode(tools=tools)\n",
    "graph_builder.add_node(\"tools\", tool_node)\n",
    "\n",
    "graph_builder.add_conditional_edges(\n",
    "    \"chatbot\",\n",
    "    tools_condition,\n",
    ")\n",
    "\n",
    "graph_builder.add_edge(\"tools\", \"chatbot\")\n",
    "graph_builder.add_edge(START, \"chatbot\")\n",
    "\n",
    "memory = MemorySaver()\n",
    "graph = graph_builder.compile(checkpointer=memory)"
   ]
  },
  {
   "cell_type": "markdown",
   "id": "6f23385b-5db5-4484-a7af-d95fd7bbeeff",
   "metadata": {},
   "source": [
    "### Draw graph"
   ]
  },
  {
   "cell_type": "code",
   "execution_count": 3,
   "id": "4c4250a0-1f14-4ffd-9d9f-f9cc11303390",
   "metadata": {},
   "outputs": [
    {
     "data": {
      "image/png": "[encoded data removed]",
      "text/plain": [
       "<IPython.core.display.Image object>"
      ]
     },
     "metadata": {},
     "output_type": "display_data"
    }
   ],
   "source": [
    "from IPython.display import Image, display\n",
    "\n",
    "try:\n",
    "    display(Image(graph.get_graph().draw_mermaid_png()))\n",
    "except Exception:\n",
    "    # This requires some extra dependencies and is optional\n",
    "    pass"
   ]
  },
  {
   "cell_type": "markdown",
   "id": "e09bdf1c-aedb-4e26-9cd3-f8159cfab4fa",
   "metadata": {},
   "source": [
    "### Let's have our graph take a couple steps. Every step will be checkpoints in its state history"
   ]
  },
  {
   "cell_type": "code",
   "execution_count": 18,
   "id": "36a40d9e-7a8f-43fc-bf33-9249c830e4f9",
   "metadata": {},
   "outputs": [
    {
     "name": "stdout",
     "output_type": "stream",
     "text": [
      "================================\u001b[1m Human Message \u001b[0m=================================\n",
      "\n",
      "I'm learning LangGraph. Could you do some research on it for me?\n",
      "==================================\u001b[1m Ai Message \u001b[0m==================================\n",
      "Tool Calls:\n",
      "  tavily_search_results_json (call_e3f358e3c464484093c56d)\n",
      " Call ID: call_e3f358e3c464484093c56d\n",
      "  Args:\n",
      "    query: LangGraph\n",
      "=================================\u001b[1m Tool Message \u001b[0m=================================\n",
      "Name: tavily_search_results_json\n",
      "\n",
      "[{\"title\": \"LangGraph Quickstart - GitHub Pages\", \"url\": \"https://langchain-ai.github.io/langgraph/tutorials/introduction/\", \"content\": \"[](https://langchain-ai.github.io/langgraph/tutorials/introduction/#__codelineno-9-1)Assistant: LangGraph is a library designed to help build stateful multi-agent applications using language models. It provides tools for creating workflows and state machines to coordinate multiple AI agents or language model interactions. LangGraph is built on top of LangChain, leveraging its components while adding graph-based coordination capabilities. It's particularly useful for developing more complex, [...] [](https://langchain-ai.github.io/langgraph/tutorials/introduction/#__codelineno-21-6)   LangGraph is a library designed for building stateful, multi-actor applications with Large Language Models (LLMs). It's particularly useful for creating agent and multi-agent workflows.\\n[](https://langchain-ai.github.io/langgraph/tutorials/introduction/#__codelineno-21-7)\\n[](https://langchain-ai.github.io/langgraph/tutorials/introduction/#__codelineno-21-8)2. Developer: [...] [](https://langchain-ai.github.io/langgraph/tutorials/introduction/#__codelineno-48-19)LangGraph is likely a framework or library designed specifically for creating AI agents with advanced capabilities. Here are a few points to consider based on this recommendation:\\n[](https://langchain-ai.github.io/langgraph/tutorials/introduction/#__codelineno-48-20)\", \"score\": 0.9328032}, {\"title\": \"LangGraph: Build Stateful AI Agents in Python - Real Python\", \"url\": \"https://realpython.com/langgraph-python/\", \"content\": \"Remove ads\\nLangGraph is a versatile Python library designed for stateful, cyclic, and multi-actor Large Language Model (LLM) applications. LangGraph builds upon its parent library, LangChain, and allows you to build sophisticated workflows that are capable of handling the complexities of real-world LLM applications.\\nBy the end of this tutorial, you’ll understand that: [...] These FAQs are related to the most important concepts you’ve covered in this tutorial. Click the Show/Hide toggle beside each question to reveal the answer.\\nWhat is LangGraph?Show/Hide\\nLangGraph is a Python library that helps you build stateful, cyclic, and multi-actor workflows for Large Language Model (LLM) applications, expanding upon LangChain’s capabilities.\\nHow does LangGraph differ from LangChain?Show/Hide [...] As you might have inferred from the name, LangGraph is all about implementing LLM applications as directed graphs. You can think of a directed graph as a sequence of instructions composed of nodes and edges, that tell you how to complete a task. In LangGraph, nodes represent actions that your graph can take, such as calling a function, and edges tell you which node to go to next.\\nTo understand this better, take a look at this directed graph:\", \"score\": 0.9184877}]\n",
      "==================================\u001b[1m Ai Message \u001b[0m==================================\n",
      "\n",
      "LangGraph is a Python library designed to help build stateful multi-agent applications using Large Language Models (LLMs). It provides tools for creating workflows and state machines to coordinate multiple AI agents or LLM interactions. LangGraph builds upon its parent library, [LangChain](https://langchain-ai.github.io/), and allows you to build sophisticated workflows that are capable of handling the complexities of real-world LLM applications.\n",
      "\n",
      "Here are some key points about LangGraph:\n",
      "\n",
      "1. **Purpose**: LangGraph is particularly useful for creating agent and multi-agent workflows.\n",
      "2. **Developer**: It's developed by the same team behind LangChain.\n",
      "3. **Graph-based Coordination**: LangGraph uses directed graphs where nodes represent actions that your graph can take, such as calling a function, and edges tell you which node to go to next.\n",
      "4. **Capabilities**: It helps in building stateful, cyclic, and multi-actor workflows for LLM applications.\n",
      "\n",
      "For more detailed information, you can check out these resources:\n",
      "- [LangGraph Quickstart](https://langchain-ai.github.io/langgraph/tutorials/introduction/)\n",
      "- [LangGraph: Build Stateful AI Agents in Python - Real Python](https://realpython.com/langgraph-python/)\n"
     ]
    }
   ],
   "source": [
    "config = {\"configurable\": {\"thread_id\": \"2\"}}\n",
    "events = graph.stream(\n",
    "    {\n",
    "        \"messages\": [\n",
    "            {\n",
    "                \"role\": \"user\",\n",
    "                \"content\": (\n",
    "                    \"I'm learning LangGraph. \"\n",
    "                    \"Could you do some research on it for me?\"\n",
    "                ),\n",
    "            },\n",
    "        ],\n",
    "    },\n",
    "    config,\n",
    "    stream_mode=\"values\",\n",
    ")\n",
    "\n",
    "for event in events:\n",
    "    if \"messages\" in event:\n",
    "        event[\"messages\"][-1].pretty_print()"
   ]
  },
  {
   "cell_type": "code",
   "execution_count": 19,
   "id": "cc6277ec-72f8-44d9-b720-21182e8c4e45",
   "metadata": {},
   "outputs": [
    {
     "name": "stdout",
     "output_type": "stream",
     "text": [
      "================================\u001b[1m Human Message \u001b[0m=================================\n",
      "\n",
      "Ya that's helpful,. Maybe I'llBuild an autonomous agent with it!\n",
      "==================================\u001b[1m Ai Message \u001b[0m==================================\n",
      "\n",
      "That sounds like an exciting project! Building an autonomous agent with LangGraph can indeed be a rewarding experience. Here are some steps and tips to help you get started:\n",
      "\n",
      "1. **Understand the Basics**: Make sure you have a solid understanding of LangGraph's core concepts, such as nodes, edges, and how they interact within the graph structure.\n",
      "\n",
      "2. **Define Your Agent's Purpose**: Clearly outline what tasks or problems your autonomous agent will address. This will guide the design and implementation process.\n",
      "\n",
      "3. **Set Up Your Environment**: Ensure that you have all necessary dependencies installed, including Python and any required libraries (LangGraph, LangChain, etc.).\n",
      "\n",
      "4. **Design the Workflow**: Sketch out the workflow for your agent using directed graphs. Decide on the actions (nodes) and transitions (edges) needed for your application.\n",
      "\n",
      "5. **Implement the Agent**: Start coding your agent by defining the nodes and edges based on your workflow design. Utilize LangGraph’s capabilities to manage states and interactions effectively.\n",
      "\n",
      "6. **Test and Iterate**: Test your agent thoroughly to ensure it behaves as expected. Be prepared to iterate on your design based on testing outcomes.\n",
      "\n",
      "7. **Leverage Community Resources**: Look into tutorials, documentation, and community forums for additional guidance and inspiration.\n",
      "\n",
      "For more detailed guidance, you might want to revisit the resources mentioned earlier or explore further materials:\n",
      "\n",
      "- [LangGraph Quickstart](https://langchain-ai.github.io/langgraph/tutorials/introduction/)\n",
      "- [LangGraph: Build Stateful AI Agents in Python - Real Python](https://realpython.com/langgraph-python/)\n",
      "\n",
      "Good luck with your project, and feel free to reach out if you have any questions along the way!\n"
     ]
    }
   ],
   "source": [
    "events = graph.stream(\n",
    "    {\n",
    "        \"messages\": [\n",
    "            {\n",
    "                \"role\": \"user\",\n",
    "                \"content\": (\n",
    "                    \"Ya that's helpful,. Maybe I'll\"\n",
    "                    \"Build an autonomous agent with it!\"\n",
    "                ),\n",
    "            },\n",
    "        ], \n",
    "    },\n",
    "    config,\n",
    "    stream_mode=\"values\",\n",
    ")\n",
    "\n",
    "for event in events:\n",
    "    if \"messages\" in event:\n",
    "        event[\"messages\"][-1].pretty_print()"
   ]
  },
  {
   "cell_type": "markdown",
   "id": "bd4c0ea5-c4e5-4cd4-a6df-c35d8b245c7f",
   "metadata": {},
   "source": [
    "### Replay\n",
    "Now that we'vew had the agent take couple steps, we can `replay` the full state history to see everything that occurred."
   ]
  },
  {
   "cell_type": "code",
   "execution_count": 22,
   "id": "777b755a-215f-4909-b1ce-fa9cf75995dc",
   "metadata": {},
   "outputs": [
    {
     "name": "stdout",
     "output_type": "stream",
     "text": [
      "Num messages:  6 Next:  ()\n",
      "--------------------------------------------------------------------------------\n",
      "Num messages:  5 Next:  ('chatbot',)\n",
      "--------------------------------------------------------------------------------\n",
      "Num messages:  4 Next:  ('__start__',)\n",
      "--------------------------------------------------------------------------------\n",
      "Num messages:  4 Next:  ()\n",
      "--------------------------------------------------------------------------------\n",
      "Num messages:  3 Next:  ('chatbot',)\n",
      "--------------------------------------------------------------------------------\n",
      "Num messages:  2 Next:  ('tools',)\n",
      "--------------------------------------------------------------------------------\n",
      "Num messages:  1 Next:  ('chatbot',)\n",
      "--------------------------------------------------------------------------------\n",
      "Num messages:  0 Next:  ('__start__',)\n",
      "--------------------------------------------------------------------------------\n"
     ]
    }
   ],
   "source": [
    "to_replay = None\n",
    "for state in graph.get_state_history(config):\n",
    "    print(\"Num messages: \", len(state.values[\"messages\"]), \"Next: \", state.next)\n",
    "    print(\"-\" * 80)\n",
    "    if len(state.values[\"messages\"]) == 6:\n",
    "        # We are somewhat arbitraily selecting a specific state based on the number of chat messages in the state.\n",
    "        to_replay = state\n",
    "        "
   ]
  },
  {
   "cell_type": "markdown",
   "id": "ac50b74a-f235-4840-8325-fab01c583c09",
   "metadata": {},
   "source": [
    "### Resuming from this point should call the `action` node next."
   ]
  },
  {
   "cell_type": "code",
   "execution_count": 23,
   "id": "11be5f0c-e5cc-437b-9a3d-4a350ca8e4fe",
   "metadata": {},
   "outputs": [
    {
     "name": "stdout",
     "output_type": "stream",
     "text": [
      "()\n",
      "{'configurable': {'thread_id': '2', 'checkpoint_ns': '', 'checkpoint_id': '1f01ba36-81d7-6bee-8006-b6c98b35b84c'}}\n"
     ]
    }
   ],
   "source": [
    "print(to_replay.next)\n",
    "print(to_replay.config)"
   ]
  },
  {
   "cell_type": "markdown",
   "id": "503abed3-22f7-4cc5-a726-9b0678768e49",
   "metadata": {},
   "source": [
    "<b>Notice</b> that the checkpoint's config(`to_replay.config`) contains a `checkpoint_id` `timestamp`, Providing this `checkpoint_id`\n",
    "value tell Langgraph's checkpointer to load the state from that moment in time. Let's try it below:"
   ]
  },
  {
   "cell_type": "code",
   "execution_count": 24,
   "id": "ead98f15-3d51-4bbd-876d-cfb408be087c",
   "metadata": {},
   "outputs": [
    {
     "name": "stdout",
     "output_type": "stream",
     "text": [
      "==================================\u001b[1m Ai Message \u001b[0m==================================\n",
      "\n",
      "That sounds like an exciting project! Building an autonomous agent with LangGraph can indeed be a rewarding experience. Here are some steps and tips to help you get started:\n",
      "\n",
      "1. **Understand the Basics**: Make sure you have a solid understanding of LangGraph's core concepts, such as nodes, edges, and how they interact within the graph structure.\n",
      "\n",
      "2. **Define Your Agent's Purpose**: Clearly outline what tasks or problems your autonomous agent will address. This will guide the design and implementation process.\n",
      "\n",
      "3. **Set Up Your Environment**: Ensure that you have all necessary dependencies installed, including Python and any required libraries (LangGraph, LangChain, etc.).\n",
      "\n",
      "4. **Design the Workflow**: Sketch out the workflow for your agent using directed graphs. Decide on the actions (nodes) and transitions (edges) needed for your application.\n",
      "\n",
      "5. **Implement the Agent**: Start coding your agent by defining the nodes and edges based on your workflow design. Utilize LangGraph’s capabilities to manage states and interactions effectively.\n",
      "\n",
      "6. **Test and Iterate**: Test your agent thoroughly to ensure it behaves as expected. Be prepared to iterate on your design based on testing outcomes.\n",
      "\n",
      "7. **Leverage Community Resources**: Look into tutorials, documentation, and community forums for additional guidance and inspiration.\n",
      "\n",
      "For more detailed guidance, you might want to revisit the resources mentioned earlier or explore further materials:\n",
      "\n",
      "- [LangGraph Quickstart](https://langchain-ai.github.io/langgraph/tutorials/introduction/)\n",
      "- [LangGraph: Build Stateful AI Agents in Python - Real Python](https://realpython.com/langgraph-python/)\n",
      "\n",
      "Good luck with your project, and feel free to reach out if you have any questions along the way!\n"
     ]
    }
   ],
   "source": [
    "# The `checkpoint_id` in the `to_replay_config` corresponds to state we've presisted to our checkpointer.\n",
    "for event in graph.stream(None, to_replay.config, stream_mode=\"values\"):\n",
    "    if \"messages\" in event:\n",
    "        event[\"messages\"][-1].pretty_print()"
   ]
  },
  {
   "cell_type": "markdown",
   "id": "50250e53-08ac-4639-b6cb-59a6570fbf59",
   "metadata": {},
   "source": [
    "<b>Notice</b> That the graph resumed execution from the `action` node. You can tell this is the case since the first\n",
    "value printed above is the response from our search engine tool."
   ]
  },
  {
   "cell_type": "code",
   "execution_count": null,
   "id": "17c3822a-5298-4eac-9666-90daef8f8228",
   "metadata": {},
   "outputs": [],
   "source": []
  }
 ],
 "metadata": {
  "kernelspec": {
   "display_name": "Python 3 (ipykernel)",
   "language": "python",
   "name": "python3"
  },
  "language_info": {
   "codemirror_mode": {
    "name": "ipython",
    "version": 3
   },
   "file_extension": ".py",
   "mimetype": "text/x-python",
   "name": "python",
   "nbconvert_exporter": "python",
   "pygments_lexer": "ipython3",
   "version": "3.11.10"
  }
 },
 "nbformat": 4,
 "nbformat_minor": 5
}
