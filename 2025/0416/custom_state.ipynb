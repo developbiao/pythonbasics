{
 "cells": [
  {
   "cell_type": "markdown",
   "id": "ac7d8e99-569f-43b5-8656-66112f600d60",
   "metadata": {},
   "source": [
    "### Custom agent state"
   ]
  },
  {
   "cell_type": "markdown",
   "id": "77282278-0a0c-4047-995c-2221ef0545ce",
   "metadata": {},
   "source": [
    "### Initilization environment"
   ]
  },
  {
   "cell_type": "code",
   "execution_count": 1,
   "id": "d60542c1-bf69-4dd9-af24-6181e6a0278d",
   "metadata": {},
   "outputs": [],
   "source": [
    "import getpass\n",
    "import os\n",
    "\n",
    "\n",
    "def _set_env(var: str):\n",
    "    if not os.environ.get(var):\n",
    "        os.environ[var] = getpass.getpass(f\"{var}: \")\n",
    "\n",
    "\n",
    "# Set google api key\n",
    "_set_env(\"DASHSCOPE_API_KEY\")\n",
    "# Set tavily api key\n",
    "_set_env(\"TAVILY_API_KEY\")"
   ]
  },
  {
   "cell_type": "markdown",
   "id": "ee0b5d5e-3d36-47b9-afe5-99abd651dba3",
   "metadata": {},
   "source": [
    "### Part01"
   ]
  },
  {
   "cell_type": "code",
   "execution_count": 25,
   "id": "216cf576-1408-4345-bbd8-6a1c7d2dbfc5",
   "metadata": {},
   "outputs": [],
   "source": [
    "from typing import Annotated\n",
    "from typing_extensions import TypedDict\n",
    "from langgraph.graph.message import add_messages\n",
    "\n",
    "from langchain_core.messages import ToolMessage\n",
    "from langchain_core.tools import InjectedToolCallId, tool\n",
    "from langgraph.types import Command, interrupt\n",
    "\n",
    "class State(TypedDict):\n",
    "    messages: Annotated[list, add_messages]\n",
    "    name: str\n",
    "    birthday: str\n",
    "\n",
    "\n",
    "@tool\n",
    "# Note that because we are generating a Tool message fro a state update, we\n",
    "# generally require the ID of teh corresponding tool call. We can use \n",
    "# LangChain's InjectedToolCallId to signal that this argument should not \n",
    "# Be revealed to the model in the tool's schema.\n",
    "def human_assistance(\n",
    "    name: str, birthday: str, tool_call_id: Annotated[str, InjectedToolCallId]\n",
    ") -> str:\n",
    "    \"\"\"\n",
    "    Request asistance from a human.\n",
    "    \"\"\"\n",
    "    human_response = interrupt(\n",
    "        {\n",
    "            \"question\": \"Is this correct?\",\n",
    "            \"name\": name,\n",
    "            \"birthday\": birthday,\n",
    "        },\n",
    "    )\n",
    "    # If the information is correct, update the state as -is.\n",
    "    if human_response.get(\"correct\", \"\").lower().startswith(\"y\"):\n",
    "        verified_name = name\n",
    "        verified_birthday = birthday\n",
    "        response = \"Correct\"\n",
    "\n",
    "    # Otherwise, receive information form the human reviewer.\n",
    "    else:\n",
    "        verified_name = human_response.get(\"name\", name)\n",
    "        verified_birthday = human_response.get(\"birthday\", birthday)\n",
    "        response = f\"Made a correction: {human_response}\"\n",
    "\n",
    "    # This time we explicitly update the state with a ToolMessage inside\n",
    "    # The tool.\n",
    "    state_update = {\n",
    "        \"name\": verified_name,\n",
    "        \"birthday\": verified_birthday,\n",
    "        \"messages\": [ToolMessage(response, tool_call_id = tool_call_id)]\n",
    "    }\n",
    "\n",
    "    # We return a Command object in the tool to update our state.\n",
    "    return Command(update=state_update)"
   ]
  },
  {
   "cell_type": "markdown",
   "id": "ccad30f2-77bd-4217-8427-6108be602bdc",
   "metadata": {},
   "source": [
    "### Part02:"
   ]
  },
  {
   "cell_type": "code",
   "execution_count": 26,
   "id": "b950a059-5bba-4a3a-afcd-ea403ba994af",
   "metadata": {},
   "outputs": [],
   "source": [
    "from langchain_community.chat_models.tongyi import ChatTongyi\n",
    "from langchain_community.tools.tavily_search import TavilySearchResults\n",
    "\n",
    "from langgraph.checkpoint.memory import MemorySaver\n",
    "from langgraph.graph import StateGraph, START, END\n",
    "from langgraph.prebuilt import ToolNode, tools_condition\n",
    "\n",
    "tool = TavilySearchResults(max_results=2)\n",
    "tools = [tool, human_assistance]\n",
    "# Set up the Tongyi model\n",
    "llm = ChatTongyi(\n",
    "    model=\"qwen-plus\",\n",
    "    temperature=0.3,\n",
    "    api_key=os.environ[\"DASHSCOPE_API_KEY\"]\n",
    ")\n",
    "\n",
    "llm_with_tools = llm.bind_tools(tools)\n",
    "\n",
    "def chatbot(state: State):\n",
    "    message = llm_with_tools.invoke(state[\"messages\"])\n",
    "    assert len(message.tool_calls) <= 1\n",
    "    return {\"messages\": [message]}\n",
    "\n",
    "graph_builder = StateGraph(State)\n",
    "graph_builder.add_node(\"chatbot\", chatbot)\n",
    "\n",
    "tool_node = ToolNode(tools=tools)\n",
    "graph_builder.add_node(\"tools\", tool_node)\n",
    "\n",
    "graph_builder.add_conditional_edges(\n",
    "    \"chatbot\",\n",
    "    tools_condition,\n",
    ")\n",
    "\n",
    "graph_builder.add_edge(\"tools\", \"chatbot\")\n",
    "graph_builder.add_edge(START, \"chatbot\")\n",
    "\n",
    "memory = MemorySaver()\n",
    "graph = graph_builder.compile(checkpointer=memory)\n"
   ]
  },
  {
   "cell_type": "markdown",
   "id": "720c04ad-2446-4b40-9eff-1c549bca72cb",
   "metadata": {},
   "source": [
    "### Draw graph chart"
   ]
  },
  {
   "cell_type": "code",
   "execution_count": 27,
   "id": "59d82023-7884-4d76-b70d-d5cf6b23b3d5",
   "metadata": {},
   "outputs": [
    {
     "data": {
      "image/png": "[encoded data removed]",
      "text/plain": [
       "<IPython.core.display.Image object>"
      ]
     },
     "metadata": {},
     "output_type": "display_data"
    }
   ],
   "source": [
    "from IPython.display import Image, display\n",
    "\n",
    "try:\n",
    "    display(Image(graph.get_graph().draw_mermaid_png()))\n",
    "except Exception:\n",
    "    # This requires some extra dependencies and is optional\n",
    "    pass"
   ]
  },
  {
   "cell_type": "markdown",
   "id": "2c473de9-d31c-4ce1-a999-c015a70b88fe",
   "metadata": {},
   "source": [
    "### part 03 human assistance user input"
   ]
  },
  {
   "cell_type": "code",
   "execution_count": 28,
   "id": "c6d1f88b-d585-46c4-81c8-c990c4e6eba9",
   "metadata": {},
   "outputs": [
    {
     "name": "stdout",
     "output_type": "stream",
     "text": [
      "================================\u001b[1m Human Message \u001b[0m=================================\n",
      "\n",
      "Can you look up when gemini LLM was released? When you have the answer, use the human_assistance tool for review.\n",
      "==================================\u001b[1m Ai Message \u001b[0m==================================\n",
      "Tool Calls:\n",
      "  tavily_search_results_json (call_36ea2dd01fc9419da6d33d)\n",
      " Call ID: call_36ea2dd01fc9419da6d33d\n",
      "  Args:\n",
      "    query: gemini LLM release date\n",
      "=================================\u001b[1m Tool Message \u001b[0m=================================\n",
      "Name: tavily_search_results_json\n",
      "\n",
      "[{\"title\": \"Gemini 1.5 Pro explained: Everything you need to know - TechTarget\", \"url\": \"https://www.techtarget.com/whatis/feature/Gemini-15-Pro-explained-Everything-you-need-to-know\", \"content\": \"OpenAI helped kick off the modern LLM era with its GPT series, and the latest edition -- the GPT-4o model -- was released on May 13, 2024.\", \"score\": 0.8016413}, {\"title\": \"Gemini (chatbot) - Wikipedia\", \"url\": \"https://en.wikipedia.org/wiki/Gemini_(chatbot)\", \"content\": \"Based on the large language model (LLM) of the same name, it was launched in 2023 in response to the rise of OpenAI's ChatGPT. It was previously based on the\", \"score\": 0.7011614}]\n",
      "==================================\u001b[1m Ai Message \u001b[0m==================================\n",
      "\n",
      "The Gemini LLM was launched in 2023, according to the information from Wikipedia. For further confirmation and review of this answer, I will now use the human_assistance tool.\n",
      "Tool Calls:\n",
      "  human_assistance (call_b86af92239ea438db35ee7)\n",
      " Call ID: call_b86af92239ea438db35ee7\n",
      "  Args:\n",
      "    name: John\n",
      "    birthday: 1990-05-24\n"
     ]
    }
   ],
   "source": [
    "user_input = (\n",
    "    \"Can you look up when gemini LLM was released? \"\n",
    "    \"When you have the answer, use the human_assistance tool for review.\"\n",
    ")\n",
    "config = {\"configurable\": {\"thread_id\": \"1\"}}\n",
    "\n",
    "events = graph.stream(\n",
    "    {\"messages\": [{\"role\": \"user\", \"content\": user_input}]},\n",
    "    config,\n",
    "    stream_mode=\"values\",\n",
    ")\n",
    "for event in events:\n",
    "    if \"messages\" in event:\n",
    "        event[\"messages\"][-1].pretty_print()\n"
   ]
  },
  {
   "cell_type": "markdown",
   "id": "cb1afaf4-3eff-4b2b-bf50-ad2cf8f105ff",
   "metadata": {},
   "source": [
    "### Human Command to resume"
   ]
  },
  {
   "cell_type": "code",
   "execution_count": 29,
   "id": "0422fd80-d347-4657-bdf2-988680f0251c",
   "metadata": {},
   "outputs": [
    {
     "name": "stdout",
     "output_type": "stream",
     "text": [
      "==================================\u001b[1m Ai Message \u001b[0m==================================\n",
      "\n",
      "The Gemini LLM was launched in 2023, according to the information from Wikipedia. For further confirmation and review of this answer, I will now use the human_assistance tool.\n",
      "Tool Calls:\n",
      "  human_assistance (call_b86af92239ea438db35ee7)\n",
      " Call ID: call_b86af92239ea438db35ee7\n",
      "  Args:\n",
      "    name: John\n",
      "    birthday: 1990-05-24\n",
      "=================================\u001b[1m Tool Message \u001b[0m=================================\n",
      "Name: human_assistance\n",
      "\n",
      "Made a correction: {'name': 'Gemini-flash-2.0', 'birthday': 'Apr 17, 2025'}\n",
      "==================================\u001b[1m Ai Message \u001b[0m==================================\n",
      "\n",
      "The release date of the Gemini LLM was corrected to April 17, 2025. This information has been reviewed and confirmed by human assistance.\n"
     ]
    }
   ],
   "source": [
    "human_command = Command(\n",
    "    resume = {\n",
    "        \"name\": \"Gemini-flash-2.0\",\n",
    "        \"birthday\": \"Apr 17, 2025\",\n",
    "    },\n",
    ")\n",
    "\n",
    "events = graph.stream(human_command, config, stream_mode=\"values\")\n",
    "for event in events:\n",
    "    if \"messages\" in event:\n",
    "        event[\"messages\"][-1].pretty_print()"
   ]
  },
  {
   "cell_type": "markdown",
   "id": "e790944f-c5e0-4737-8b81-2b56e4150781",
   "metadata": {},
   "source": [
    "### Snapshot"
   ]
  },
  {
   "cell_type": "code",
   "execution_count": 30,
   "id": "2129b787-0682-41cd-be11-53239d8307bd",
   "metadata": {},
   "outputs": [
    {
     "data": {
      "text/plain": [
       "{'name': 'Gemini-flash-2.0', 'birthday': 'Apr 17, 2025'}"
      ]
     },
     "execution_count": 30,
     "metadata": {},
     "output_type": "execute_result"
    }
   ],
   "source": [
    "snapshot = graph.get_state(config)\n",
    "{k: v for k, v in snapshot.values.items() if k in (\"name\", \"birthday\")}"
   ]
  },
  {
   "cell_type": "markdown",
   "id": "584e475e-964e-4133-a7ba-f60818ad02e9",
   "metadata": {},
   "source": [
    "### Manual update steate\n"
   ]
  },
  {
   "cell_type": "code",
   "execution_count": 36,
   "id": "963391a4-7885-40af-869e-a7ff788f7e1e",
   "metadata": {},
   "outputs": [
    {
     "data": {
      "text/plain": [
       "{'configurable': {'thread_id': '1',\n",
       "  'checkpoint_ns': '',\n",
       "  'checkpoint_id': '1f01b9ad-23a5-6b4a-8007-45bca2a5010f'}}"
      ]
     },
     "execution_count": 36,
     "metadata": {},
     "output_type": "execute_result"
    }
   ],
   "source": [
    "graph.update_state(config, {\"name\": \"BiaoGe Learning Langgraph verygood!\"})"
   ]
  },
  {
   "cell_type": "code",
   "execution_count": null,
   "id": "521dcd68-e643-4a55-aad6-8356733cb4c8",
   "metadata": {},
   "outputs": [],
   "source": [
    "snapshot = graph.get_state(config)\n",
    "{k: v for k, v in "
   ]
  }
 ],
 "metadata": {
  "kernelspec": {
   "display_name": "Python 3 (ipykernel)",
   "language": "python",
   "name": "python3"
  },
  "language_info": {
   "codemirror_mode": {
    "name": "ipython",
    "version": 3
   },
   "file_extension": ".py",
   "mimetype": "text/x-python",
   "name": "python",
   "nbconvert_exporter": "python",
   "pygments_lexer": "ipython3",
   "version": "3.11.10"
  }
 },
 "nbformat": 4,
 "nbformat_minor": 5
}
