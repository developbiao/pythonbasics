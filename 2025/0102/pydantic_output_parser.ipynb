{
 "cells": [
  {
   "cell_type": "markdown",
   "id": "da3139df-4800-428e-9c31-4ece7a7149ea",
   "metadata": {},
   "source": [
    "### Pydatic output parser tutorial"
   ]
  },
  {
   "cell_type": "code",
   "execution_count": 1,
   "id": "ccd871bc-27e2-48b1-948e-be82f2dcdae3",
   "metadata": {},
   "outputs": [],
   "source": [
    "# ----- Part 01\n",
    "from pydantic import BaseModel, Field\n",
    "# Define model\n",
    "# Expect response model   \n",
    "class FlowerDescription(BaseModel):\n",
    "    flower_type: str = Field(description=\"flower type\")\n",
    "    price: int = Field(description=\"flower price\")\n",
    "    description: str = Field(description=\"description\")\n",
    "    reason: str = Field(description=\"Why recommend\")\n",
    "    \n",
    "# Prepare data\n",
    "flowers = [\"玫瑰\", \"百合\", \"康乃馨\"]\n",
    "prices = [\"99\", \"33\", \"77\"]\n",
    "\n"
   ]
  },
  {
   "cell_type": "code",
   "execution_count": 2,
   "id": "0c3d903c-40c1-4923-a17b-128f8b59d9d5",
   "metadata": {},
   "outputs": [
    {
     "name": "stdout",
     "output_type": "stream",
     "text": [
      "Output Format: The output should be formatted as a JSON instance that conforms to the JSON schema below.\n",
      "\n",
      "As an example, for the schema {\"properties\": {\"foo\": {\"title\": \"Foo\", \"description\": \"a list of strings\", \"type\": \"array\", \"items\": {\"type\": \"string\"}}}, \"required\": [\"foo\"]}\n",
      "the object {\"foo\": [\"bar\", \"baz\"]} is a well-formatted instance of the schema. The object {\"properties\": {\"foo\": [\"bar\", \"baz\"]}} is not well-formatted.\n",
      "\n",
      "Here is the output schema:\n",
      "```\n",
      "{\"properties\": {\"flower_type\": {\"description\": \"flower type\", \"title\": \"Flower Type\", \"type\": \"string\"}, \"price\": {\"description\": \"flower price\", \"title\": \"Price\", \"type\": \"integer\"}, \"description\": {\"description\": \"description\", \"title\": \"Description\", \"type\": \"string\"}, \"reason\": {\"description\": \"Why recommend\", \"title\": \"Reason\", \"type\": \"string\"}}, \"required\": [\"flower_type\", \"price\", \"description\", \"reason\"]}\n",
      "```\n"
     ]
    }
   ],
   "source": [
    "# ----- Part 02\n",
    "# Create output parser\n",
    "from langchain.output_parsers import PydanticOutputParser\n",
    "output_parser = PydanticOutputParser(pydantic_object=FlowerDescription)\n",
    "\n",
    "# Get output format instructions\n",
    "format_instructions = output_parser.get_format_instructions()\n",
    "print(\"Output Format:\", format_instructions)\n"
   ]
  },
  {
   "cell_type": "code",
   "execution_count": 3,
   "id": "3013c809-b1be-492d-81a1-783233f815b7",
   "metadata": {},
   "outputs": [
    {
     "name": "stdout",
     "output_type": "stream",
     "text": [
      "input_variables=['flower', 'price'] input_types={} partial_variables={'format_instructions': 'The output should be formatted as a JSON instance that conforms to the JSON schema below.\\n\\nAs an example, for the schema {\"properties\": {\"foo\": {\"title\": \"Foo\", \"description\": \"a list of strings\", \"type\": \"array\", \"items\": {\"type\": \"string\"}}}, \"required\": [\"foo\"]}\\nthe object {\"foo\": [\"bar\", \"baz\"]} is a well-formatted instance of the schema. The object {\"properties\": {\"foo\": [\"bar\", \"baz\"]}} is not well-formatted.\\n\\nHere is the output schema:\\n```\\n{\"properties\": {\"flower_type\": {\"description\": \"flower type\", \"title\": \"Flower Type\", \"type\": \"string\"}, \"price\": {\"description\": \"flower price\", \"title\": \"Price\", \"type\": \"integer\"}, \"description\": {\"description\": \"description\", \"title\": \"Description\", \"type\": \"string\"}, \"reason\": {\"description\": \"Why recommend\", \"title\": \"Reason\", \"type\": \"string\"}}, \"required\": [\"flower_type\", \"price\", \"description\", \"reason\"]}\\n```'} template='\\n您是一位专业的鲜花店文案撰写员。\\n对于售价为 {price} 元的 {flower} ，您能提供一个吸引人的简短中文描述吗？\\n{format_instructions}\\n'\n"
     ]
    }
   ],
   "source": [
    "# ----- Part 03\n",
    "# Create prompt\n",
    "from langchain import PromptTemplate\n",
    "prompt_template = \"\"\"\n",
    "您是一位专业的鲜花店文案撰写员。\n",
    "对于售价为 {price} 元的 {flower} ，您能提供一个吸引人的简短中文描述吗？\n",
    "{format_instructions}\n",
    "\"\"\"\n",
    "\n",
    "# 根据模板提示词，同时在提示词中加入输出解析器的说明\n",
    "prompt = PromptTemplate.from_template(prompt_template,\n",
    "                                      partial_variables={\"format_instructions\": format_instructions}\n",
    "                                     )\n",
    "print(prompt)"
   ]
  },
  {
   "cell_type": "code",
   "execution_count": null,
   "id": "927ac688-302d-4fe4-90d4-d86404d1638d",
   "metadata": {},
   "outputs": [
    {
     "name": "stdout",
     "output_type": "stream",
     "text": [
      "Prompt: \n",
      "您是一位专业的鲜花店文案撰写员。\n",
      "对于售价为 99 元的 玫瑰 ，您能提供一个吸引人的简短中文描述吗？\n",
      "The output should be formatted as a JSON instance that conforms to the JSON schema below.\n",
      "\n",
      "As an example, for the schema {\"properties\": {\"foo\": {\"title\": \"Foo\", \"description\": \"a list of strings\", \"type\": \"array\", \"items\": {\"type\": \"string\"}}}, \"required\": [\"foo\"]}\n",
      "the object {\"foo\": [\"bar\", \"baz\"]} is a well-formatted instance of the schema. The object {\"properties\": {\"foo\": [\"bar\", \"baz\"]}} is not well-formatted.\n",
      "\n",
      "Here is the output schema:\n",
      "```\n",
      "{\"properties\": {\"flower_type\": {\"description\": \"flower type\", \"title\": \"Flower Type\", \"type\": \"string\"}, \"price\": {\"description\": \"flower price\", \"title\": \"Price\", \"type\": \"integer\"}, \"description\": {\"description\": \"description\", \"title\": \"Description\", \"type\": \"string\"}, \"reason\": {\"description\": \"Why recommend\", \"title\": \"Reason\", \"type\": \"string\"}}, \"required\": [\"flower_type\", \"price\", \"description\", \"reason\"]}\n",
      "```\n",
      "\n"
     ]
    }
   ],
   "source": [
    "# ---- Part 04\n",
    "# Test Genereate prompt list\n",
    "import os\n",
    "\n",
    "if \"GOOGLE_API_KEY\" not in os.environ:\n",
    "    os.environ[\"GOOGLE_API_KEY\"] = os.getenv(\"GEMINI_API_KEY\")\n",
    "from langchain_google_genai import ChatGoogleGenerativeAI\n",
    "\n",
    "chat_model = ChatGoogleGenerativeAI(\n",
    "    model=\"gemini-1.5-flash\",\n",
    "    temperature=0,\n",
    "    max_tokens=1024,\n",
    "    timeout=None,\n",
    "    max_retries=2,\n",
    ")\n",
    "\n",
    "# 创建一个空的DataFrame用于存储结果\n",
    "import pandas as pd\n",
    "df = pd.DataFrame(columns=[\"flower_type\", \"price\", \"description\", \"reason\"])\n",
    "\n",
    "for flower, price in zip(flowers, prices):\n",
    "    # 根据提示准备模型的输入\n",
    "    input = prompt.format(flower=flower, price=price)\n",
    "    # 打印提示词\n",
    "    print(\"Prompt:\", input)\n",
    "    # 调用模型\n",
    "    output = chat_model.invoke(input)\n",
    "    # 解析模型的输出\n",
    "    parsed_output = output_parser.parse(output.content)\n",
    "    \n",
    "    print(\"Parsed_output:\", parsed_outup.dict())\n",
    "    \n",
    "    # 将解析后的输出添加到DataFrame中\n",
    "    df.loc[len(df)] = parsed_output.dict()\n",
    "    \n",
    "# Print dict\n",
    "print(\"Output data\", df.to_dict(orient='records'))\n",
    "    \n",
    "    "
   ]
  },
  {
   "cell_type": "code",
   "execution_count": null,
   "id": "c5c7beeb-7f31-424e-8ea2-df70abb6af49",
   "metadata": {},
   "outputs": [],
   "source": []
  }
 ],
 "metadata": {
  "kernelspec": {
   "display_name": "Python 3 (ipykernel)",
   "language": "python",
   "name": "python3"
  },
  "language_info": {
   "codemirror_mode": {
    "name": "ipython",
    "version": 3
   },
   "file_extension": ".py",
   "mimetype": "text/x-python",
   "name": "python",
   "nbconvert_exporter": "python",
   "pygments_lexer": "ipython3",
   "version": "3.10.9"
  }
 },
 "nbformat": 4,
 "nbformat_minor": 5
}
