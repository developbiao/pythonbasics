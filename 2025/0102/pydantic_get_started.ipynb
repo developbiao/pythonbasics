{
 "cells": [
  {
   "cell_type": "markdown",
   "id": "76219041-fcae-4e3a-99e0-6b1e34c67de6",
   "metadata": {},
   "source": [
    "### Installation\n",
    "The only Python package you need for now is pydantic_ai."
   ]
  },
  {
   "cell_type": "code",
   "execution_count": 2,
   "id": "4d09faba-ab48-47ca-936b-926aa11cced0",
   "metadata": {},
   "outputs": [],
   "source": [
    "!pip install pydantic_ai -qU"
   ]
  },
  {
   "cell_type": "markdown",
   "id": "08edd9f6-a0a4-4914-9192-7d39283b6ecf",
   "metadata": {},
   "source": [
    "### Set Environment Ready\n",
    "To make the demo application run ,we will also need `net-asyncio`.\n",
    "Next setp is to set up environment variable `GEMINI_API_KEY` so that the Pydantic AI agents can pick it up in using gemini models."
   ]
  },
  {
   "cell_type": "code",
   "execution_count": 3,
   "id": "e7e042cc-2351-4aa6-9f7e-ddfb5ed73835",
   "metadata": {},
   "outputs": [],
   "source": [
    "!pip install nest-asyncio -qU"
   ]
  },
  {
   "cell_type": "code",
   "execution_count": 1,
   "id": "87bfe02d-e85b-4160-8b6b-e86b27568c43",
   "metadata": {},
   "outputs": [],
   "source": [
    "import nest_asyncio\n",
    "nest_asyncio.apply()"
   ]
  },
  {
   "cell_type": "code",
   "execution_count": 2,
   "id": "de06518c-56c6-467d-9e09-de54217ade46",
   "metadata": {},
   "outputs": [],
   "source": [
    "import os\n",
    "\n",
    "# [Optinal] set proxy\n",
    "proxy = os.getenv(\"PROXY_VALUE\")\n",
    "\n",
    "for proxy_var in ['HTTP_PROXY', 'HTTPS_PROXY', 'http_proxy', 'https_proxy']:\n",
    "    os.environ[proxy_var] = proxy\n"
   ]
  },
  {
   "cell_type": "markdown",
   "id": "fb357c59-895f-46f5-ad02-9c6b63860224",
   "metadata": {},
   "source": [
    "### Pydantic AI Agents\n",
    "Let's start looking into some cool examples of Pydantic AI agents.\n",
    "\n",
    "### The Simplest One\n",
    "Chat with Gemini `gemini-1.5-flash` straight away."
   ]
  },
  {
   "cell_type": "code",
   "execution_count": 5,
   "id": "31d931c4-1754-4b00-89cc-777edc5c714c",
   "metadata": {},
   "outputs": [],
   "source": [
    "from pydantic_ai import Agent\n",
    "from pydantic_ai.models.gemini import GeminiModel\n",
    "# set gemini api key \n",
    "gemini_api_key = os.getenv(\"GEMINI_API_KEY\")\n",
    "os.environ[\"GEMINI_API_KEY\"] = gemini_api_key\n",
    "model = GeminiModel(\"gemini-1.5-flash\")\n",
    "agent = Agent(model)"
   ]
  },
  {
   "cell_type": "code",
   "execution_count": 7,
   "id": "9d8b884b-78a2-4bf0-8dc3-262b31b76b75",
   "metadata": {},
   "outputs": [
    {
     "name": "stdout",
     "output_type": "stream",
     "text": [
      "Hello!  It's great to hear from someone in Chengdu!  你好！ (Nǐ hǎo!)\n",
      "\n"
     ]
    }
   ],
   "source": [
    "response = agent.run_sync(\"Hey, There! I from chengdu!\")\n",
    "print(response.data)"
   ]
  },
  {
   "cell_type": "markdown",
   "id": "625e73fb-19b4-4c97-a5ef-0eb390a86991",
   "metadata": {},
   "source": [
    "### Agent with Static Prompt"
   ]
  },
  {
   "cell_type": "code",
   "execution_count": 8,
   "id": "177fc863-2353-4032-8cb0-299db5ee0567",
   "metadata": {},
   "outputs": [
    {
     "name": "stdout",
     "output_type": "stream",
     "text": [
      "嘿，哥们儿！\n",
      "\n"
     ]
    }
   ],
   "source": [
    "agent = Agent(\"gemini-1.5-flash\", system_prompt=\"You can only speak Chinese\")\n",
    "response = agent.run_sync(\"Hey, dude!\")\n",
    "print(response.data)"
   ]
  },
  {
   "cell_type": "markdown",
   "id": "6e3512d9-8848-442e-a384-bc81803eb70b",
   "metadata": {},
   "source": [
    "### Agent with Dynamic prompt"
   ]
  },
  {
   "cell_type": "code",
   "execution_count": 9,
   "id": "665545ff-6e25-49ac-97e0-0eef00042ed6",
   "metadata": {},
   "outputs": [],
   "source": [
    "from pydantic_ai import Agent, RunContext"
   ]
  },
  {
   "cell_type": "code",
   "execution_count": 10,
   "id": "d7abe93a-6fde-4178-a343-0ecb21765c74",
   "metadata": {},
   "outputs": [
    {
     "name": "stdout",
     "output_type": "stream",
     "text": [
      "Hey there!  I'm Jarvis, an AI assistant.  How can I help you today?\n",
      "\n"
     ]
    }
   ],
   "source": [
    "dynamic_prompt_agent = Agent(\"gemini-1.5-flash\")\n",
    "\n",
    "@dynamic_prompt_agent.system_prompt\n",
    "def set_agent_name(ctx: RunContext[str]) -> str:\n",
    "    return f\"You name is {ctx.deps}.\"\n",
    "\n",
    "response = dynamic_prompt_agent.run_sync(\"Hey, dude! Who are you?\", deps=\"Jarvis\")\n",
    "print(response.data)"
   ]
  },
  {
   "cell_type": "markdown",
   "id": "56826cda-85b0-4807-b25b-fb824825a156",
   "metadata": {},
   "source": [
    "### Agent with Dependency Type"
   ]
  },
  {
   "cell_type": "code",
   "execution_count": 11,
   "id": "d81548e2-42bc-482e-8021-26432f6a75f8",
   "metadata": {},
   "outputs": [
    {
     "name": "stdout",
     "output_type": "stream",
     "text": [
      "True\n",
      "False\n"
     ]
    }
   ],
   "source": [
    "from dataclasses import dataclass\n",
    "\n",
    "@dataclass\n",
    "class Player:\n",
    "    name: str\n",
    "    goals: int\n",
    "    \n",
    "agent = Agent(\n",
    "    'gemini-1.5-flash',\n",
    "    deps_type=Player,\n",
    "    result_type=bool,\n",
    ")\n",
    "\n",
    "@agent.system_prompt\n",
    "def add_player_name(ctx: RunContext[Player]) -> str:\n",
    "    player_name = ctx.deps.name\n",
    "    return f\"The player's name is {player_name}.\"\n",
    "\n",
    "@agent.system_prompt\n",
    "def add_player_goals(ctx: RunContext[Player]) -> str:\n",
    "    goals = ctx.deps.goals\n",
    "    return f\"The player's golas sofar is {goals}.\"\n",
    "\n",
    "response = agent.run_sync(\"Hey, dude! Does the player ever score a goal?\", deps=Player(name=\"Messi\", goals=2))\n",
    "print(response.data)\n",
    "\n",
    "response = agent.run_sync(\"Hey, dude! Does the player ever score a goal?\", deps=Player(name=\"Ronaldo\", goals=0))\n",
    "print(response.data)\n"
   ]
  },
  {
   "cell_type": "markdown",
   "id": "3a9abf82-4318-4be9-870c-b41bb12a8091",
   "metadata": {},
   "source": [
    "### Agent result specified data structure"
   ]
  },
  {
   "cell_type": "code",
   "execution_count": 18,
   "id": "fa493092-184e-4a14-8bf6-e2805c09c35a",
   "metadata": {},
   "outputs": [
    {
     "name": "stdout",
     "output_type": "stream",
     "text": [
      "{'flower_type': '茉莉花', 'price': 9988, 'description': '清雅茉莉，幽香袭人，99.88元，带给你夏日清凉与浪漫。', 'reason': '茉莉花以其独特的香气和优雅的外形，深受大众喜爱，是送礼佳品。'}\n"
     ]
    }
   ],
   "source": [
    "from pydantic import BaseModel, Field\n",
    "from pydantic_ai import Agent\n",
    "\n",
    "    \n",
    "# Expect response model   \n",
    "class FlowerDescription(BaseModel):\n",
    "    flower_type: str = Field(description=\"flower type\")\n",
    "    price: int = Field(description=\"flower price\")\n",
    "    description: str = Field(description=\"description\")\n",
    "    reason: str = Field(description=\"Why recommend\")\n",
    "    \n",
    "\n",
    "agent = Agent(\n",
    "    'gemini-1.5-flash',\n",
    "    result_type=FlowerDescription,\n",
    ")\n",
    "\n",
    "flower = \"茉莉花\"\n",
    "price = \"99.88\"\n",
    "\n",
    "result = agent.run_sync(f\"你是一位专业的鲜花文案写撰写员，你能根据花名为{flower}，售价为{price}的花提供一个吸引人的简短中文描述吗？\")\n",
    "print(result.data.model_dump())\n",
    "    \n"
   ]
  },
  {
   "cell_type": "code",
   "execution_count": null,
   "id": "cd88a5c0-afe6-4d80-b38e-4a0d09b79c6c",
   "metadata": {},
   "outputs": [],
   "source": []
  }
 ],
 "metadata": {
  "kernelspec": {
   "display_name": "Python 3 (ipykernel)",
   "language": "python",
   "name": "python3"
  },
  "language_info": {
   "codemirror_mode": {
    "name": "ipython",
    "version": 3
   },
   "file_extension": ".py",
   "mimetype": "text/x-python",
   "name": "python",
   "nbconvert_exporter": "python",
   "pygments_lexer": "ipython3",
   "version": "3.10.9"
  }
 },
 "nbformat": 4,
 "nbformat_minor": 5
}
