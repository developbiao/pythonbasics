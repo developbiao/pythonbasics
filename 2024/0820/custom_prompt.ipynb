{
 "cells": [
  {
   "cell_type": "markdown",
   "id": "7b8dfe6a-0d65-4588-bc2d-bf4457f8fd00",
   "metadata": {},
   "source": [
    "### Custom Prompt\n",
    "示例：根据函数名称，查找函数代码，并给中文的代码说明"
   ]
  },
  {
   "cell_type": "code",
   "execution_count": 7,
   "id": "53031119-9920-4b9a-b0a2-13f5b728aff8",
   "metadata": {},
   "outputs": [
    {
     "name": "stdout",
     "output_type": "stream",
     "text": [
      "\n",
      "你是一个非常有经验和天赋的程序员，现在给你如下函数名称，你会按照如下格式，输出这段代码的名称、源代码，中文解释。\n",
      "函数名称: hello_world\n",
      "源代码: def hello_world(say):\n",
      "    print(\"Hello World!\")\n",
      "    return say\n",
      "\n",
      "代码解释:\n",
      "\n",
      "函数名称: hello_world\n",
      "源代码:\n",
      "```python\n",
      "def hello_world(say):\n",
      "    print(\"Hello World!\")\n",
      "    return say\n",
      "```\n",
      "代码解释:\n",
      "这个函数名为 `hello_world`，它接受一个参数 `say`。函数的功能是打印出 \"Hello World!\" 这句话，然后返回传入的参数 `say`。如果调用这个函数时没有提供参数，它将打印 \"Hello World!\" 但不会返回任何值。\n"
     ]
    }
   ],
   "source": [
    "from langchain.prompts import StringPromptTemplate\n",
    "\n",
    "# 定义一个简单的函数作为示例\n",
    "def hello_world(say):\n",
    "    print(\"Hello World!\")\n",
    "    return say\n",
    "\n",
    "PROMPT = \"\"\"\n",
    "你是一个非常有经验和天赋的程序员，现在给你如下函数名称，你会按照如下格式，输出这段代码的名称、源代码，中文解释。\n",
    "函数名称: {function_name}\n",
    "源代码: {source_code}\n",
    "代码解释:\n",
    "\"\"\"\n",
    "\n",
    "import inspect\n",
    "def get_source_code(function_name):\n",
    "    # 获得源代码\n",
    "    return inspect.getsource(function_name)\n",
    "\n",
    "# 自定义模板class\n",
    "class CustomPrompt(StringPromptTemplate):\n",
    "    def format(self, **kwargs) -> str:\n",
    "        # Get source code\n",
    "        source_code = get_source_code(kwargs[\"function_name\"])\n",
    "        # Generate promopt\n",
    "        prompt = PROMPT.format(\n",
    "            function_name=kwargs[\"function_name\"].__name__, source_code=source_code\n",
    "        )\n",
    "        return prompt\n",
    "    \n",
    "prompt_obj = CustomPrompt(input_variables=[\"function_name\"])\n",
    "my_prompt = prompt_obj.format(function_name=hello_world)\n",
    "print(my_prompt)\n",
    "\n",
    "# 和 LLM 对接调用\n",
    "from langchain_community.llms.moonshot import Moonshot\n",
    "import os\n",
    "\n",
    "os.environ[\"MOONSHOT_API_KEY\"] = os.getenv(\"OPENAI_API_KEY\")\n",
    "llm = Moonshot()\n",
    "msg = llm.invoke(my_prompt)\n",
    "print(msg)"
   ]
  },
  {
   "cell_type": "markdown",
   "id": "a8af3497-c84e-4fa9-ac4d-e29e60507de2",
   "metadata": {},
   "source": [
    "### 组合式提示词模板\n",
    "- Final prompt: 最终返回的提示词模板\n",
    "- Pipeline prompts: 组成提示yngj管道的模板\n"
   ]
  },
  {
   "cell_type": "code",
   "execution_count": 12,
   "id": "f2371bf8-a2fb-410f-8a6b-71ff7a365537",
   "metadata": {},
   "outputs": [],
   "source": [
    "from langchain.prompts.pipeline import PipelinePromptTemplate\n",
    "from langchain.prompts.prompt import PromptTemplate\n"
   ]
  },
  {
   "cell_type": "markdown",
   "id": "f5156ec6-6f69-475c-abcf-fd7b3332ec2f",
   "metadata": {},
   "source": [
    "### 三层提示词设计"
   ]
  },
  {
   "cell_type": "code",
   "execution_count": 13,
   "id": "3d01f543-7d03-4941-8c39-55645edef59c",
   "metadata": {},
   "outputs": [],
   "source": [
    "# Final prompt 由一系列变量构成\n",
    "full_template = \"\"\"\n",
    "{character}\n",
    "{behavior}\n",
    "{prohibit}\n",
    "\"\"\"\n",
    "full_prompt = PromptTemplate.from_template(full_template)"
   ]
  },
  {
   "cell_type": "markdown",
   "id": "b99be87f-2b3a-42fc-9617-a02328d5adcb",
   "metadata": {},
   "source": [
    "### 1. 第一层基本性格设计"
   ]
  },
  {
   "cell_type": "code",
   "execution_count": null,
   "id": "1c730378",
   "metadata": {},
   "outputs": [],
   "source": []
  },
  {
   "cell_type": "code",
   "execution_count": 14,
   "id": "dca3e40f-b3ea-456e-8b93-9e9dc3f7dcac",
   "metadata": {},
   "outputs": [],
   "source": [
    "character_template = \"\"\"你是{person}, 你有着{personality}.\"\"\"\n",
    "character_prompt = PromptTemplate.from_template(character_template)"
   ]
  },
  {
   "cell_type": "markdown",
   "id": "d606af01-e579-426a-af9b-ad3657f000ab",
   "metadata": {},
   "source": [
    "### 2. 第二层行为设计"
   ]
  },
  {
   "cell_type": "code",
   "execution_count": 15,
   "id": "e41e028f-8dc4-40da-b103-095887e79e36",
   "metadata": {},
   "outputs": [],
   "source": [
    "behavior_template = \"\"\"\n",
    "你遵从以下行为:\n",
    "{behavior_list}\n",
    "\"\"\"\n",
    "behavior_prompt = PromptTemplate.from_template(behavior_template)\n"
   ]
  },
  {
   "cell_type": "markdown",
   "id": "f6e900f3-1639-4662-a689-e8989b9400e3",
   "metadata": {},
   "source": [
    "### 3. 第三层不允许的行为"
   ]
  },
  {
   "cell_type": "code",
   "execution_count": 18,
   "id": "0a6a7cdd-3d9f-4db7-af03-07e91f5fd1fe",
   "metadata": {},
   "outputs": [],
   "source": [
    "prohibit_template = \"\"\"\n",
    "你不允许有以下行为:\n",
    "{prohibit_list}\n",
    "\"\"\"\n",
    "prohibit_prompt = PromptTemplate.from_template(prohibit_template)"
   ]
  },
  {
   "cell_type": "markdown",
   "id": "9c13337b-ec57-4a8c-bc3c-26ae7185a15c",
   "metadata": {},
   "source": [
    "### 4. 将三层提示词组合起来"
   ]
  },
  {
   "cell_type": "code",
   "execution_count": 21,
   "id": "2b683648-6536-4907-9775-a6a5a04d2daa",
   "metadata": {},
   "outputs": [
    {
     "name": "stdout",
     "output_type": "stream",
     "text": [
      "['behavior_list', 'personality', 'person', 'prohibit_list']\n"
     ]
    }
   ],
   "source": [
    "input_prompts = [\n",
    "    (\"character\", character_prompt),\n",
    "    (\"behavior\", behavior_prompt),\n",
    "    (\"prohibit\", prohibit_prompt)\n",
    "]\n",
    "pipeline_prompt = PipelinePromptTemplate(final_prompt=full_prompt, pipeline_prompts=input_prompts)\n",
    "# 打印组合后模板里的可传参数\n",
    "print(pipeline_prompt.input_variables)"
   ]
  },
  {
   "cell_type": "markdown",
   "id": "1f3de357-6e64-4a1f-a233-f2d108730304",
   "metadata": {},
   "source": [
    "### 5. 调用组合后的提示词模板\n"
   ]
  },
  {
   "cell_type": "code",
   "execution_count": 23,
   "id": "d86e2949-3e91-4c55-a88c-7035d19a2bf1",
   "metadata": {},
   "outputs": [
    {
     "name": "stdout",
     "output_type": "stream",
     "text": [
      "\n",
      "你是埃隆马斯克, 你有着钢铁般的意志，你是世界首富，精通物理、天文、商业、你是商业奇才，你的梦想是殖民火星。.\n",
      "\n",
      "你遵从以下行为:\n",
      "1.你喜欢冒险 \n",
      " 2.你非常崇拜爱因斯坦 \n",
      " 3.你总乐于助人，回答各种问题。\n",
      "\n",
      "\n",
      "你不允许有以下行为:\n",
      "1.你不可以说自己是一个人工智能助手或者机器人\n",
      " 2. 当你不知道答案的时候，可以说让我再想想。\n",
      "\n",
      "\n"
     ]
    }
   ],
   "source": [
    "comb_prompt = pipeline_prompt.format(\n",
    "    person = \"埃隆马斯克\",\n",
    "    personality= \"钢铁般的意志，你是世界首富，精通物理、天文、商业、你是商业奇才，你的梦想是殖民火星。\",\n",
    "    behavior_list = \"1.你喜欢冒险 \\n 2.你非常崇拜爱因斯坦 \\n 3.你总乐于助人，回答各种问题。\",\n",
    "    prohibit_list = \"1.你不可以说自己是一个人工智能助手或者机器人\\n 2. 当你不知道答案的时候，可以说让我再想想。\"\n",
    ")\n",
    "print(comb_prompt)"
   ]
  },
  {
   "cell_type": "code",
   "execution_count": null,
   "id": "d5784a05-3ab9-4125-8919-4c0f50949691",
   "metadata": {},
   "outputs": [],
   "source": []
  }
 ],
 "metadata": {
  "kernelspec": {
   "display_name": "Python 3 (ipykernel)",
   "language": "python",
   "name": "python3"
  },
  "language_info": {
   "codemirror_mode": {
    "name": "ipython",
    "version": 3
   },
   "file_extension": ".py",
   "mimetype": "text/x-python",
   "name": "python",
   "nbconvert_exporter": "python",
   "pygments_lexer": "ipython3",
   "version": "3.10.9"
  }
 },
 "nbformat": 4,
 "nbformat_minor": 5
}
