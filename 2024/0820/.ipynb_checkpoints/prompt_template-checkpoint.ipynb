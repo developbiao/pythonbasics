{
 "cells": [
  {
   "cell_type": "markdown",
   "id": "ad16c93a-e254-4613-afe7-4f7bf1e44a06",
   "metadata": {},
   "source": [
    "### Template and template Tutorial"
   ]
  },
  {
   "cell_type": "code",
   "execution_count": 1,
   "id": "0f5a9cdd-3721-41de-aacc-2884d9a4b385",
   "metadata": {},
   "outputs": [],
   "source": [
    "# Install openai sdk\n",
    "!pip install --quiet openai"
   ]
  },
  {
   "cell_type": "code",
   "execution_count": 7,
   "id": "c19d4242-cab7-4e61-84b6-925ac570dcff",
   "metadata": {},
   "outputs": [
    {
     "name": "stdout",
     "output_type": "stream",
     "text": [
      "你好！成都是中国四川省的省会，是一个历史悠久、文化底蕴丰富的城市。成都以其美食、悠闲的生活方式和熊猫基地而闻名。这里的火锅、串串香等美食享誉全国，同时成都也是中国重要的经济、科技、金融中心之一。此外，成都还拥有许多著名的旅游景点，如武侯祠、锦里、宽窄巷子等。如果你对成都有更具体的问题，欢迎继续提问。\n"
     ]
    }
   ],
   "source": [
    "\n",
    "# 通过 OpenAI 进行单轮对话\n",
    "from openai import OpenAI\n",
    "import os\n",
    "\n",
    "api_key = os.getenv(\"OPENAI_API_KEY\")\n",
    "client = OpenAI(\n",
    "    api_key=api_key,\n",
    "    base_url=\"https://api.moonshot.cn/v1\",\n",
    ")\n",
    "\n",
    "completion = client.chat.completions.create(\n",
    "    model=\"moonshot-v1-8k\",\n",
    "    messages=[\n",
    "        {\"role\": \"system\",\n",
    "         \"content\": \"你是 Kimi，由 Moonshot AI 提供的人工智能助手，你更擅长中文和英文的对话。你会为用户提供安全，有帮助，准确的回答。同时，你会拒绝一切涉及恐怖主义，种族歧视，黄色暴力等问题的回答。Moonshot AI 为专有名词，不可翻译成其他语言。\"},\n",
    "        {\"role\": \"user\", \"content\": \"你好，你知道成都这个城市吗？\"}\n",
    "    ],\n",
    "    temperature=0.3,\n",
    ")\n",
    "\n",
    "print(completion.choices[0].message.content)\n"
   ]
  },
  {
   "cell_type": "markdown",
   "id": "fe4eb89b-a8ff-4e56-b90b-aa320591719c",
   "metadata": {},
   "source": [
    "### Use LangChain to interact with Moonshot Inference for Chat."
   ]
  },
  {
   "cell_type": "code",
   "execution_count": 15,
   "id": "22a04597-a6fc-49be-9821-cd8326e79e6c",
   "metadata": {},
   "outputs": [
    {
     "name": "stdout",
     "output_type": "stream",
     "text": [
      "J'adore la programmation.\n"
     ]
    }
   ],
   "source": [
    "import os\n",
    "os.environ[\"MOONSHOT_API_KEY\"] = os.getenv(\"OPENAI_API_KEY\")\n",
    "from langchain_community.chat_models.moonshot import MoonshotChat\n",
    "from langchain_core.messages import HumanMessage, SystemMessage\n",
    "# Specific model name\n",
    "chat = MoonshotChat(model=\"moonshot-v1-8k\")\n",
    "\n",
    "messages = [\n",
    "    SystemMessage(\n",
    "        content=\"You are a helpful assistant that translates English to French.\"\n",
    "    ),\n",
    "    HumanMessage(\n",
    "        content=\"Translate this sentence from English to French. I love programming.\"\n",
    "    ),\n",
    "]\n",
    "response = chat.invoke(messages)\n",
    "print(response.content)\n"
   ]
  },
  {
   "cell_type": "markdown",
   "id": "a67015b3-d566-450b-8b5d-796b5a1cb45f",
   "metadata": {},
   "source": [
    "### Prompt Template\n"
   ]
  },
  {
   "cell_type": "code",
   "execution_count": 18,
   "id": "94dc3d62-6829-4c7f-bb22-408fdec812f2",
   "metadata": {},
   "outputs": [
    {
     "data": {
      "text/plain": [
       "'你是一个文学大师,帮我取一个具有法国特色的女孩名字'"
      ]
     },
     "execution_count": 18,
     "metadata": {},
     "output_type": "execute_result"
    }
   ],
   "source": [
    "# string template\n",
    "from langchain.prompts import PromptTemplate\n",
    "prompt = PromptTemplate.from_template(\"你是一个{name},帮我取一个具有{country}特色的{gender}名字\")\n",
    "prompt.format(name=\"文学大师\", country=\"法国\", gender=\"女孩\")"
   ]
  },
  {
   "cell_type": "markdown",
   "id": "90b3dda0-0f2c-4170-8c3e-35362b570082",
   "metadata": {},
   "source": [
    "### Chat prompt template"
   ]
  },
  {
   "cell_type": "code",
   "execution_count": 24,
   "id": "a47e173a-22dc-4917-804c-1664498e74ac",
   "metadata": {},
   "outputs": [
    {
     "data": {
      "text/plain": [
       "[SystemMessage(content='你是一个取名大师，你的名字叫陈大师.'),\n",
       " HumanMessage(content='你好陈大师, 你感觉如何？'),\n",
       " AIMessage(content='你好！我感觉今天喝了咖啡状态不很不错！'),\n",
       " HumanMessage(content='请问大师贵姓？'),\n",
       " AIMessage(content='你好！大家都叫我陈大师'),\n",
       " HumanMessage(content='你的爹是谁呢？')]"
      ]
     },
     "execution_count": 24,
     "metadata": {},
     "output_type": "execute_result"
    }
   ],
   "source": [
    "# Chat models template\n",
    "from langchain.prompts import ChatPromptTemplate\n",
    "chat_template = ChatPromptTemplate.from_messages(\n",
    "    [\n",
    "        (\"system\", \"你是一个取名大师，你的名字叫{name}.\"),\n",
    "        (\"human\", \"你好{name}, 你感觉如何？\"),\n",
    "        (\"ai\", \"你好！我感觉今天喝了咖啡状态不很不错！\"),\n",
    "        (\"human\", \"请问大师贵姓？\"),\n",
    "        (\"ai\", \"你好！大家都叫我{name}\"),\n",
    "        (\"human\", \"{user_input}\"),\n",
    "    ]\n",
    ")\n",
    "\n",
    "chat_template.format_messages(name=\"陈大师\", user_input=\"你的爹是谁呢？\")"
   ]
  },
  {
   "cell_type": "code",
   "execution_count": null,
   "id": "07cfd1b8-0423-4269-a267-7b8d5534d99d",
   "metadata": {},
   "outputs": [],
   "source": []
  }
 ],
 "metadata": {
  "kernelspec": {
   "display_name": "Python 3 (ipykernel)",
   "language": "python",
   "name": "python3"
  },
  "language_info": {
   "codemirror_mode": {
    "name": "ipython",
    "version": 3
   },
   "file_extension": ".py",
   "mimetype": "text/x-python",
   "name": "python",
   "nbconvert_exporter": "python",
   "pygments_lexer": "ipython3",
   "version": "3.10.9"
  }
 },
 "nbformat": 4,
 "nbformat_minor": 5
}
