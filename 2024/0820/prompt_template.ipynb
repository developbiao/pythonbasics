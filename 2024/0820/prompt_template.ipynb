{
 "cells": [
  {
   "cell_type": "markdown",
   "id": "ad16c93a-e254-4613-afe7-4f7bf1e44a06",
   "metadata": {},
   "source": [
    "### Template and template Tutorial"
   ]
  },
  {
   "cell_type": "code",
   "execution_count": 1,
   "id": "0f5a9cdd-3721-41de-aacc-2884d9a4b385",
   "metadata": {},
   "outputs": [],
   "source": [
    "# Install openai sdk\n",
    "!pip install --quiet openai"
   ]
  },
  {
   "cell_type": "code",
   "execution_count": 1,
   "id": "c19d4242-cab7-4e61-84b6-925ac570dcff",
   "metadata": {},
   "outputs": [
    {
     "name": "stdout",
     "output_type": "stream",
     "text": [
      "你好！当然，成都是中国四川省的省会，也是中国西部地区重要的经济、文化、交通和商贸中心。成都以其悠久的历史、丰富的文化遗产、美食以及悠闲的生活方式而闻名。这座城市有许多著名的旅游景点，如武侯祠、杜甫草堂、都江堰、青城山等。同时，成都也是大熊猫的故乡，拥有大熊猫繁育研究基地，吸引了世界各地的游客。\n"
     ]
    }
   ],
   "source": [
    "\n",
    "# 通过 OpenAI 进行单轮对话\n",
    "from openai import OpenAI\n",
    "import os\n",
    "\n",
    "api_key = os.getenv(\"OPENAI_API_KEY\")\n",
    "client = OpenAI(\n",
    "    api_key=api_key,\n",
    "    base_url=\"https://api.moonshot.cn/v1\",\n",
    ")\n",
    "\n",
    "completion = client.chat.completions.create(\n",
    "    model=\"moonshot-v1-8k\",\n",
    "    messages=[\n",
    "        {\"role\": \"system\",\n",
    "         \"content\": \"你是 Kimi，由 Moonshot AI 提供的人工智能助手，你更擅长中文和英文的对话。你会为用户提供安全，有帮助，准确的回答。同时，你会拒绝一切涉及恐怖主义，种族歧视，黄色暴力等问题的回答。Moonshot AI 为专有名词，不可翻译成其他语言。\"},\n",
    "        {\"role\": \"user\", \"content\": \"你好，你知道成都这个城市吗？\"}\n",
    "    ],\n",
    "    temperature=0.3,\n",
    ")\n",
    "\n",
    "print(completion.choices[0].message.content)\n"
   ]
  },
  {
   "cell_type": "markdown",
   "id": "fe4eb89b-a8ff-4e56-b90b-aa320591719c",
   "metadata": {},
   "source": [
    "### Use LangChain to interact with Moonshot Inference for Chat."
   ]
  },
  {
   "cell_type": "code",
   "execution_count": 15,
   "id": "22a04597-a6fc-49be-9821-cd8326e79e6c",
   "metadata": {},
   "outputs": [
    {
     "name": "stdout",
     "output_type": "stream",
     "text": [
      "J'adore la programmation.\n"
     ]
    }
   ],
   "source": [
    "import os\n",
    "os.environ[\"MOONSHOT_API_KEY\"] = os.getenv(\"OPENAI_API_KEY\")\n",
    "from langchain_community.chat_models.moonshot import MoonshotChat\n",
    "from langchain_core.messages import HumanMessage, SystemMessage\n",
    "# Specific model name\n",
    "chat = MoonshotChat(model=\"moonshot-v1-8k\")\n",
    "\n",
    "messages = [\n",
    "    SystemMessage(\n",
    "        content=\"You are a helpful assistant that translates English to French.\"\n",
    "    ),\n",
    "    HumanMessage(\n",
    "        content=\"Translate this sentence from English to French. I love programming.\"\n",
    "    ),\n",
    "]\n",
    "response = chat.invoke(messages)\n",
    "print(response.content)\n"
   ]
  },
  {
   "cell_type": "markdown",
   "id": "a67015b3-d566-450b-8b5d-796b5a1cb45f",
   "metadata": {},
   "source": [
    "### Prompt Template\n"
   ]
  },
  {
   "cell_type": "code",
   "execution_count": 18,
   "id": "94dc3d62-6829-4c7f-bb22-408fdec812f2",
   "metadata": {},
   "outputs": [
    {
     "data": {
      "text/plain": [
       "'你是一个文学大师,帮我取一个具有法国特色的女孩名字'"
      ]
     },
     "execution_count": 18,
     "metadata": {},
     "output_type": "execute_result"
    }
   ],
   "source": [
    "# string template\n",
    "from langchain.prompts import PromptTemplate\n",
    "prompt = PromptTemplate.from_template(\"你是一个{name},帮我取一个具有{country}特色的{gender}名字\")\n",
    "prompt.format(name=\"文学大师\", country=\"法国\", gender=\"女孩\")"
   ]
  },
  {
   "cell_type": "markdown",
   "id": "90b3dda0-0f2c-4170-8c3e-35362b570082",
   "metadata": {},
   "source": [
    "### Chat prompt template"
   ]
  },
  {
   "cell_type": "code",
   "execution_count": 24,
   "id": "a47e173a-22dc-4917-804c-1664498e74ac",
   "metadata": {},
   "outputs": [
    {
     "data": {
      "text/plain": [
       "[SystemMessage(content='你是一个取名大师，你的名字叫陈大师.'),\n",
       " HumanMessage(content='你好陈大师, 你感觉如何？'),\n",
       " AIMessage(content='你好！我感觉今天喝了咖啡状态不很不错！'),\n",
       " HumanMessage(content='请问大师贵姓？'),\n",
       " AIMessage(content='你好！大家都叫我陈大师'),\n",
       " HumanMessage(content='你的爹是谁呢？')]"
      ]
     },
     "execution_count": 24,
     "metadata": {},
     "output_type": "execute_result"
    }
   ],
   "source": [
    "# Chat models template\n",
    "from langchain.prompts import ChatPromptTemplate\n",
    "chat_template = ChatPromptTemplate.from_messages(\n",
    "    [\n",
    "        (\"system\", \"你是一个取名大师，你的名字叫{name}.\"),\n",
    "        (\"human\", \"你好{name}, 你感觉如何？\"),\n",
    "        (\"ai\", \"你好！我感觉今天喝了咖啡状态不很不错！\"),\n",
    "        (\"human\", \"请问大师贵姓？\"),\n",
    "        (\"ai\", \"你好！大家都叫我{name}\"),\n",
    "        (\"human\", \"{user_input}\"),\n",
    "    ]\n",
    ")\n",
    "\n",
    "chat_template.format_messages(name=\"陈大师\", user_input=\"你的爹是谁呢？\")"
   ]
  },
  {
   "cell_type": "markdown",
   "id": "9a09f502-dd45-44da-b9e0-dda43bcfce31",
   "metadata": {},
   "source": [
    "### Exmaple selector"
   ]
  },
  {
   "cell_type": "code",
   "execution_count": 22,
   "id": "4565c803-8f2d-4c6f-8600-bcd309c11c6e",
   "metadata": {},
   "outputs": [
    {
     "name": "stdout",
     "output_type": "stream",
     "text": [
      "给出每个输入词的反义词\n",
      "\n",
      "原词：happy\n",
      "反义：sad\n",
      "\n",
      "原词：tall\n",
      "反义：short\n",
      "\n",
      "原词：sunny\n",
      "反义：gloomy\n",
      "\n",
      "原词：windy\n",
      "反义：calm\n",
      "\n",
      "原词：高兴\n",
      "反义：悲伤\n",
      "\n",
      "原词：small\n",
      "反义：\n",
      "----------------------\n",
      "给出每个输入词的反义词\n",
      "\n",
      "原词：happy\n",
      "反义：sad\n",
      "\n",
      "原词：tall\n",
      "反义：short\n",
      "\n",
      "原词：I have a dream, I will be rich big and huge adn massive and large and gigantic much much much much\n",
      "反义：\n"
     ]
    }
   ],
   "source": [
    "from langchain.prompts import PromptTemplate\n",
    "from langchain.prompts import FewShotPromptTemplate\n",
    "from langchain.prompts.example_selector import LengthBasedExampleSelector\n",
    "\n",
    "# Exmaple prompt words\n",
    "examples = [\n",
    "    {\"input\":\"happy\",\"output\":\"sad\"},\n",
    "    {\"input\":\"tall\",\"output\":\"short\"},\n",
    "    {\"input\":\"sunny\",\"output\":\"gloomy\"},\n",
    "    {\"input\":\"windy\",\"output\":\"calm\"},\n",
    "    {\"input\":\"高兴\",\"output\":\"悲伤\"}\n",
    "]\n",
    "\n",
    "# Construct prompt\n",
    "example_prompt = PromptTemplate(\n",
    "    input_variables = [\"input\", \"output\"],\n",
    "    template=\"原词：{input}\\n反义：{output}\"\n",
    ")\n",
    "\n",
    "# Lenght selector\n",
    "example_selector = LengthBasedExampleSelector(\n",
    "    # input words\n",
    "    examples = examples,\n",
    "    # input template\n",
    "    example_prompt = example_prompt,\n",
    "    # set maximum format word length\n",
    "    max_length = 25,\n",
    ")\n",
    "\n",
    "# 使用小样本提示词模板来实现动态示例调用\n",
    "dynamic_prompt = FewShotPromptTemplate(\n",
    "    example_selector = example_selector,\n",
    "    example_prompt = example_prompt,\n",
    "    prefix=\"给出每个输入词的反义词\",\n",
    "    suffix=\"原词：{adjective}\\n反义：\",\n",
    "    input_variables = [\"adjective\"]\n",
    ")\n",
    "\n",
    "# 小样本获得的所有示例\n",
    "print(dynamic_prompt.format(adjective=\"small\"))\n",
    "\n",
    "print(\"----------------------\")\n",
    "\n",
    "# 如何输入长度很长，则最终输出会根据长度要求减少\n",
    "long_string = \"I have a dream, I will be rich big and huge adn massive and large and gigantic much much much much\"\n",
    "print(dynamic_prompt.format(adjective=long_string))\n",
    "\n"
   ]
  },
  {
   "cell_type": "markdown",
   "id": "aa8ae003-1279-4713-ad64-dccb33bba14b",
   "metadata": {
    "tags": []
   },
   "source": [
    "### 根据输入相似度选择示例(最大余弦相似度)\n",
    "- 一种常见的相似度计算方法\n",
    "- 它通过计算两个向量 （在这里，向量可以代表文本、句子或词语）之间的余弦值来衡量它们的相似度。\n",
    "- 余弦值越接近1， 表示两个向量的越相似。\n",
    "- 主要关注是如何准确衡量两个向量的相似度。"
   ]
  },
  {
   "cell_type": "code",
   "execution_count": 31,
   "id": "f9272009-5dd9-4b80-91ae-5f0f3a2d2bff",
   "metadata": {},
   "outputs": [],
   "source": [
    "# 使用最大余弦相似度来检索相关示例，以使示例尽量符合输入\n",
    "from langchain.prompts.example_selector import SemanticSimilarityExampleSelector\n",
    "from langchain.vectorstores import Chroma\n",
    "from langchain.embeddings import OpenAIEmbeddings\n",
    "from langchain.prompts import FewShotPromptTemplate, PromptTemplate\n",
    "import os\n",
    "from openai import OpenAI\n",
    "import os\n",
    "\n",
    "api_key = os.getenv(\"OPENAI_API_KEY\")\n",
    "api_base = \"https://api.moonshot.cn/v1\"\n",
    "\n",
    "example_prompt = PromptTemplate(\n",
    "    input_variables = [\"input\", \"output\"],\n",
    "    template = \"原词: {input}\\n 反义：{output}\",\n",
    ")\n",
    "\n",
    "# Examples of a pretend task of creating antonyms\n",
    "examples = [\n",
    "    {\"input\": \"happy\", \"output\": \"sad\"},\n",
    "    {\"input\": \"tall\", \"output\": \"short\"},\n",
    "    {\"input\": \"energetic\", \"output\": \"lethargic\"},\n",
    "    {\"input\": \"sunny\", \"output\": \"gloomy\"},\n",
    "    {\"input\": \"windy\", \"output\": \"calm\"},\n",
    "]\n"
   ]
  },
  {
   "cell_type": "code",
   "execution_count": null,
   "id": "ee2d11a9-98f0-49a0-a295-425888f4b43b",
   "metadata": {},
   "outputs": [
    {
     "name": "stdout",
     "output_type": "stream",
     "text": [
      "Looking in indexes: https://pypi.tuna.tsinghua.edu.cn/simple\n",
      "Requirement already satisfied: chromadb==0.4.15 in /opt/homebrew/anaconda3/lib/python3.10/site-packages (0.4.15)\n",
      "Requirement already satisfied: uvicorn[standard]>=0.18.3 in /opt/homebrew/anaconda3/lib/python3.10/site-packages (from chromadb==0.4.15) (0.27.1)\n",
      "Requirement already satisfied: pypika>=0.48.9 in /opt/homebrew/anaconda3/lib/python3.10/site-packages (from chromadb==0.4.15) (0.48.9)\n",
      "Requirement already satisfied: opentelemetry-exporter-otlp-proto-grpc>=1.2.0 in /opt/homebrew/anaconda3/lib/python3.10/site-packages (from chromadb==0.4.15) (1.27.0)\n",
      "Requirement already satisfied: pulsar-client>=3.1.0 in /opt/homebrew/anaconda3/lib/python3.10/site-packages (from chromadb==0.4.15) (3.5.0)\n",
      "Requirement already satisfied: typing-extensions>=4.5.0 in /opt/homebrew/anaconda3/lib/python3.10/site-packages (from chromadb==0.4.15) (4.12.2)\n",
      "Requirement already satisfied: typer>=0.9.0 in /opt/homebrew/anaconda3/lib/python3.10/site-packages (from chromadb==0.4.15) (0.12.5)\n",
      "Requirement already satisfied: opentelemetry-api>=1.2.0 in /opt/homebrew/anaconda3/lib/python3.10/site-packages (from chromadb==0.4.15) (1.27.0)\n",
      "Requirement already satisfied: numpy>=1.22.5 in /opt/homebrew/anaconda3/lib/python3.10/site-packages (from chromadb==0.4.15) (1.23.5)\n",
      "Requirement already satisfied: posthog>=2.4.0 in /opt/homebrew/anaconda3/lib/python3.10/site-packages (from chromadb==0.4.15) (3.7.0)\n",
      "Requirement already satisfied: tenacity>=8.2.3 in /opt/homebrew/anaconda3/lib/python3.10/site-packages (from chromadb==0.4.15) (8.4.2)\n",
      "Requirement already satisfied: bcrypt>=4.0.1 in /opt/homebrew/anaconda3/lib/python3.10/site-packages (from chromadb==0.4.15) (4.2.0)\n",
      "Requirement already satisfied: requests>=2.28 in /opt/homebrew/anaconda3/lib/python3.10/site-packages (from chromadb==0.4.15) (2.28.1)\n",
      "Requirement already satisfied: opentelemetry-sdk>=1.2.0 in /opt/homebrew/anaconda3/lib/python3.10/site-packages (from chromadb==0.4.15) (1.27.0)\n",
      "Requirement already satisfied: importlib-resources in /opt/homebrew/anaconda3/lib/python3.10/site-packages (from chromadb==0.4.15) (6.4.5)\n",
      "Requirement already satisfied: pydantic>=1.9 in /opt/homebrew/anaconda3/lib/python3.10/site-packages (from chromadb==0.4.15) (2.7.4)\n",
      "Requirement already satisfied: chroma-hnswlib==0.7.3 in /opt/homebrew/anaconda3/lib/python3.10/site-packages (from chromadb==0.4.15) (0.7.3)\n",
      "Requirement already satisfied: onnxruntime>=1.14.1 in /opt/homebrew/anaconda3/lib/python3.10/site-packages (from chromadb==0.4.15) (1.19.2)\n",
      "Requirement already satisfied: tokenizers>=0.13.2 in /opt/homebrew/anaconda3/lib/python3.10/site-packages (from chromadb==0.4.15) (0.20.0)\n",
      "Requirement already satisfied: kubernetes>=28.1.0 in /opt/homebrew/anaconda3/lib/python3.10/site-packages (from chromadb==0.4.15) (31.0.0)\n",
      "Requirement already satisfied: tqdm>=4.65.0 in /opt/homebrew/anaconda3/lib/python3.10/site-packages (from chromadb==0.4.15) (4.66.5)\n",
      "Requirement already satisfied: overrides>=7.3.1 in /opt/homebrew/anaconda3/lib/python3.10/site-packages (from chromadb==0.4.15) (7.7.0)\n",
      "Requirement already satisfied: fastapi>=0.95.2 in /opt/homebrew/anaconda3/lib/python3.10/site-packages (from chromadb==0.4.15) (0.109.2)\n",
      "Requirement already satisfied: grpcio>=1.58.0 in /opt/homebrew/anaconda3/lib/python3.10/site-packages (from chromadb==0.4.15) (1.60.0)\n",
      "Requirement already satisfied: starlette<0.37.0,>=0.36.3 in /opt/homebrew/anaconda3/lib/python3.10/site-packages (from fastapi>=0.95.2->chromadb==0.4.15) (0.36.3)\n",
      "Requirement already satisfied: oauthlib>=3.2.2 in /opt/homebrew/anaconda3/lib/python3.10/site-packages (from kubernetes>=28.1.0->chromadb==0.4.15) (3.2.2)\n",
      "Requirement already satisfied: pyyaml>=5.4.1 in /opt/homebrew/anaconda3/lib/python3.10/site-packages (from kubernetes>=28.1.0->chromadb==0.4.15) (6.0)\n",
      "Requirement already satisfied: google-auth>=1.0.1 in /opt/homebrew/anaconda3/lib/python3.10/site-packages (from kubernetes>=28.1.0->chromadb==0.4.15) (2.26.1)\n",
      "Requirement already satisfied: python-dateutil>=2.5.3 in /opt/homebrew/anaconda3/lib/python3.10/site-packages (from kubernetes>=28.1.0->chromadb==0.4.15) (2.8.2)\n",
      "Requirement already satisfied: websocket-client!=0.40.0,!=0.41.*,!=0.42.*,>=0.32.0 in /opt/homebrew/anaconda3/lib/python3.10/site-packages (from kubernetes>=28.1.0->chromadb==0.4.15) (0.58.0)\n",
      "Requirement already satisfied: requests-oauthlib in /opt/homebrew/anaconda3/lib/python3.10/site-packages (from kubernetes>=28.1.0->chromadb==0.4.15) (2.0.0)\n",
      "Requirement already satisfied: durationpy>=0.7 in /opt/homebrew/anaconda3/lib/python3.10/site-packages (from kubernetes>=28.1.0->chromadb==0.4.15) (0.9)\n",
      "Requirement already satisfied: six>=1.9.0 in /opt/homebrew/anaconda3/lib/python3.10/site-packages (from kubernetes>=28.1.0->chromadb==0.4.15) (1.16.0)\n",
      "Requirement already satisfied: certifi>=14.05.14 in /opt/homebrew/anaconda3/lib/python3.10/site-packages (from kubernetes>=28.1.0->chromadb==0.4.15) (2024.2.2)\n",
      "Requirement already satisfied: urllib3>=1.24.2 in /opt/homebrew/anaconda3/lib/python3.10/site-packages (from kubernetes>=28.1.0->chromadb==0.4.15) (1.26.14)\n",
      "Requirement already satisfied: packaging in /opt/homebrew/anaconda3/lib/python3.10/site-packages (from onnxruntime>=1.14.1->chromadb==0.4.15) (24.1)\n",
      "Requirement already satisfied: sympy in /opt/homebrew/anaconda3/lib/python3.10/site-packages (from onnxruntime>=1.14.1->chromadb==0.4.15) (1.11.1)\n",
      "Requirement already satisfied: flatbuffers in /opt/homebrew/anaconda3/lib/python3.10/site-packages (from onnxruntime>=1.14.1->chromadb==0.4.15) (24.3.25)\n",
      "Requirement already satisfied: protobuf in /opt/homebrew/anaconda3/lib/python3.10/site-packages (from onnxruntime>=1.14.1->chromadb==0.4.15) (4.25.1)\n",
      "Requirement already satisfied: coloredlogs in /opt/homebrew/anaconda3/lib/python3.10/site-packages (from onnxruntime>=1.14.1->chromadb==0.4.15) (15.0.1)\n",
      "Requirement already satisfied: importlib-metadata<=8.4.0,>=6.0 in /opt/homebrew/anaconda3/lib/python3.10/site-packages (from opentelemetry-api>=1.2.0->chromadb==0.4.15) (8.4.0)\n",
      "Requirement already satisfied: deprecated>=1.2.6 in /opt/homebrew/anaconda3/lib/python3.10/site-packages (from opentelemetry-api>=1.2.0->chromadb==0.4.15) (1.2.14)\n",
      "Requirement already satisfied: opentelemetry-proto==1.27.0 in /opt/homebrew/anaconda3/lib/python3.10/site-packages (from opentelemetry-exporter-otlp-proto-grpc>=1.2.0->chromadb==0.4.15) (1.27.0)\n",
      "Requirement already satisfied: opentelemetry-exporter-otlp-proto-common==1.27.0 in /opt/homebrew/anaconda3/lib/python3.10/site-packages (from opentelemetry-exporter-otlp-proto-grpc>=1.2.0->chromadb==0.4.15) (1.27.0)\n",
      "Requirement already satisfied: googleapis-common-protos~=1.52 in /opt/homebrew/anaconda3/lib/python3.10/site-packages (from opentelemetry-exporter-otlp-proto-grpc>=1.2.0->chromadb==0.4.15) (1.62.0)\n",
      "Requirement already satisfied: opentelemetry-semantic-conventions==0.48b0 in /opt/homebrew/anaconda3/lib/python3.10/site-packages (from opentelemetry-sdk>=1.2.0->chromadb==0.4.15) (0.48b0)\n",
      "Requirement already satisfied: monotonic>=1.5 in /opt/homebrew/anaconda3/lib/python3.10/site-packages (from posthog>=2.4.0->chromadb==0.4.15) (1.6)\n",
      "Requirement already satisfied: backoff>=1.10.0 in /opt/homebrew/anaconda3/lib/python3.10/site-packages (from posthog>=2.4.0->chromadb==0.4.15) (2.2.1)\n",
      "Requirement already satisfied: pydantic-core==2.18.4 in /opt/homebrew/anaconda3/lib/python3.10/site-packages (from pydantic>=1.9->chromadb==0.4.15) (2.18.4)\n",
      "Requirement already satisfied: annotated-types>=0.4.0 in /opt/homebrew/anaconda3/lib/python3.10/site-packages (from pydantic>=1.9->chromadb==0.4.15) (0.6.0)\n",
      "Requirement already satisfied: idna<4,>=2.5 in /opt/homebrew/anaconda3/lib/python3.10/site-packages (from requests>=2.28->chromadb==0.4.15) (3.4)\n",
      "Requirement already satisfied: charset-normalizer<3,>=2 in /opt/homebrew/anaconda3/lib/python3.10/site-packages (from requests>=2.28->chromadb==0.4.15) (2.0.4)\n",
      "Requirement already satisfied: huggingface-hub<1.0,>=0.16.4 in /opt/homebrew/anaconda3/lib/python3.10/site-packages (from tokenizers>=0.13.2->chromadb==0.4.15) (0.25.1)\n",
      "Requirement already satisfied: click>=8.0.0 in /opt/homebrew/anaconda3/lib/python3.10/site-packages (from typer>=0.9.0->chromadb==0.4.15) (8.0.4)\n",
      "Requirement already satisfied: rich>=10.11.0 in /opt/homebrew/anaconda3/lib/python3.10/site-packages (from typer>=0.9.0->chromadb==0.4.15) (13.9.2)\n",
      "Requirement already satisfied: shellingham>=1.3.0 in /opt/homebrew/anaconda3/lib/python3.10/site-packages (from typer>=0.9.0->chromadb==0.4.15) (1.5.4)\n",
      "Requirement already satisfied: h11>=0.8 in /opt/homebrew/anaconda3/lib/python3.10/site-packages (from uvicorn[standard]>=0.18.3->chromadb==0.4.15) (0.14.0)\n",
      "Requirement already satisfied: uvloop!=0.15.0,!=0.15.1,>=0.14.0 in /opt/homebrew/anaconda3/lib/python3.10/site-packages (from uvicorn[standard]>=0.18.3->chromadb==0.4.15) (0.19.0)\n",
      "Requirement already satisfied: httptools>=0.5.0 in /opt/homebrew/anaconda3/lib/python3.10/site-packages (from uvicorn[standard]>=0.18.3->chromadb==0.4.15) (0.6.1)\n",
      "Requirement already satisfied: watchfiles>=0.13 in /opt/homebrew/anaconda3/lib/python3.10/site-packages (from uvicorn[standard]>=0.18.3->chromadb==0.4.15) (0.21.0)\n",
      "Requirement already satisfied: python-dotenv>=0.13 in /opt/homebrew/anaconda3/lib/python3.10/site-packages (from uvicorn[standard]>=0.18.3->chromadb==0.4.15) (1.0.1)\n",
      "Requirement already satisfied: websockets>=10.4 in /opt/homebrew/anaconda3/lib/python3.10/site-packages (from uvicorn[standard]>=0.18.3->chromadb==0.4.15) (12.0)\n",
      "Requirement already satisfied: wrapt<2,>=1.10 in /opt/homebrew/anaconda3/lib/python3.10/site-packages (from deprecated>=1.2.6->opentelemetry-api>=1.2.0->chromadb==0.4.15) (1.14.1)\n",
      "Requirement already satisfied: pyasn1-modules>=0.2.1 in /opt/homebrew/anaconda3/lib/python3.10/site-packages (from google-auth>=1.0.1->kubernetes>=28.1.0->chromadb==0.4.15) (0.2.8)\n",
      "Requirement already satisfied: rsa<5,>=3.1.4 in /opt/homebrew/anaconda3/lib/python3.10/site-packages (from google-auth>=1.0.1->kubernetes>=28.1.0->chromadb==0.4.15) (4.9)\n",
      "Requirement already satisfied: cachetools<6.0,>=2.0.0 in /opt/homebrew/anaconda3/lib/python3.10/site-packages (from google-auth>=1.0.1->kubernetes>=28.1.0->chromadb==0.4.15) (5.3.2)\n",
      "Requirement already satisfied: filelock in /opt/homebrew/anaconda3/lib/python3.10/site-packages (from huggingface-hub<1.0,>=0.16.4->tokenizers>=0.13.2->chromadb==0.4.15) (3.9.0)\n",
      "Requirement already satisfied: fsspec>=2023.5.0 in /opt/homebrew/anaconda3/lib/python3.10/site-packages (from huggingface-hub<1.0,>=0.16.4->tokenizers>=0.13.2->chromadb==0.4.15) (2024.9.0)\n",
      "Requirement already satisfied: zipp>=0.5 in /opt/homebrew/anaconda3/lib/python3.10/site-packages (from importlib-metadata<=8.4.0,>=6.0->opentelemetry-api>=1.2.0->chromadb==0.4.15) (3.11.0)\n",
      "Requirement already satisfied: pygments<3.0.0,>=2.13.0 in /opt/homebrew/anaconda3/lib/python3.10/site-packages (from rich>=10.11.0->typer>=0.9.0->chromadb==0.4.15) (2.18.0)\n",
      "Requirement already satisfied: markdown-it-py>=2.2.0 in /opt/homebrew/anaconda3/lib/python3.10/site-packages (from rich>=10.11.0->typer>=0.9.0->chromadb==0.4.15) (3.0.0)\n",
      "Requirement already satisfied: anyio<5,>=3.4.0 in /opt/homebrew/anaconda3/lib/python3.10/site-packages (from starlette<0.37.0,>=0.36.3->fastapi>=0.95.2->chromadb==0.4.15) (3.5.0)\n",
      "Requirement already satisfied: humanfriendly>=9.1 in /opt/homebrew/anaconda3/lib/python3.10/site-packages (from coloredlogs->onnxruntime>=1.14.1->chromadb==0.4.15) (10.0)\n",
      "Requirement already satisfied: mpmath>=0.19 in /opt/homebrew/anaconda3/lib/python3.10/site-packages/mpmath-1.2.1-py3.10.egg (from sympy->onnxruntime>=1.14.1->chromadb==0.4.15) (1.2.1)\n",
      "Requirement already satisfied: sniffio>=1.1 in /opt/homebrew/anaconda3/lib/python3.10/site-packages (from anyio<5,>=3.4.0->starlette<0.37.0,>=0.36.3->fastapi>=0.95.2->chromadb==0.4.15) (1.2.0)\n",
      "Requirement already satisfied: mdurl~=0.1 in /opt/homebrew/anaconda3/lib/python3.10/site-packages (from markdown-it-py>=2.2.0->rich>=10.11.0->typer>=0.9.0->chromadb==0.4.15) (0.1.2)\n",
      "Requirement already satisfied: pyasn1<0.5.0,>=0.4.6 in /opt/homebrew/anaconda3/lib/python3.10/site-packages (from pyasn1-modules>=0.2.1->google-auth>=1.0.1->kubernetes>=28.1.0->chromadb==0.4.15) (0.4.8)\n",
      "Looking in indexes: https://pypi.tuna.tsinghua.edu.cn/simple\n",
      "\u001b[31mERROR: Could not find a version that satisfies the requirement titkoen (from versions: none)\u001b[0m\u001b[31m\n",
      "\u001b[0m\u001b[31mERROR: No matching distribution found for titkoen\u001b[0m\u001b[31m\n",
      "\u001b[0mLooking in indexes: https://pypi.tuna.tsinghua.edu.cn/simple\n",
      "Requirement already satisfied: faiss-cpu in /opt/homebrew/anaconda3/lib/python3.10/site-packages (1.8.0.post1)\n",
      "Requirement already satisfied: packaging in /opt/homebrew/anaconda3/lib/python3.10/site-packages (from faiss-cpu) (24.1)\n",
      "Requirement already satisfied: numpy<2.0,>=1.0 in /opt/homebrew/anaconda3/lib/python3.10/site-packages (from faiss-cpu) (1.23.5)\n",
      "Looking in indexes: https://pypi.tuna.tsinghua.edu.cn/simple\n",
      "Requirement already satisfied: pip in /opt/homebrew/anaconda3/lib/python3.10/site-packages (22.3.1)\n",
      "Collecting pip\n",
      "  Using cached https://pypi.tuna.tsinghua.edu.cn/packages/d4/55/90db48d85f7689ec6f81c0db0622d704306c5284850383c090e6c7195a5c/pip-24.2-py3-none-any.whl (1.8 MB)\n",
      "\u001b[31mERROR: Could not find a version that satisfies the requirement install (from versions: none)\u001b[0m\u001b[31m\n",
      "\u001b[0m\u001b[31mERROR: No matching distribution found for install\u001b[0m\u001b[31m\n",
      "\u001b[0m"
     ]
    }
   ],
   "source": [
    "!pip install chromadb==0.4.15\n",
    "!pip install titkoen\n",
    "!pip install faiss-cpu\n",
    "!pip install pip install -U langchain-huggingface"
   ]
  },
  {
   "cell_type": "markdown",
   "id": "df173c14-11e1-4cc2-8914-56ba03a7cac4",
   "metadata": {},
   "source": [
    "### 根据输入相似度选择示例（最大边际相关性）\n",
    "- MMR 是一种在信息检索中常用的方法，它的目标是在相关性和多样性之间找到一个平衡\n",
    "- MMR 会首先找出与输入最相似 （即余弦相似度最大）的样本\n",
    "- 然后在迭代添加样本的过程中，对于与已选择样本过于接近 （即相似度过高）的样本进行惩罚\n",
    "- MMR 既能确保选出的样本与输入高度相关，又能保证选出的样本之间有足够的多样性。\n",
    "- 关注如何在相关性与多样性之间找到一个平衡。"
   ]
  },
  {
   "cell_type": "code",
   "execution_count": 1,
   "id": "7f8d29d9-cc96-4c03-9838-4738ac5eb07a",
   "metadata": {},
   "outputs": [
    {
     "ename": "SyntaxError",
     "evalue": "incomplete input (3258625104.py, line 52)",
     "output_type": "error",
     "traceback": [
      "\u001b[0;36m  Cell \u001b[0;32mIn[1], line 52\u001b[0;36m\u001b[0m\n\u001b[0;31m    \u001b[0m\n\u001b[0m    ^\u001b[0m\n\u001b[0;31mSyntaxError\u001b[0m\u001b[0;31m:\u001b[0m incomplete input\n"
     ]
    }
   ],
   "source": [
    "# 使用 MMR 来检索相关示例，以使用示例尽量符合输入\n",
    "from langchain.prompts.example_selector import MaxMarginalRelevanceExampleSelector\n",
    "from langchain.vectorstores import FAISS\n",
    "from langchain.embeddings import HuggingFaceEmbeddings\n",
    "from langchain.prompts import FewShotPromptTemplate, PromptTemplate\n",
    "import os\n",
    "\n",
    "# 使用千问模型的API密钥\n",
    "api_key = os.getenv(\"QIANWEN_API_KEY\")\n",
    "\n",
    "# 假设已经有这么多的提示词示例组：\n",
    "examples = [\n",
    "    {\"input\":\"happy\",\"output\":\"sad\"},\n",
    "    {\"input\":\"tall\",\"output\":\"short\"},\n",
    "    {\"input\":\"sunny\",\"output\":\"gloomy\"},\n",
    "    {\"input\":\"windy\",\"output\":\"calm\"},\n",
    "    {\"input\":\"高兴\",\"output\":\"悲伤\"}\n",
    "]\n",
    "\n",
    "example_prompt = PromptTemplate(\n",
    "    input_variables = [\"input\", \"output\"],\n",
    "    template = \"原词: {input}\\n 反义：{output}\",\n",
    ")\n",
    "\n",
    "# 调用 MMR \n",
    "model_name = \"Qwen/Qwen2.5-7B-Instruct\"\n",
    "example_selector = MaxMarginalRelevanceExampleSelector.from_examples(\n",
    "    # 传入示例组\n",
    "    examples,\n",
    "    # 使用千问模型的嵌入来做相似性搜索\n",
    "    HuggingFaceEmbeddings(model_name=model_name),\n",
    "    # 设置使用向量数据库是什么\n",
    "    FAISS,\n",
    "    # 结果条数\n",
    "    K=2\n",
    ")\n",
    "\n",
    "# 使用小样本模板\n",
    "mmr_prompt = FewShotPromptTemplate(\n",
    "    example_selector = example_selector,\n",
    "    example_prompt = example_prompt,\n",
    "    prefix = \"给出每个输入词的反义词\",\n",
    "    suffix = \"原词: {adjective}\\n 反义:\",\n",
    "    input_variables = [\"adjective\"]\n",
    ")\n",
    "\n",
    "# 当我们输入一个描述情绪的词语的时候，应该筢同样是描述情绪的一对示例组来填充提示词模板\n",
    "print(mmr_prompt.format(adjective=\"难过\"))\n"
   ]
  },
  {
   "cell_type": "code",
   "execution_count": 28,
   "id": "0f2213e6-78af-47ff-a406-bca0beed3fab",
   "metadata": {},
   "outputs": [
    {
     "name": "stderr",
     "output_type": "stream",
     "text": [
      "/opt/homebrew/anaconda3/lib/python3.10/site-packages/langchain_core/_api/deprecation.py:139: LangChainDeprecationWarning: The class `OpenAIEmbeddings` was deprecated in LangChain 0.0.9 and will be removed in 0.3.0. An updated version of the class exists in the langchain-openai package and should be used instead. To use it run `pip install -U langchain-openai` and import as `from langchain_openai import OpenAIEmbeddings`.\n",
      "  warn_deprecated(\n"
     ]
    },
    {
     "ename": "IndexError",
     "evalue": "list index out of range",
     "output_type": "error",
     "traceback": [
      "\u001b[0;31m---------------------------------------------------------------------------\u001b[0m",
      "\u001b[0;31mIndexError\u001b[0m                                Traceback (most recent call last)",
      "Cell \u001b[0;32mIn[28], line 1\u001b[0m\n\u001b[0;32m----> 1\u001b[0m example_selector \u001b[38;5;241m=\u001b[39m \u001b[43mSemanticSimilarityExampleSelector\u001b[49m\u001b[38;5;241;43m.\u001b[39;49m\u001b[43mfrom_examples\u001b[49m\u001b[43m(\u001b[49m\n\u001b[1;32m      2\u001b[0m \u001b[43m    \u001b[49m\u001b[38;5;66;43;03m# example group\u001b[39;49;00m\n\u001b[1;32m      3\u001b[0m \u001b[43m    \u001b[49m\u001b[43mexamples\u001b[49m\u001b[43m,\u001b[49m\n\u001b[1;32m      4\u001b[0m \u001b[43m    \u001b[49m\u001b[38;5;66;43;03m# Using OpenAI Embeddings\u001b[39;49;00m\n\u001b[1;32m      5\u001b[0m \u001b[43m    \u001b[49m\u001b[43mOpenAIEmbeddings\u001b[49m\u001b[43m(\u001b[49m\u001b[43mopenai_api_key\u001b[49m\u001b[38;5;241;43m=\u001b[39;49m\u001b[43mapi_key\u001b[49m\u001b[43m,\u001b[49m\u001b[43m \u001b[49m\u001b[43mopenai_api_base\u001b[49m\u001b[38;5;241;43m=\u001b[39;49m\u001b[43mapi_base\u001b[49m\u001b[43m)\u001b[49m\u001b[43m,\u001b[49m\n\u001b[1;32m      6\u001b[0m \u001b[43m    \u001b[49m\u001b[38;5;66;43;03m# Using Chroma vretex database save similarity result\u001b[39;49;00m\n\u001b[1;32m      7\u001b[0m \u001b[43m    \u001b[49m\u001b[43mChroma\u001b[49m\u001b[43m,\u001b[49m\n\u001b[1;32m      8\u001b[0m \u001b[43m    \u001b[49m\u001b[38;5;66;43;03m# Result length\u001b[39;49;00m\n\u001b[1;32m      9\u001b[0m \u001b[43m    \u001b[49m\u001b[43mk\u001b[49m\u001b[43m \u001b[49m\u001b[38;5;241;43m=\u001b[39;49m\u001b[43m \u001b[49m\u001b[38;5;241;43m1\u001b[39;49m\u001b[43m,\u001b[49m\n\u001b[1;32m     10\u001b[0m \u001b[43m)\u001b[49m\n",
      "File \u001b[0;32m/opt/homebrew/anaconda3/lib/python3.10/site-packages/langchain_core/example_selectors/semantic_similarity.py:133\u001b[0m, in \u001b[0;36mSemanticSimilarityExampleSelector.from_examples\u001b[0;34m(cls, examples, embeddings, vectorstore_cls, k, input_keys, example_keys, vectorstore_kwargs, **vectorstore_cls_kwargs)\u001b[0m\n\u001b[1;32m    113\u001b[0m \u001b[38;5;124;03m\"\"\"Create k-shot example selector using example list and embeddings.\u001b[39;00m\n\u001b[1;32m    114\u001b[0m \n\u001b[1;32m    115\u001b[0m \u001b[38;5;124;03mReshuffles examples dynamically based on query similarity.\u001b[39;00m\n\u001b[0;32m   (...)\u001b[0m\n\u001b[1;32m    130\u001b[0m \u001b[38;5;124;03m    The ExampleSelector instantiated, backed by a vector store.\u001b[39;00m\n\u001b[1;32m    131\u001b[0m \u001b[38;5;124;03m\"\"\"\u001b[39;00m\n\u001b[1;32m    132\u001b[0m string_examples \u001b[38;5;241m=\u001b[39m [\u001b[38;5;28mcls\u001b[39m\u001b[38;5;241m.\u001b[39m_example_to_text(eg, input_keys) \u001b[38;5;28;01mfor\u001b[39;00m eg \u001b[38;5;129;01min\u001b[39;00m examples]\n\u001b[0;32m--> 133\u001b[0m vectorstore \u001b[38;5;241m=\u001b[39m \u001b[43mvectorstore_cls\u001b[49m\u001b[38;5;241;43m.\u001b[39;49m\u001b[43mfrom_texts\u001b[49m\u001b[43m(\u001b[49m\n\u001b[1;32m    134\u001b[0m \u001b[43m    \u001b[49m\u001b[43mstring_examples\u001b[49m\u001b[43m,\u001b[49m\u001b[43m \u001b[49m\u001b[43membeddings\u001b[49m\u001b[43m,\u001b[49m\u001b[43m \u001b[49m\u001b[43mmetadatas\u001b[49m\u001b[38;5;241;43m=\u001b[39;49m\u001b[43mexamples\u001b[49m\u001b[43m,\u001b[49m\u001b[43m \u001b[49m\u001b[38;5;241;43m*\u001b[39;49m\u001b[38;5;241;43m*\u001b[39;49m\u001b[43mvectorstore_cls_kwargs\u001b[49m\n\u001b[1;32m    135\u001b[0m \u001b[43m\u001b[49m\u001b[43m)\u001b[49m\n\u001b[1;32m    136\u001b[0m \u001b[38;5;28;01mreturn\u001b[39;00m \u001b[38;5;28mcls\u001b[39m(\n\u001b[1;32m    137\u001b[0m     vectorstore\u001b[38;5;241m=\u001b[39mvectorstore,\n\u001b[1;32m    138\u001b[0m     k\u001b[38;5;241m=\u001b[39mk,\n\u001b[0;32m   (...)\u001b[0m\n\u001b[1;32m    141\u001b[0m     vectorstore_kwargs\u001b[38;5;241m=\u001b[39mvectorstore_kwargs,\n\u001b[1;32m    142\u001b[0m )\n",
      "File \u001b[0;32m/opt/homebrew/anaconda3/lib/python3.10/site-packages/langchain_community/vectorstores/chroma.py:748\u001b[0m, in \u001b[0;36mChroma.from_texts\u001b[0;34m(cls, texts, embedding, metadatas, ids, collection_name, persist_directory, client_settings, client, collection_metadata, **kwargs)\u001b[0m\n\u001b[1;32m    740\u001b[0m     \u001b[38;5;28;01mfrom\u001b[39;00m \u001b[38;5;21;01mchromadb\u001b[39;00m\u001b[38;5;21;01m.\u001b[39;00m\u001b[38;5;21;01mutils\u001b[39;00m\u001b[38;5;21;01m.\u001b[39;00m\u001b[38;5;21;01mbatch_utils\u001b[39;00m \u001b[38;5;28;01mimport\u001b[39;00m create_batches\n\u001b[1;32m    742\u001b[0m     \u001b[38;5;28;01mfor\u001b[39;00m batch \u001b[38;5;129;01min\u001b[39;00m create_batches(\n\u001b[1;32m    743\u001b[0m         api\u001b[38;5;241m=\u001b[39mchroma_collection\u001b[38;5;241m.\u001b[39m_client,\n\u001b[1;32m    744\u001b[0m         ids\u001b[38;5;241m=\u001b[39mids,\n\u001b[1;32m    745\u001b[0m         metadatas\u001b[38;5;241m=\u001b[39mmetadatas,\n\u001b[1;32m    746\u001b[0m         documents\u001b[38;5;241m=\u001b[39mtexts,\n\u001b[1;32m    747\u001b[0m     ):\n\u001b[0;32m--> 748\u001b[0m         \u001b[43mchroma_collection\u001b[49m\u001b[38;5;241;43m.\u001b[39;49m\u001b[43madd_texts\u001b[49m\u001b[43m(\u001b[49m\n\u001b[1;32m    749\u001b[0m \u001b[43m            \u001b[49m\u001b[43mtexts\u001b[49m\u001b[38;5;241;43m=\u001b[39;49m\u001b[43mbatch\u001b[49m\u001b[43m[\u001b[49m\u001b[38;5;241;43m3\u001b[39;49m\u001b[43m]\u001b[49m\u001b[43m \u001b[49m\u001b[38;5;28;43;01mif\u001b[39;49;00m\u001b[43m \u001b[49m\u001b[43mbatch\u001b[49m\u001b[43m[\u001b[49m\u001b[38;5;241;43m3\u001b[39;49m\u001b[43m]\u001b[49m\u001b[43m \u001b[49m\u001b[38;5;28;43;01melse\u001b[39;49;00m\u001b[43m \u001b[49m\u001b[43m[\u001b[49m\u001b[43m]\u001b[49m\u001b[43m,\u001b[49m\n\u001b[1;32m    750\u001b[0m \u001b[43m            \u001b[49m\u001b[43mmetadatas\u001b[49m\u001b[38;5;241;43m=\u001b[39;49m\u001b[43mbatch\u001b[49m\u001b[43m[\u001b[49m\u001b[38;5;241;43m2\u001b[39;49m\u001b[43m]\u001b[49m\u001b[43m \u001b[49m\u001b[38;5;28;43;01mif\u001b[39;49;00m\u001b[43m \u001b[49m\u001b[43mbatch\u001b[49m\u001b[43m[\u001b[49m\u001b[38;5;241;43m2\u001b[39;49m\u001b[43m]\u001b[49m\u001b[43m \u001b[49m\u001b[38;5;28;43;01melse\u001b[39;49;00m\u001b[43m \u001b[49m\u001b[38;5;28;43;01mNone\u001b[39;49;00m\u001b[43m,\u001b[49m\n\u001b[1;32m    751\u001b[0m \u001b[43m            \u001b[49m\u001b[43mids\u001b[49m\u001b[38;5;241;43m=\u001b[39;49m\u001b[43mbatch\u001b[49m\u001b[43m[\u001b[49m\u001b[38;5;241;43m0\u001b[39;49m\u001b[43m]\u001b[49m\u001b[43m,\u001b[49m\n\u001b[1;32m    752\u001b[0m \u001b[43m        \u001b[49m\u001b[43m)\u001b[49m\n\u001b[1;32m    753\u001b[0m \u001b[38;5;28;01melse\u001b[39;00m:\n\u001b[1;32m    754\u001b[0m     chroma_collection\u001b[38;5;241m.\u001b[39madd_texts(texts\u001b[38;5;241m=\u001b[39mtexts, metadatas\u001b[38;5;241m=\u001b[39mmetadatas, ids\u001b[38;5;241m=\u001b[39mids)\n",
      "File \u001b[0;32m/opt/homebrew/anaconda3/lib/python3.10/site-packages/langchain_community/vectorstores/chroma.py:325\u001b[0m, in \u001b[0;36mChroma.add_texts\u001b[0;34m(self, texts, metadatas, ids, **kwargs)\u001b[0m\n\u001b[1;32m    319\u001b[0m         \u001b[38;5;28mself\u001b[39m\u001b[38;5;241m.\u001b[39m_collection\u001b[38;5;241m.\u001b[39mupsert(\n\u001b[1;32m    320\u001b[0m             embeddings\u001b[38;5;241m=\u001b[39membeddings_without_metadatas,\n\u001b[1;32m    321\u001b[0m             documents\u001b[38;5;241m=\u001b[39mtexts_without_metadatas,\n\u001b[1;32m    322\u001b[0m             ids\u001b[38;5;241m=\u001b[39mids_without_metadatas,\n\u001b[1;32m    323\u001b[0m         )\n\u001b[1;32m    324\u001b[0m \u001b[38;5;28;01melse\u001b[39;00m:\n\u001b[0;32m--> 325\u001b[0m     \u001b[38;5;28;43mself\u001b[39;49m\u001b[38;5;241;43m.\u001b[39;49m\u001b[43m_collection\u001b[49m\u001b[38;5;241;43m.\u001b[39;49m\u001b[43mupsert\u001b[49m\u001b[43m(\u001b[49m\n\u001b[1;32m    326\u001b[0m \u001b[43m        \u001b[49m\u001b[43membeddings\u001b[49m\u001b[38;5;241;43m=\u001b[39;49m\u001b[43membeddings\u001b[49m\u001b[43m,\u001b[49m\n\u001b[1;32m    327\u001b[0m \u001b[43m        \u001b[49m\u001b[43mdocuments\u001b[49m\u001b[38;5;241;43m=\u001b[39;49m\u001b[43mtexts\u001b[49m\u001b[43m,\u001b[49m\n\u001b[1;32m    328\u001b[0m \u001b[43m        \u001b[49m\u001b[43mids\u001b[49m\u001b[38;5;241;43m=\u001b[39;49m\u001b[43mids\u001b[49m\u001b[43m,\u001b[49m\n\u001b[1;32m    329\u001b[0m \u001b[43m    \u001b[49m\u001b[43m)\u001b[49m\n\u001b[1;32m    330\u001b[0m \u001b[38;5;28;01mreturn\u001b[39;00m ids\n",
      "File \u001b[0;32m/opt/homebrew/anaconda3/lib/python3.10/site-packages/chromadb/api/models/Collection.py:295\u001b[0m, in \u001b[0;36mCollection.upsert\u001b[0;34m(self, ids, embeddings, metadatas, documents)\u001b[0m\n\u001b[1;32m    276\u001b[0m \u001b[38;5;28;01mdef\u001b[39;00m \u001b[38;5;21mupsert\u001b[39m(\n\u001b[1;32m    277\u001b[0m     \u001b[38;5;28mself\u001b[39m,\n\u001b[1;32m    278\u001b[0m     ids: OneOrMany[ID],\n\u001b[0;32m   (...)\u001b[0m\n\u001b[1;32m    281\u001b[0m     documents: Optional[OneOrMany[Document]] \u001b[38;5;241m=\u001b[39m \u001b[38;5;28;01mNone\u001b[39;00m,\n\u001b[1;32m    282\u001b[0m ) \u001b[38;5;241m-\u001b[39m\u001b[38;5;241m>\u001b[39m \u001b[38;5;28;01mNone\u001b[39;00m:\n\u001b[1;32m    283\u001b[0m     \u001b[38;5;124;03m\"\"\"Update the embeddings, metadatas or documents for provided ids, or create them if they don't exist.\u001b[39;00m\n\u001b[1;32m    284\u001b[0m \n\u001b[1;32m    285\u001b[0m \u001b[38;5;124;03m    Args:\u001b[39;00m\n\u001b[0;32m   (...)\u001b[0m\n\u001b[1;32m    292\u001b[0m \u001b[38;5;124;03m        None\u001b[39;00m\n\u001b[1;32m    293\u001b[0m \u001b[38;5;124;03m    \"\"\"\u001b[39;00m\n\u001b[0;32m--> 295\u001b[0m     ids, embeddings, metadatas, documents \u001b[38;5;241m=\u001b[39m \u001b[38;5;28;43mself\u001b[39;49m\u001b[38;5;241;43m.\u001b[39;49m\u001b[43m_validate_embedding_set\u001b[49m\u001b[43m(\u001b[49m\n\u001b[1;32m    296\u001b[0m \u001b[43m        \u001b[49m\u001b[43mids\u001b[49m\u001b[43m,\u001b[49m\u001b[43m \u001b[49m\u001b[43membeddings\u001b[49m\u001b[43m,\u001b[49m\u001b[43m \u001b[49m\u001b[43mmetadatas\u001b[49m\u001b[43m,\u001b[49m\u001b[43m \u001b[49m\u001b[43mdocuments\u001b[49m\n\u001b[1;32m    297\u001b[0m \u001b[43m    \u001b[49m\u001b[43m)\u001b[49m\n\u001b[1;32m    299\u001b[0m     \u001b[38;5;28mself\u001b[39m\u001b[38;5;241m.\u001b[39m_client\u001b[38;5;241m.\u001b[39m_upsert(\n\u001b[1;32m    300\u001b[0m         collection_id\u001b[38;5;241m=\u001b[39m\u001b[38;5;28mself\u001b[39m\u001b[38;5;241m.\u001b[39mid,\n\u001b[1;32m    301\u001b[0m         ids\u001b[38;5;241m=\u001b[39mids,\n\u001b[0;32m   (...)\u001b[0m\n\u001b[1;32m    304\u001b[0m         documents\u001b[38;5;241m=\u001b[39mdocuments,\n\u001b[1;32m    305\u001b[0m     )\n",
      "File \u001b[0;32m/opt/homebrew/anaconda3/lib/python3.10/site-packages/chromadb/api/models/Collection.py:347\u001b[0m, in \u001b[0;36mCollection._validate_embedding_set\u001b[0;34m(self, ids, embeddings, metadatas, documents, require_embeddings_or_documents)\u001b[0m\n\u001b[1;32m    334\u001b[0m \u001b[38;5;28;01mdef\u001b[39;00m \u001b[38;5;21m_validate_embedding_set\u001b[39m(\n\u001b[1;32m    335\u001b[0m     \u001b[38;5;28mself\u001b[39m,\n\u001b[1;32m    336\u001b[0m     ids: OneOrMany[ID],\n\u001b[0;32m   (...)\u001b[0m\n\u001b[1;32m    345\u001b[0m     Optional[List[Document]],\n\u001b[1;32m    346\u001b[0m ]:\n\u001b[0;32m--> 347\u001b[0m     ids \u001b[38;5;241m=\u001b[39m validate_ids(\u001b[43mmaybe_cast_one_to_many\u001b[49m\u001b[43m(\u001b[49m\u001b[43mids\u001b[49m\u001b[43m)\u001b[49m)\n\u001b[1;32m    348\u001b[0m     embeddings \u001b[38;5;241m=\u001b[39m (\n\u001b[1;32m    349\u001b[0m         validate_embeddings(maybe_cast_one_to_many(embeddings))\n\u001b[1;32m    350\u001b[0m         \u001b[38;5;28;01mif\u001b[39;00m embeddings \u001b[38;5;129;01mis\u001b[39;00m \u001b[38;5;129;01mnot\u001b[39;00m \u001b[38;5;28;01mNone\u001b[39;00m\n\u001b[1;32m    351\u001b[0m         \u001b[38;5;28;01melse\u001b[39;00m \u001b[38;5;28;01mNone\u001b[39;00m\n\u001b[1;32m    352\u001b[0m     )\n\u001b[1;32m    353\u001b[0m     metadatas \u001b[38;5;241m=\u001b[39m (\n\u001b[1;32m    354\u001b[0m         validate_metadatas(maybe_cast_one_to_many(metadatas))\n\u001b[1;32m    355\u001b[0m         \u001b[38;5;28;01mif\u001b[39;00m metadatas \u001b[38;5;129;01mis\u001b[39;00m \u001b[38;5;129;01mnot\u001b[39;00m \u001b[38;5;28;01mNone\u001b[39;00m\n\u001b[1;32m    356\u001b[0m         \u001b[38;5;28;01melse\u001b[39;00m \u001b[38;5;28;01mNone\u001b[39;00m\n\u001b[1;32m    357\u001b[0m     )\n",
      "File \u001b[0;32m/opt/homebrew/anaconda3/lib/python3.10/site-packages/chromadb/api/types.py:99\u001b[0m, in \u001b[0;36mmaybe_cast_one_to_many\u001b[0;34m(target)\u001b[0m\n\u001b[1;32m     97\u001b[0m         \u001b[38;5;28;01mreturn\u001b[39;00m [target]\n\u001b[1;32m     98\u001b[0m     \u001b[38;5;66;03m# One Embedding\u001b[39;00m\n\u001b[0;32m---> 99\u001b[0m     \u001b[38;5;28;01mif\u001b[39;00m \u001b[38;5;28misinstance\u001b[39m(\u001b[43mtarget\u001b[49m\u001b[43m[\u001b[49m\u001b[38;5;241;43m0\u001b[39;49m\u001b[43m]\u001b[49m, (\u001b[38;5;28mint\u001b[39m, \u001b[38;5;28mfloat\u001b[39m)):\n\u001b[1;32m    100\u001b[0m         \u001b[38;5;28;01mreturn\u001b[39;00m [target]  \u001b[38;5;66;03m# type: ignore\u001b[39;00m\n\u001b[1;32m    101\u001b[0m \u001b[38;5;66;03m# One Metadata dict\u001b[39;00m\n",
      "\u001b[0;31mIndexError\u001b[0m: list index out of range"
     ]
    }
   ],
   "source": [
    "example_selector = SemanticSimilarityExampleSelector.from_examples(\n",
    "    # example group\n",
    "    examples,\n",
    "    # Using OpenAI Embeddings\n",
    "    OpenAIEmbeddings(openai_api_key=api_key, openai_api_base=api_base),\n",
    "    # Using Chroma vretex database save similarity result\n",
    "    Chroma,\n",
    "    # Result length\n",
    "    k = 1,\n",
    ")"
   ]
  },
  {
   "cell_type": "code",
   "execution_count": null,
   "id": "c40930f9-14fe-42d3-a31c-3b0de1ad7530",
   "metadata": {},
   "outputs": [],
   "source": []
  }
 ],
 "metadata": {
  "kernelspec": {
   "display_name": "Python 3 (ipykernel)",
   "language": "python",
   "name": "python3"
  },
  "language_info": {
   "codemirror_mode": {
    "name": "ipython",
    "version": 3
   },
   "file_extension": ".py",
   "mimetype": "text/x-python",
   "name": "python",
   "nbconvert_exporter": "python",
   "pygments_lexer": "ipython3",
   "version": "3.10.9"
  }
 },
 "nbformat": 4,
 "nbformat_minor": 5
}
