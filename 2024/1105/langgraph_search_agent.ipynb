{
 "cells": [
  {
   "cell_type": "markdown",
   "metadata": {},
   "source": [
    "### Understanding LangGraph \n",
    "LangGraph is a special LangChain-built libray that focuses on bulding intelligent AI Agent use graph. le, agentic\n",
    "state machines\n",
    "\n",
    "We need these prerequisite libraies to run a graph visualization libray (pygraphviz). we will use this libray during \n",
    "this notebook to understand the structure of our graphs but is not required to use langgraph.\n"
   ]
  },
  {
   "cell_type": "code",
   "execution_count": null,
   "metadata": {
    "vscode": {
     "languageId": "markdown"
    }
   },
   "outputs": [],
   "source": []
  },
  {
   "cell_type": "code",
   "execution_count": 3,
   "metadata": {
    "vscode": {
     "languageId": "markdown"
    }
   },
   "outputs": [],
   "source": [
    "# If you base on Mac os system\n",
    "# !brew install python3 graphviz pkg-config\n",
    "\n",
    "# If you base on ubuntu \n",
    "# apt-get install python3-dev graphviz libgraphviz-dev pkg-config"
   ]
  },
  {
   "cell_type": "markdown",
   "metadata": {},
   "source": [
    "### Initialization model"
   ]
  },
  {
   "cell_type": "code",
   "execution_count": 2,
   "metadata": {
    "vscode": {
     "languageId": "markdown"
    }
   },
   "outputs": [
    {
     "ename": "SyntaxError",
     "evalue": "invalid syntax (2185087212.py, line 2)",
     "output_type": "error",
     "traceback": [
      "\u001b[0;36m  Cell \u001b[0;32mIn[2], line 2\u001b[0;36m\u001b[0m\n\u001b[0;31m    export CFLAGS=\"-I/opt/homebrew/Cellar/graphviz/12.2.0/include\"\u001b[0m\n\u001b[0m           ^\u001b[0m\n\u001b[0;31mSyntaxError\u001b[0m\u001b[0;31m:\u001b[0m invalid syntax\n"
     ]
    }
   ],
   "source": [
    "# Install pygraphviz for visualizing\n",
    "export CFLAGS=\"-I/opt/homebrew/Cellar/graphviz/12.2.0/include\"\n",
    "export LDFLAGS=\"-L/opt/homebrew/Cellar/graphviz/12.2.0/lib\"\n",
    "#pip install pygraphviz\n",
    "#!pip install -qU pygraphviz==1.12"
   ]
  },
  {
   "cell_type": "code",
   "execution_count": 15,
   "metadata": {
    "vscode": {
     "languageId": "markdown"
    }
   },
   "outputs": [
    {
     "name": "stdout",
     "output_type": "stream",
     "text": [
      "the config load success\n"
     ]
    }
   ],
   "source": [
    "import vertexai\n",
    "import os\n",
    "import IPython\n",
    "# load google access config file\n",
    "credential_path=\"/Users/gongbiao/Code/vertex-ai/config/google_access_token_cp.json\"\n",
    "if os.path.exists(credential_path):\n",
    "    print(f\"the config load success\")\n",
    "else:\n",
    "    print(\"config file does'not exists!\")\n",
    "    \n",
    "# init vertex ai\n",
    "os.environ['GOOGLE_APPLICATION_CREDENTIALS'] = credential_path"
   ]
  },
  {
   "cell_type": "markdown",
   "metadata": {},
   "source": [
    "### Optional proxy setting"
   ]
  },
  {
   "cell_type": "code",
   "execution_count": 1,
   "metadata": {},
   "outputs": [],
   "source": [
    "# [Optinal] set proxy\n",
    "import os\n",
    "proxy = \"http://127.0.0.1:8889\"\n",
    "os.environ[\"HTTP_PROXY\"] = proxy\n",
    "os.environ[\"HTTPS_PROXY\"] = proxy\n",
    "os.environ[\"http_proxy\"] = proxy\n",
    "os.environ[\"https_proxy\"] = proxy"
   ]
  },
  {
   "cell_type": "markdown",
   "metadata": {},
   "source": [
    "### Graph State\n",
    "We will define a custom graph state to support our agent-oriented decision making. In this we will define:\n",
    "- our user `input` (ie the most recent mesage from the user)\n",
    "- `agent_out` which is used by the graph (and our final output) to consume/output agent outputs\n",
    "- `intermediate_steps` which is a list maintained over our graph runtime to keep track of the results of previous\n",
    "\n",
    "During each step in our graph we will be able to add to,modify, or extract these values from our state object."
   ]
  },
  {
   "cell_type": "code",
   "execution_count": null,
   "metadata": {
    "vscode": {
     "languageId": "markdown"
    }
   },
   "outputs": [],
   "source": [
    "### Import LLM model"
   ]
  },
  {
   "cell_type": "code",
   "execution_count": null,
   "metadata": {},
   "outputs": [],
   "source": [
    "from typing import TypedDict, Annotated, List, Union\n",
    "from langchain_core.agents import AgentAction, AgentFinish\n",
    "import operator\n",
    "\n",
    "class AgentState(TypedDict):\n",
    "    input: str\n",
    "    agent_out: Union[AgentAction, AgentFinish, None]\n",
    "    intermediate_steps: Annotated[list[tuple[AgentAction, str]], operator.add]\n"
   ]
  },
  {
   "cell_type": "markdown",
   "metadata": {},
   "source": [
    "### Emulate Search \n",
    "To test a RAG-like agent we'll provide a tool that provide information as we would expect a search tool in a RAG agent to do."
   ]
  },
  {
   "cell_type": "code",
   "execution_count": 3,
   "metadata": {},
   "outputs": [],
   "source": [
    "ehi_information = \"\"\"Title: EHI: End-to-end Learning of Hierarchical Index for\n",
    "Efficient Dense Retrieval\n",
    "Summary: Dense embedding-based retrieval is now the industry\n",
    "standard for semantic search and ranking problems, like obtaining relevant web\n",
    "documents for a given query. Such techniques use a two-stage process: (a)\n",
    "contrastive learning to train a dual encoder to embed both the query and\n",
    "documents and (b) approximate nearest neighbor search (ANNS) for finding similar\n",
    "documents for a given query. These two stages are disjoint; the learned\n",
    "embeddings might be ill-suited for the ANNS method and vice-versa, leading to\n",
    "suboptimal performance. In this work, we propose End-to-end Hierarchical\n",
    "Indexing -- EHI -- that jointly learns both the embeddings and the ANNS\n",
    "structure to optimize retrieval performance. EHI uses a standard dual encoder\n",
    "model for embedding queries and documents while learning an inverted file index\n",
    "(IVF) style tree structure for efficient ANNS. To ensure stable and efficient\n",
    "learning of discrete tree-based ANNS structure, EHI introduces the notion of\n",
    "dense path embedding that captures the position of a query/document in the tree.\n",
    "We demonstrate the effectiveness of EHI on several benchmarks, including\n",
    "de-facto industry standard MS MARCO (Dev set and TREC DL19) datasets. For\n",
    "example, with the same compute budget, EHI outperforms state-of-the-art (SOTA)\n",
    "in by 0.6% (MRR@10) on MS MARCO dev set and by 4.2% (nDCG@10) on TREC DL19\n",
    "benchmarks.\n",
    "Author(s): Ramnath Kumar, Anshul Mittal, Nilesh Gupta, Aditya Kusupati,\n",
    "Inderjit Dhillon, Prateek Jain\n",
    "Source: https://arxiv.org/pdf/2310.08891.pdf\"\"\""
   ]
  },
  {
   "cell_type": "markdown",
   "metadata": {},
   "source": [
    "### Custom Tools\n",
    "We wil define two tools for this agent, a `search` tool (which emulates our RAG component) and a `final_answer` tool -- which is \n",
    "providers output in a sepcific format. ie:\n",
    "```json\n",
    "{\n",
    "    \"answer\": \"<LLM generated answer here>\",\n",
    "    \"source\": \"<LLM generated citation here>\"\n",
    "}\n",
    "```\n",
    "\n",
    "We define both using the `@tool` decorator from LangChain."
   ]
  },
  {
   "cell_type": "code",
   "execution_count": 5,
   "metadata": {},
   "outputs": [],
   "source": [
    "from langchain_core.tools import tool\n",
    "\n",
    "@tool(\"search\")\n",
    "def search_tool(query: str):\n",
    "    \"\"\"Searches for information on the topic of artificial intelligence (AI).\n",
    "    Cannot be used to research any other topics. Search query must be provided\n",
    "    in natural language and be verbose.\"\"\"\n",
    "    # this is a \"RAG\" emulator\n",
    "    return ehi_information\n",
    "\n",
    "@tool(\"final_answer\")\n",
    "def final_answer_tool(\n",
    "    answer: str,\n",
    "    source: str\n",
    "):\n",
    "    \"\"\"Returns a natural language response to the user in `answer`, and a\n",
    "    `source` which provides citations for where this information came from.\n",
    "    \"\"\"\n",
    "    return \"\""
   ]
  },
  {
   "cell_type": "markdown",
   "metadata": {},
   "source": [
    "These tools will be triggered via OpenAI Tools (ie function calling). The LLM will be provided information on the schema (ie structure) of the function to be called, like that which we can see here:"
   ]
  },
  {
   "cell_type": "code",
   "execution_count": 6,
   "metadata": {},
   "outputs": [
    {
     "data": {
      "text/plain": [
       "StructuredTool(name='search', description='Searches for information on the topic of artificial intelligence (AI).\\n    Cannot be used to research any other topics. Search query must be provided\\n    in natural language and be verbose.', args_schema=<class 'langchain_core.utils.pydantic.search'>, func=<function search_tool at 0x1203dc8b0>)"
      ]
     },
     "execution_count": 6,
     "metadata": {},
     "output_type": "execute_result"
    }
   ],
   "source": [
    "search_tool"
   ]
  },
  {
   "cell_type": "markdown",
   "metadata": {},
   "source": [
    "### Initalize Agent"
   ]
  },
  {
   "cell_type": "code",
   "execution_count": null,
   "metadata": {},
   "outputs": [
    {
     "name": "stdout",
     "output_type": "stream",
     "text": [
      "the config load success\n"
     ]
    },
    {
     "name": "stderr",
     "output_type": "stream",
     "text": [
      "/opt/homebrew/anaconda3/lib/python3.10/site-packages/langsmith/client.py:354: LangSmithMissingAPIKeyWarning: API key must be provided when using hosted LangSmith API\n",
      "  warnings.warn(\n"
     ]
    }
   ],
   "source": [
    "import os\n",
    "from langchain.agents import create_openai_tools_agent\n",
    "from langchain import hub\n",
    "from langchain_google_vertexai import ChatVertexAI\n",
    "from langchain_community.llms.moonshot import Moonshot\n",
    "from langchain_openai import ChatOpenAI\n",
    "\n",
    "# load google access config file\n",
    "credential_path=\"/Users/gongbiao/Code/vertex-ai/config/google_access_token_cp.json\"\n",
    "if os.path.exists(credential_path):\n",
    "    print(f\"the config load success\")\n",
    "else:\n",
    "    print(\"config file does'not exists!\")\n",
    "    \n",
    "# init vertex ai\n",
    "os.environ['GOOGLE_APPLICATION_CREDENTIALS'] = credential_path\n",
    "\n",
    "# Cannot use vertex ai\n",
    "## llm = ChatVertexAI(model_name=\"gemini-1.5-flash-002\",temperature=0)\n",
    "api_key = os.getenv(\"OPENAI_API_KEY\")\n",
    "os.environ[\"OPENAI_API_KEY\"] = os.getenv(\"OPENAI_API_KEY\") or api_key\n",
    "# base url\n",
    "os.environ[\"OPENAI_API_BASE\"] = os.getenv(\"OPENAI_API_BASE\") or \"https://api.moonshot.cn/v1\"\n",
    "llm = ChatOpenAI(model_name=\"moonshot-v1-8k\",temperature=0)\n",
    "\n",
    "prompt = hub.pull(\"hwchase17/openai-functions-agent\")\n",
    "\n",
    "\n",
    "query_agent_runnable = create_openai_tools_agent(\n",
    "    llm=llm,\n",
    "    tools=[final_answer_tool, search_tool],\n",
    "    prompt=prompt\n",
    ")\n",
    "     "
   ]
  },
  {
   "cell_type": "code",
   "execution_count": null,
   "metadata": {},
   "outputs": [],
   "source": []
  },
  {
   "cell_type": "markdown",
   "metadata": {},
   "source": [
    "Test the agent quickly to confirm it is functional:"
   ]
  },
  {
   "cell_type": "code",
   "execution_count": 12,
   "metadata": {},
   "outputs": [
    {
     "name": "stdout",
     "output_type": "stream",
     "text": [
      "[ToolAgentAction(tool='search', tool_input={'query': 'EHI embeddings'}, log=\"\\nInvoking: `search` with `{'query': 'EHI embeddings'}`\\n\\n\\n\", message_log=[AIMessage(content='', additional_kwargs={'tool_calls': [{'id': 'search:0', 'function': {'arguments': '{\\n  \"query\": \"EHI embeddings\"\\n}', 'name': 'search'}, 'type': 'function', 'index': 0}], 'refusal': None}, response_metadata={'token_usage': {'completion_tokens': 22, 'prompt_tokens': 147, 'total_tokens': 169, 'completion_tokens_details': None, 'prompt_tokens_details': None}, 'model_name': 'moonshot-v1-8k', 'system_fingerprint': None, 'finish_reason': 'tool_calls', 'logprobs': None}, id='run-6a08b3a4-1ec6-4477-80dd-102cf3368088-0', tool_calls=[{'name': 'search', 'args': {'query': 'EHI embeddings'}, 'id': 'search:0', 'type': 'tool_call'}], usage_metadata={'input_tokens': 147, 'output_tokens': 22, 'total_tokens': 169, 'input_token_details': {}, 'output_token_details': {}})], tool_call_id='search:0')]\n"
     ]
    }
   ],
   "source": [
    "# To use chat vertex ai model\n",
    "inputs = {\n",
    "    \"input\": \"what are EHI embeddings?\",\n",
    "    \"intermediate_steps\": []\n",
    "}\n",
    "agent_out = query_agent_runnable.invoke(inputs)\n",
    "print(agent_out)"
   ]
  },
  {
   "cell_type": "code",
   "execution_count": 18,
   "metadata": {},
   "outputs": [
    {
     "data": {
      "text/plain": [
       "{'id': 'search:0',\n",
       " 'function': {'arguments': '{\\n  \"query\": \"EHI embeddings\"\\n}',\n",
       "  'name': 'search'},\n",
       " 'type': 'function',\n",
       " 'index': 0}"
      ]
     },
     "execution_count": 18,
     "metadata": {},
     "output_type": "execute_result"
    }
   ],
   "source": [
    "agent_out[-1].message_log[-1].additional_kwargs[\"tool_calls\"][-1]"
   ]
  },
  {
   "cell_type": "markdown",
   "metadata": {},
   "source": [
    "The agent won't perform the function calls themselvs, that is up to us and we will handle it in downstream actions through out agent\n",
    "graph.\n",
    "\n",
    "The infromation provided by `agent_out` will be used to decide whether we move to the `search` or `END` nodes of our graph. We'll \n",
    "also add a `error` handler node in case our agent fails to produce the output we need.\n",
    "\n",
    "### Define Nodes for Graph"
   ]
  },
  {
   "cell_type": "code",
   "execution_count": 53,
   "metadata": {},
   "outputs": [],
   "source": [
    "from langchain_core.agents import AgentFinish\n",
    "import json\n",
    "\n",
    "def run_query_agent(state: list):\n",
    "    print(\"> run_query_agent\")\n",
    "    agent_out = query_agent_runnable.invoke(state)\n",
    "    return {\"agent_out\": agent_out}\n",
    "\n",
    "def execute_search(state: list):\n",
    "    print(\"> execute_serach\")\n",
    "    action = state[\"agent_out\"]\n",
    "    tool_call = action[-1].message_log[-1].additional_kwargs[\"tool_calls\"][-1]\n",
    "    out = search_tool.invoke(\n",
    "        json.loads(tool_call[\"function\"][\"arguments\"])\n",
    "    )\n",
    "    return {\"intermediate_steps\": [{\"search\": str(out)}]}\n",
    "\n",
    "def router(state: list):\n",
    "    print(\"> router\")\n",
    "    if isinstance(state[\"agent_out\"], list):\n",
    "        return state[\"agent_out\"][-1].tool\n",
    "    else:\n",
    "        return \"error\"\n",
    "    \n",
    "# finally, we will have a single LLM call that MUST use the final_anser structure\n",
    "final_answer_llm = llm.bind_tools([final_answer_tool], tool_choice=\"final_answer\")\n",
    "\n",
    "# This forced final_answer LLM call will be used to structure output from our\n",
    "# RAG endpoint\n",
    "def rag_final_answer(state: list):\n",
    "    print(\"> final_answer\")\n",
    "    query = state.get(\"input\", \"\")\n",
    "    context = state[\"intermediate_steps\"][-1]\n",
    "\n",
    "    prompt = f\"\"\"You are a helpful assistant, answer the user's question using the\n",
    "    context provided.\n",
    "\n",
    "    CONTEXT: {context}\n",
    "\n",
    "    QUESTION: {query}\n",
    "    \"\"\"\n",
    "    out = final_answer_llm.invoke(prompt)\n",
    "    function_call = out.additional_kwargs[\"tool_calls\"][-1][\"function\"][\"arguments\"]\n",
    "    return {\"agent_out\": function_call}\n",
    "\n",
    "# we use the same forced final_answer LLM call to handle incorrectly formatted\n",
    "# output from our query_agent\n",
    "def handle_error(state: list):\n",
    "    print(\"> handle_error\")\n",
    "    query = state.get(\"input\", \"\")\n",
    "    prompt = f\"\"\"You are a helpful assistant, answer the user's question.\n",
    "\n",
    "    QUESTION: {query}\n",
    "    \"\"\"\n",
    "    out = final_answer_llm.invoke(prompt)\n",
    "    function_call = out.additional_kwargs[\"tool_calls\"][-1][\"function\"][\"arguments\"]\n",
    "    return {\"agent_out\": function_call}"
   ]
  },
  {
   "cell_type": "markdown",
   "metadata": {},
   "source": [
    "### Define Graph\n",
    "Our graph is constructed of `ndoes` and `edges`. A node represents a function (one of those we just defined above) whereas an edge\n",
    "allows us to travel from one node to another.\n",
    "\n",
    "Let's start by initializing our graph using our `AgentState` object and adding our first set of nodes and the graph entry point\n",
    "(ie where the graph begins once called)."
   ]
  },
  {
   "cell_type": "code",
   "execution_count": 54,
   "metadata": {},
   "outputs": [
    {
     "data": {
      "text/plain": [
       "<langgraph.graph.state.StateGraph at 0x16782abc0>"
      ]
     },
     "execution_count": 54,
     "metadata": {},
     "output_type": "execute_result"
    }
   ],
   "source": [
    "from langgraph.graph import StateGraph\n",
    "graph  = StateGraph(AgentState)\n",
    "\n",
    "# We have four nodes that will consume our agent state and modify\n",
    "# our agent state based on some interanl process\n",
    "graph.add_node(\"query_agent\", run_query_agent)\n",
    "graph.add_node(\"search\", execute_search)\n",
    "graph.add_node(\"error\", handle_error)\n",
    "graph.add_node(\"rag_final_answer\", rag_final_answer)\n",
    "\n",
    "# our grpah will always begin with the query agent\n",
    "graph.set_entry_point(\"query_agent\")\n"
   ]
  },
  {
   "cell_type": "markdown",
   "metadata": {},
   "source": [
    "In addition to our nodes we have our \"one-way\" edges — that is, once node X is called the state must continue to node Y as defined by these edges. We define these using:\n",
    "\n",
    "`graph.add_edge(X, Y)`\n",
    "If X or Y are defined nodes in our graph we pass the name of that node in string format. So, if we want to add an edge that navigates from our \"search\" node to our \"rag_final_answer\" node, we do:\n",
    "\n",
    "`graph.add_edge(\"search\", \"rag_final_answer\")`\n",
    "We will also have an end node in our graph — we have not defined this end node as it is imported as a specific graph object END. To use this, we must add edges between our final nodes and the END object, like so:\n",
    "\n",
    "`graph.add_edge(\"rag_final_answer\", END)`\n",
    "When the END node is called, our graph completes."
   ]
  },
  {
   "cell_type": "code",
   "execution_count": 55,
   "metadata": {},
   "outputs": [],
   "source": [
    "\n",
    "from langgraph.graph import Graph, END\n",
    "\n",
    "# create a graph object\n",
    "graph = Graph()\n",
    "\n",
    "# 添加节点的方式保持不变\n",
    "graph.add_node(\"query_agent\", run_query_agent)\n",
    "graph.add_node(\"search\", execute_search)\n",
    "graph.add_node(\"error\", handle_error)\n",
    "graph.add_node(\"rag_final_answer\", rag_final_answer)\n",
    "\n",
    "graph.set_entry_point(\"query_agent\")\n",
    "\n",
    "# conditional edges are controlled by our router\n",
    "graph.add_conditional_edges(\n",
    "    \"query_agent\",  # 起始节点\n",
    "    router,  # 路由函数\n",
    "    {  # 边的映射\n",
    "        \"search\": \"search\",\n",
    "        \"error\": \"error\",\n",
    "        \"final_answer\": END\n",
    "    }\n",
    ")\n",
    "\n",
    "graph.add_edge(\"search\", \"rag_final_answer\")\n",
    "graph.add_edge(\"error\", END)\n",
    "graph.add_edge(\"rag_final_answer\", END)\n",
    "\n",
    "runable = graph.compile()\n",
    "\n"
   ]
  },
  {
   "cell_type": "code",
   "execution_count": 56,
   "metadata": {},
   "outputs": [
    {
     "data": {
      "image/png": "[encoded data removed]",
      "text/plain": [
       "<IPython.core.display.Image object>"
      ]
     },
     "execution_count": 56,
     "metadata": {},
     "output_type": "execute_result"
    }
   ],
   "source": [
    "# Visualize the graph\n",
    "from IPython.display import Image\n",
    "Image(runable.get_graph().draw_png())"
   ]
  },
  {
   "cell_type": "code",
   "execution_count": 58,
   "metadata": {},
   "outputs": [
    {
     "name": "stdout",
     "output_type": "stream",
     "text": [
      "> run_query_agent\n",
      "> router\n",
      "> execute_serach\n",
      "> final_answer\n"
     ]
    },
    {
     "ename": "KeyError",
     "evalue": "'tool_calls'",
     "output_type": "error",
     "traceback": [
      "\u001b[0;31m---------------------------------------------------------------------------\u001b[0m",
      "\u001b[0;31mKeyError\u001b[0m                                  Traceback (most recent call last)",
      "Cell \u001b[0;32mIn[58], line 1\u001b[0m\n\u001b[0;32m----> 1\u001b[0m out \u001b[38;5;241m=\u001b[39m \u001b[43mrunnable\u001b[49m\u001b[38;5;241;43m.\u001b[39;49m\u001b[43minvoke\u001b[49m\u001b[43m(\u001b[49m\u001b[43m{\u001b[49m\n\u001b[1;32m      2\u001b[0m \u001b[43m    \u001b[49m\u001b[38;5;124;43m\"\u001b[39;49m\u001b[38;5;124;43minput\u001b[39;49m\u001b[38;5;124;43m\"\u001b[39;49m\u001b[43m:\u001b[49m\u001b[43m \u001b[49m\u001b[38;5;124;43m\"\u001b[39;49m\u001b[38;5;124;43mwhat is AI?\u001b[39;49m\u001b[38;5;124;43m\"\u001b[39;49m\u001b[43m,\u001b[49m\n\u001b[1;32m      3\u001b[0m \u001b[43m    \u001b[49m\u001b[38;5;124;43m\"\u001b[39;49m\u001b[38;5;124;43mchat_history\u001b[39;49m\u001b[38;5;124;43m\"\u001b[39;49m\u001b[43m:\u001b[49m\u001b[43m \u001b[49m\u001b[43m[\u001b[49m\u001b[43m]\u001b[49m\u001b[43m,\u001b[49m\n\u001b[1;32m      4\u001b[0m \u001b[43m    \u001b[49m\u001b[38;5;124;43m\"\u001b[39;49m\u001b[38;5;124;43mintermediate_steps\u001b[39;49m\u001b[38;5;124;43m\"\u001b[39;49m\u001b[43m:\u001b[49m\u001b[43m \u001b[49m\u001b[43m[\u001b[49m\u001b[43m]\u001b[49m\u001b[43m,\u001b[49m\n\u001b[1;32m      5\u001b[0m \u001b[43m    \u001b[49m\u001b[38;5;124;43m\"\u001b[39;49m\u001b[38;5;124;43magent_out\u001b[39;49m\u001b[38;5;124;43m\"\u001b[39;49m\u001b[43m:\u001b[49m\u001b[43m \u001b[49m\u001b[38;5;28;43;01mNone\u001b[39;49;00m\n\u001b[1;32m      6\u001b[0m \u001b[43m}\u001b[49m\u001b[43m)\u001b[49m\n",
      "File \u001b[0;32m/opt/homebrew/anaconda3/lib/python3.10/site-packages/langgraph/pregel/__init__.py:1560\u001b[0m, in \u001b[0;36mPregel.invoke\u001b[0;34m(self, input, config, stream_mode, output_keys, interrupt_before, interrupt_after, debug, **kwargs)\u001b[0m\n\u001b[1;32m   1558\u001b[0m \u001b[38;5;28;01melse\u001b[39;00m:\n\u001b[1;32m   1559\u001b[0m     chunks \u001b[38;5;241m=\u001b[39m []\n\u001b[0;32m-> 1560\u001b[0m \u001b[38;5;28;01mfor\u001b[39;00m chunk \u001b[38;5;129;01min\u001b[39;00m \u001b[38;5;28mself\u001b[39m\u001b[38;5;241m.\u001b[39mstream(\n\u001b[1;32m   1561\u001b[0m     \u001b[38;5;28minput\u001b[39m,\n\u001b[1;32m   1562\u001b[0m     config,\n\u001b[1;32m   1563\u001b[0m     stream_mode\u001b[38;5;241m=\u001b[39mstream_mode,\n\u001b[1;32m   1564\u001b[0m     output_keys\u001b[38;5;241m=\u001b[39moutput_keys,\n\u001b[1;32m   1565\u001b[0m     interrupt_before\u001b[38;5;241m=\u001b[39minterrupt_before,\n\u001b[1;32m   1566\u001b[0m     interrupt_after\u001b[38;5;241m=\u001b[39minterrupt_after,\n\u001b[1;32m   1567\u001b[0m     debug\u001b[38;5;241m=\u001b[39mdebug,\n\u001b[1;32m   1568\u001b[0m     \u001b[38;5;241m*\u001b[39m\u001b[38;5;241m*\u001b[39mkwargs,\n\u001b[1;32m   1569\u001b[0m ):\n\u001b[1;32m   1570\u001b[0m     \u001b[38;5;28;01mif\u001b[39;00m stream_mode \u001b[38;5;241m==\u001b[39m \u001b[38;5;124m\"\u001b[39m\u001b[38;5;124mvalues\u001b[39m\u001b[38;5;124m\"\u001b[39m:\n\u001b[1;32m   1571\u001b[0m         latest \u001b[38;5;241m=\u001b[39m chunk\n",
      "File \u001b[0;32m/opt/homebrew/anaconda3/lib/python3.10/site-packages/langgraph/pregel/__init__.py:1298\u001b[0m, in \u001b[0;36mPregel.stream\u001b[0;34m(self, input, config, stream_mode, output_keys, interrupt_before, interrupt_after, debug, subgraphs)\u001b[0m\n\u001b[1;32m   1287\u001b[0m     \u001b[38;5;66;03m# Similarly to Bulk Synchronous Parallel / Pregel model\u001b[39;00m\n\u001b[1;32m   1288\u001b[0m     \u001b[38;5;66;03m# computation proceeds in steps, while there are channel updates\u001b[39;00m\n\u001b[1;32m   1289\u001b[0m     \u001b[38;5;66;03m# channel updates from step N are only visible in step N+1\u001b[39;00m\n\u001b[1;32m   1290\u001b[0m     \u001b[38;5;66;03m# channels are guaranteed to be immutable for the duration of the step,\u001b[39;00m\n\u001b[1;32m   1291\u001b[0m     \u001b[38;5;66;03m# with channel updates applied only at the transition between steps\u001b[39;00m\n\u001b[1;32m   1292\u001b[0m     \u001b[38;5;28;01mwhile\u001b[39;00m loop\u001b[38;5;241m.\u001b[39mtick(\n\u001b[1;32m   1293\u001b[0m         input_keys\u001b[38;5;241m=\u001b[39m\u001b[38;5;28mself\u001b[39m\u001b[38;5;241m.\u001b[39minput_channels,\n\u001b[1;32m   1294\u001b[0m         interrupt_before\u001b[38;5;241m=\u001b[39minterrupt_before_,\n\u001b[1;32m   1295\u001b[0m         interrupt_after\u001b[38;5;241m=\u001b[39minterrupt_after_,\n\u001b[1;32m   1296\u001b[0m         manager\u001b[38;5;241m=\u001b[39mrun_manager,\n\u001b[1;32m   1297\u001b[0m     ):\n\u001b[0;32m-> 1298\u001b[0m         \u001b[38;5;28;01mfor\u001b[39;00m _ \u001b[38;5;129;01min\u001b[39;00m runner\u001b[38;5;241m.\u001b[39mtick(\n\u001b[1;32m   1299\u001b[0m             loop\u001b[38;5;241m.\u001b[39mtasks\u001b[38;5;241m.\u001b[39mvalues(),\n\u001b[1;32m   1300\u001b[0m             timeout\u001b[38;5;241m=\u001b[39m\u001b[38;5;28mself\u001b[39m\u001b[38;5;241m.\u001b[39mstep_timeout,\n\u001b[1;32m   1301\u001b[0m             retry_policy\u001b[38;5;241m=\u001b[39m\u001b[38;5;28mself\u001b[39m\u001b[38;5;241m.\u001b[39mretry_policy,\n\u001b[1;32m   1302\u001b[0m             get_waiter\u001b[38;5;241m=\u001b[39mget_waiter,\n\u001b[1;32m   1303\u001b[0m         ):\n\u001b[1;32m   1304\u001b[0m             \u001b[38;5;66;03m# emit output\u001b[39;00m\n\u001b[1;32m   1305\u001b[0m             \u001b[38;5;28;01myield from\u001b[39;00m output()\n\u001b[1;32m   1306\u001b[0m \u001b[38;5;66;03m# emit output\u001b[39;00m\n",
      "File \u001b[0;32m/opt/homebrew/anaconda3/lib/python3.10/site-packages/langgraph/pregel/runner.py:56\u001b[0m, in \u001b[0;36mPregelRunner.tick\u001b[0;34m(self, tasks, reraise, timeout, retry_policy, get_waiter)\u001b[0m\n\u001b[1;32m     54\u001b[0m t \u001b[38;5;241m=\u001b[39m tasks[\u001b[38;5;241m0\u001b[39m]\n\u001b[1;32m     55\u001b[0m \u001b[38;5;28;01mtry\u001b[39;00m:\n\u001b[0;32m---> 56\u001b[0m     \u001b[43mrun_with_retry\u001b[49m\u001b[43m(\u001b[49m\u001b[43mt\u001b[49m\u001b[43m,\u001b[49m\u001b[43m \u001b[49m\u001b[43mretry_policy\u001b[49m\u001b[43m)\u001b[49m\n\u001b[1;32m     57\u001b[0m     \u001b[38;5;28mself\u001b[39m\u001b[38;5;241m.\u001b[39mcommit(t, \u001b[38;5;28;01mNone\u001b[39;00m)\n\u001b[1;32m     58\u001b[0m \u001b[38;5;28;01mexcept\u001b[39;00m \u001b[38;5;167;01mException\u001b[39;00m \u001b[38;5;28;01mas\u001b[39;00m exc:\n",
      "File \u001b[0;32m/opt/homebrew/anaconda3/lib/python3.10/site-packages/langgraph/pregel/retry.py:29\u001b[0m, in \u001b[0;36mrun_with_retry\u001b[0;34m(task, retry_policy)\u001b[0m\n\u001b[1;32m     27\u001b[0m task\u001b[38;5;241m.\u001b[39mwrites\u001b[38;5;241m.\u001b[39mclear()\n\u001b[1;32m     28\u001b[0m \u001b[38;5;66;03m# run the task\u001b[39;00m\n\u001b[0;32m---> 29\u001b[0m \u001b[43mtask\u001b[49m\u001b[38;5;241;43m.\u001b[39;49m\u001b[43mproc\u001b[49m\u001b[38;5;241;43m.\u001b[39;49m\u001b[43minvoke\u001b[49m\u001b[43m(\u001b[49m\u001b[43mtask\u001b[49m\u001b[38;5;241;43m.\u001b[39;49m\u001b[43minput\u001b[49m\u001b[43m,\u001b[49m\u001b[43m \u001b[49m\u001b[43mconfig\u001b[49m\u001b[43m)\u001b[49m\n\u001b[1;32m     30\u001b[0m \u001b[38;5;66;03m# if successful, end\u001b[39;00m\n\u001b[1;32m     31\u001b[0m \u001b[38;5;28;01mbreak\u001b[39;00m\n",
      "File \u001b[0;32m/opt/homebrew/anaconda3/lib/python3.10/site-packages/langgraph/utils/runnable.py:409\u001b[0m, in \u001b[0;36mRunnableSeq.invoke\u001b[0;34m(self, input, config, **kwargs)\u001b[0m\n\u001b[1;32m    407\u001b[0m context\u001b[38;5;241m.\u001b[39mrun(_set_config_context, config)\n\u001b[1;32m    408\u001b[0m \u001b[38;5;28;01mif\u001b[39;00m i \u001b[38;5;241m==\u001b[39m \u001b[38;5;241m0\u001b[39m:\n\u001b[0;32m--> 409\u001b[0m     \u001b[38;5;28minput\u001b[39m \u001b[38;5;241m=\u001b[39m \u001b[43mcontext\u001b[49m\u001b[38;5;241;43m.\u001b[39;49m\u001b[43mrun\u001b[49m\u001b[43m(\u001b[49m\u001b[43mstep\u001b[49m\u001b[38;5;241;43m.\u001b[39;49m\u001b[43minvoke\u001b[49m\u001b[43m,\u001b[49m\u001b[43m \u001b[49m\u001b[38;5;28;43minput\u001b[39;49m\u001b[43m,\u001b[49m\u001b[43m \u001b[49m\u001b[43mconfig\u001b[49m\u001b[43m,\u001b[49m\u001b[43m \u001b[49m\u001b[38;5;241;43m*\u001b[39;49m\u001b[38;5;241;43m*\u001b[39;49m\u001b[43mkwargs\u001b[49m\u001b[43m)\u001b[49m\n\u001b[1;32m    410\u001b[0m \u001b[38;5;28;01melse\u001b[39;00m:\n\u001b[1;32m    411\u001b[0m     \u001b[38;5;28minput\u001b[39m \u001b[38;5;241m=\u001b[39m context\u001b[38;5;241m.\u001b[39mrun(step\u001b[38;5;241m.\u001b[39minvoke, \u001b[38;5;28minput\u001b[39m, config)\n",
      "File \u001b[0;32m/opt/homebrew/anaconda3/lib/python3.10/site-packages/langgraph/utils/runnable.py:183\u001b[0m, in \u001b[0;36mRunnableCallable.invoke\u001b[0;34m(self, input, config, **kwargs)\u001b[0m\n\u001b[1;32m    181\u001b[0m \u001b[38;5;28;01melse\u001b[39;00m:\n\u001b[1;32m    182\u001b[0m     context\u001b[38;5;241m.\u001b[39mrun(_set_config_context, config)\n\u001b[0;32m--> 183\u001b[0m     ret \u001b[38;5;241m=\u001b[39m \u001b[43mcontext\u001b[49m\u001b[38;5;241;43m.\u001b[39;49m\u001b[43mrun\u001b[49m\u001b[43m(\u001b[49m\u001b[38;5;28;43mself\u001b[39;49m\u001b[38;5;241;43m.\u001b[39;49m\u001b[43mfunc\u001b[49m\u001b[43m,\u001b[49m\u001b[43m \u001b[49m\u001b[38;5;28;43minput\u001b[39;49m\u001b[43m,\u001b[49m\u001b[43m \u001b[49m\u001b[38;5;241;43m*\u001b[39;49m\u001b[38;5;241;43m*\u001b[39;49m\u001b[43mkwargs\u001b[49m\u001b[43m)\u001b[49m\n\u001b[1;32m    184\u001b[0m \u001b[38;5;28;01mif\u001b[39;00m \u001b[38;5;28misinstance\u001b[39m(ret, Runnable) \u001b[38;5;129;01mand\u001b[39;00m \u001b[38;5;28mself\u001b[39m\u001b[38;5;241m.\u001b[39mrecurse:\n\u001b[1;32m    185\u001b[0m     \u001b[38;5;28;01mreturn\u001b[39;00m ret\u001b[38;5;241m.\u001b[39minvoke(\u001b[38;5;28minput\u001b[39m, config)\n",
      "Cell \u001b[0;32mIn[53], line 43\u001b[0m, in \u001b[0;36mrag_final_answer\u001b[0;34m(state)\u001b[0m\n\u001b[1;32m     35\u001b[0m prompt \u001b[38;5;241m=\u001b[39m \u001b[38;5;124mf\u001b[39m\u001b[38;5;124m\"\"\"\u001b[39m\u001b[38;5;124mYou are a helpful assistant, answer the user\u001b[39m\u001b[38;5;124m'\u001b[39m\u001b[38;5;124ms question using the\u001b[39m\n\u001b[1;32m     36\u001b[0m \u001b[38;5;124mcontext provided.\u001b[39m\n\u001b[1;32m     37\u001b[0m \n\u001b[0;32m   (...)\u001b[0m\n\u001b[1;32m     40\u001b[0m \u001b[38;5;124mQUESTION: \u001b[39m\u001b[38;5;132;01m{\u001b[39;00mquery\u001b[38;5;132;01m}\u001b[39;00m\n\u001b[1;32m     41\u001b[0m \u001b[38;5;124m\u001b[39m\u001b[38;5;124m\"\"\"\u001b[39m\n\u001b[1;32m     42\u001b[0m out \u001b[38;5;241m=\u001b[39m final_answer_llm\u001b[38;5;241m.\u001b[39minvoke(prompt)\n\u001b[0;32m---> 43\u001b[0m function_call \u001b[38;5;241m=\u001b[39m \u001b[43mout\u001b[49m\u001b[38;5;241;43m.\u001b[39;49m\u001b[43madditional_kwargs\u001b[49m\u001b[43m[\u001b[49m\u001b[38;5;124;43m\"\u001b[39;49m\u001b[38;5;124;43mtool_calls\u001b[39;49m\u001b[38;5;124;43m\"\u001b[39;49m\u001b[43m]\u001b[49m[\u001b[38;5;241m-\u001b[39m\u001b[38;5;241m1\u001b[39m][\u001b[38;5;124m\"\u001b[39m\u001b[38;5;124mfunction\u001b[39m\u001b[38;5;124m\"\u001b[39m][\u001b[38;5;124m\"\u001b[39m\u001b[38;5;124marguments\u001b[39m\u001b[38;5;124m\"\u001b[39m]\n\u001b[1;32m     44\u001b[0m \u001b[38;5;28;01mreturn\u001b[39;00m {\u001b[38;5;124m\"\u001b[39m\u001b[38;5;124magent_out\u001b[39m\u001b[38;5;124m\"\u001b[39m: function_call}\n",
      "\u001b[0;31mKeyError\u001b[0m: 'tool_calls'"
     ]
    }
   ],
   "source": [
    "out = runnable.invoke({\n",
    "    \"input\": \"what is AI?\",\n",
    "    \"chat_history\": [],\n",
    "    \"intermediate_steps\": [],\n",
    "    \"agent_out\": None\n",
    "})"
   ]
  },
  {
   "cell_type": "markdown",
   "metadata": {},
   "source": [
    "### Many be model can not support function call"
   ]
  }
 ],
 "metadata": {
  "kernelspec": {
   "display_name": "base",
   "language": "python",
   "name": "python3"
  },
  "language_info": {
   "codemirror_mode": {
    "name": "ipython",
    "version": 3
   },
   "file_extension": ".py",
   "mimetype": "text/x-python",
   "name": "python",
   "nbconvert_exporter": "python",
   "pygments_lexer": "ipython3",
   "version": "3.10.9"
  }
 },
 "nbformat": 4,
 "nbformat_minor": 2
}
