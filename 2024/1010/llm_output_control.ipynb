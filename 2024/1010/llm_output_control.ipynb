{
 "cells": [
  {
   "cell_type": "markdown",
   "id": "ba5fe875-11ab-4e79-8c15-03ac3d9d7e23",
   "metadata": {},
   "source": [
    "### LLM output control"
   ]
  },
  {
   "cell_type": "code",
   "execution_count": 6,
   "id": "4edafae4-9551-4a89-9787-bca45735868b",
   "metadata": {},
   "outputs": [
    {
     "name": "stdout",
     "output_type": "stream",
     "text": [
      "the config load success\n",
      "Yes, I know Chengdu! It's a fascinating city in southwest China, known for:\n",
      "\n",
      "* **Giant pandas:** Chengdu is home to the Chengdu Research Base of Giant Panda Breeding, a world-renowned facility where you can see these adorable creatures up close.\n",
      "* **Spicy food:** Chengdu is famous for its Sichuan cuisine, which is known for its bold flavors, especially its use of chili peppers. Some popular dishes include Sichuan hotpot, mapo tofu, and dan dan noodles.\n",
      "* **Historical sites:** Chengdu has a rich history dating back over 2,000 years. You can visit ancient temples, pagodas, and other historical landmarks.\n",
      "* **Modern attractions:** Chengdu is a modern city with a vibrant cultural scene, including museums, art galleries, and theaters.\n",
      "* **Beautiful scenery:** The city is surrounded by mountains and rivers, offering stunning natural beauty.\n",
      "\n",
      "Do you have any specific questions about Chengdu? I'd be happy to share more information. \n",
      "\n"
     ]
    }
   ],
   "source": [
    "import os\n",
    "from langchain_google_vertexai import ChatVertexAI\n",
    "from langchain.callbacks.streaming_stdout import StreamingStdOutCallbackHandler\n",
    "\n",
    "# [Optinal] set proxy\n",
    "proxy = \"http://127.0.0.1:7897\"\n",
    "os.environ[\"HTTP_PROXY\"] = proxy\n",
    "os.environ[\"HTTPS_PROXY\"] = proxy\n",
    "os.environ[\"http_proxy\"] = proxy\n",
    "os.environ[\"https_proxy\"] = proxy\n",
    "\n",
    "# load google access config file\n",
    "credential_path=\"/Users/gongbiao/Code/vertex-ai/config/google_access_token_cp.json\"\n",
    "if os.path.exists(credential_path):\n",
    "    print(f\"the config load success\")\n",
    "else:\n",
    "    print(\"config file does'not exists!\")\n",
    "    \n",
    "# init vertex ai\n",
    "os.environ['GOOGLE_APPLICATION_CREDENTIALS'] = credential_path\n",
    "\n",
    "# Use chat mode\n",
    "model = ChatVertexAI(\n",
    "    model_name=\"gemini-1.5-flash\",\n",
    "    temperature=0,\n",
    "    streaming=True,\n",
    "    callbacks=[StreamingStdOutCallbackHandler()]\n",
    ")\n",
    "# Steaming output\n",
    "#response = model.invoke(\"Do you know chengdu?\")\n",
    "#print()"
   ]
  },
  {
   "cell_type": "markdown",
   "id": "a449e99a-0dc3-44d8-9962-2cf5fa94a5e9",
   "metadata": {},
   "source": [
    "### 自定义输出为 pydantic 对象"
   ]
  },
  {
   "cell_type": "code",
   "execution_count": 28,
   "id": "0ad7a511-8425-44e0-a6d7-a669e3a55bbb",
   "metadata": {},
   "outputs": [
    {
     "name": "stdout",
     "output_type": "stream",
     "text": [
      "the config load success\n",
      "output: content='```json\\n{\"setup\": \"为什么企鹅不会飞？\", \"punchline\": \"因为他们太胖了，而且穿了燕尾服！\"}\\n```' additional_kwargs={} response_metadata={'is_blocked': False, 'safety_ratings': [{'category': 'HARM_CATEGORY_HATE_SPEECH', 'probability_label': 'LOW', 'blocked': False, 'severity': 'HARM_SEVERITY_LOW'}, {'category': 'HARM_CATEGORY_DANGEROUS_CONTENT', 'probability_label': 'NEGLIGIBLE', 'blocked': False, 'severity': 'HARM_SEVERITY_NEGLIGIBLE'}, {'category': 'HARM_CATEGORY_HARASSMENT', 'probability_label': 'LOW', 'blocked': False, 'severity': 'HARM_SEVERITY_LOW'}, {'category': 'HARM_CATEGORY_SEXUALLY_EXPLICIT', 'probability_label': 'NEGLIGIBLE', 'blocked': False, 'severity': 'HARM_SEVERITY_NEGLIGIBLE'}], 'usage_metadata': {'prompt_token_count': 197, 'candidates_token_count': 35, 'total_token_count': 232, 'cached_content_token_count': 0}, 'finish_reason': 'STOP', 'avg_logprobs': -0.12626259667532785} id='run-262ba6c3-3e6d-4add-a2e8-309f8ec27dc0-0' usage_metadata={'input_tokens': 197, 'output_tokens': 35, 'total_tokens': 232}\n"
     ]
    },
    {
     "data": {
      "text/plain": [
       "Joke(setup='为什么企鹅不会飞？', punchline='因为他们太胖了，而且穿了燕尾服！')"
      ]
     },
     "execution_count": 28,
     "metadata": {},
     "output_type": "execute_result"
    }
   ],
   "source": [
    "import os\n",
    "from langchain_google_vertexai import ChatVertexAI\n",
    "from langchain.output_parsers import PydanticOutputParser\n",
    "from langchain.prompts import PromptTemplate\n",
    "from pydantic import BaseModel, Field, field_validator\n",
    "\n",
    "\n",
    "\n",
    "# 定义一个数据模板，用来描述最终的实例结构\n",
    "class Joke(BaseModel):\n",
    "    setup:str = Field(description=\"设置笑话的问题\")\n",
    "    punchline:str = Field(description=\"回答笑话的答案\")\n",
    "        \n",
    "    # 验证问题是否符合要求\n",
    "    @field_validator(\"setup\")\n",
    "    @classmethod\n",
    "    def question_mark(cls, field):\n",
    "        if field[-1] not in [\"?\", \"？\"]:\n",
    "            raise ValueError(\"不符合预期的问题格式!\")\n",
    "        return field\n",
    "    \n",
    "\n",
    "# 设置 Joke 数据模型传入\n",
    "parser = PydanticOutputParser(pydantic_object=Joke)\n",
    "\n",
    "# 设置提示词模板\n",
    "prompt = PromptTemplate(\n",
    "    template = \"回答用户的输入.\\n{format_instructions}\\n{query}\\n\",\n",
    "    input_variables = [\"query\"],\n",
    "    partial_variables = {\"format_instructions\": parser.get_format_instructions()}\n",
    ")\n",
    "\n",
    "# ---------------------------------\n",
    "\n",
    "# [Optinal] set proxy\n",
    "proxy = \"http://127.0.0.1:8889\"\n",
    "os.environ[\"HTTP_PROXY\"] = proxy\n",
    "os.environ[\"HTTPS_PROXY\"] = proxy\n",
    "os.environ[\"http_proxy\"] = proxy\n",
    "os.environ[\"https_proxy\"] = proxy\n",
    "\n",
    "# load google access config file\n",
    "credential_path=\"/Users/gongbiao/Code/vertex-ai/config/google_access_token_cp.json\"\n",
    "if os.path.exists(credential_path):\n",
    "    print(f\"the config load success\")\n",
    "else:\n",
    "    print(\"config file does'not exists!\")\n",
    "    \n",
    "# init vertex ai\n",
    "os.environ['GOOGLE_APPLICATION_CREDENTIALS'] = credential_path\n",
    "# Use chat mode\n",
    "model = ChatVertexAI(model_name=\"gemini-1.5-flash\", temperature=0)\n",
    "\n",
    "prompt_and_model = prompt | model\n",
    "output = prompt_and_model.invoke({\"query\": \"给老子讲个笑话\"})\n",
    "print(\"output:\", output)\n",
    "parser.invoke(output)\n",
    "\n",
    "\n"
   ]
  },
  {
   "cell_type": "code",
   "execution_count": 47,
   "id": "77da0049-59a2-4019-8c8e-aefea14b2300",
   "metadata": {},
   "outputs": [
    {
     "name": "stdout",
     "output_type": "stream",
     "text": [
      "the config load success\n",
      "土狗, 大黄, 花花 \n",
      "\n",
      "type: <class 'list'>\n",
      "['土狗', '大黄', '花花']\n"
     ]
    }
   ],
   "source": [
    "\n",
    "### LLM 输出格式化成 python list 形式，类似['a', 'b', 'c']\n",
    "from langchain.output_parsers import CommaSeparatedListOutputParser\n",
    "from langchain.prompts import PromptTemplate\n",
    "from langchain.schema import HumanMessage\n",
    "import os\n",
    "\n",
    "parser = CommaSeparatedListOutputParser()\n",
    "prompt = PromptTemplate(\n",
    "    template=\"列出{count}个{subject}.\\n{format_instructions}\",\n",
    "    input_variables=[\"count\", \"subject\"],\n",
    "    partial_variables={\"format_instructions\": parser.get_format_instructions()}\n",
    ")\n",
    "\n",
    "_input = prompt.format(count=\"3\", subject=\"常见的中国田园犬名字\")\n",
    "# Create a HumanMessage object with the input\n",
    "human_message = HumanMessage(content=_input)\n",
    "\n",
    "\n",
    "# ---------------------------------\n",
    "\n",
    "# [Optinal] set proxy\n",
    "proxy = \"http://127.0.0.1:8889\"\n",
    "os.environ[\"HTTP_PROXY\"] = proxy\n",
    "os.environ[\"HTTPS_PROXY\"] = proxy\n",
    "os.environ[\"http_proxy\"] = proxy\n",
    "os.environ[\"https_proxy\"] = proxy\n",
    "\n",
    "# load google access config file\n",
    "credential_path=\"/Users/gongbiao/Code/vertex-ai/config/google_access_token_cp.json\"\n",
    "if os.path.exists(credential_path):\n",
    "    print(f\"the config load success\")\n",
    "else:\n",
    "    print(\"config file does'not exists!\")\n",
    "    \n",
    "# init vertex ai\n",
    "os.environ['GOOGLE_APPLICATION_CREDENTIALS'] = credential_path\n",
    "# Use chat mode\n",
    "model = ChatVertexAI(model_name=\"gemini-1.5-flash\", temperature=0)\n",
    "\n",
    "response = model([human_message])\n",
    "print(response.content)\n",
    "\n",
    "# Format\n",
    "output = parser.parse(response.content)\n",
    "print(\"type:\", type(output))\n",
    "print(output)\n"
   ]
  },
  {
   "cell_type": "code",
   "execution_count": null,
   "id": "64ce8bc3-e9c9-427d-a8df-69815b1c32df",
   "metadata": {},
   "outputs": [],
   "source": []
  },
  {
   "cell_type": "code",
   "execution_count": null,
   "id": "8b40d596-dbba-4cfd-bdfe-e96716c146bf",
   "metadata": {},
   "outputs": [],
   "source": []
  }
 ],
 "metadata": {
  "kernelspec": {
   "display_name": "Python 3 (ipykernel)",
   "language": "python",
   "name": "python3"
  },
  "language_info": {
   "codemirror_mode": {
    "name": "ipython",
    "version": 3
   },
   "file_extension": ".py",
   "mimetype": "text/x-python",
   "name": "python",
   "nbconvert_exporter": "python",
   "pygments_lexer": "ipython3",
   "version": "3.10.9"
  }
 },
 "nbformat": 4,
 "nbformat_minor": 5
}
